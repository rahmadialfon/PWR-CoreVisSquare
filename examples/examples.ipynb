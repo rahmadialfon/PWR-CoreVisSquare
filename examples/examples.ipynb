{
 "cells": [
  {
   "cell_type": "code",
   "execution_count": 4,
   "metadata": {},
   "outputs": [],
   "source": [
    "# Import required libraries\n",
    "import sys\n",
    "\n",
    "# Add the src directory to Python path\n",
    "sys.path.append('../src')\n",
    "\n",
    "# Import the functions\n",
    "from InitialCoreVisualizer import init_core_map\n",
    "from CoreMapVis import CoreMapVisualizer, info_reader, core_reader\n",
    "from FAMapVis import FA_visualizer, info_reader, FA_reader\n"
   ]
  },
  {
   "cell_type": "code",
   "execution_count": 5,
   "metadata": {},
   "outputs": [
    {
     "data": {
      "application/vnd.plotly.v1+json": {
       "config": {
        "plotlyServerURL": "https://plot.ly"
       },
       "data": [],
       "layout": {
        "annotations": [
         {
          "font": {
           "size": 16
          },
          "showarrow": false,
          "text": "Core Map (1/4 Symmetry)",
          "x": 0.225,
          "xanchor": "center",
          "xref": "paper",
          "y": 1,
          "yanchor": "bottom",
          "yref": "paper"
         },
         {
          "font": {
           "size": 16
          },
          "showarrow": false,
          "text": "Single Fuel Assembly",
          "x": 0.775,
          "xanchor": "center",
          "xref": "paper",
          "y": 1,
          "yanchor": "bottom",
          "yref": "paper"
         }
        ],
        "height": 800,
        "plot_bgcolor": "white",
        "shapes": [
         {
          "fillcolor": "lightgrey",
          "layer": "below",
          "line": {
           "color": "blue",
           "width": 2
          },
          "name": "Core Boundary",
          "opacity": 0.5,
          "type": "circle",
          "x0": -170,
          "x1": 170,
          "xref": "x",
          "y0": -170,
          "y1": 170,
          "yref": "y"
         },
         {
          "fillcolor": "lightblue",
          "layer": "below",
          "line": {
           "color": "green",
           "width": 2
          },
          "name": "Imaginary Core Boundary",
          "opacity": 0.5,
          "type": "circle",
          "x0": -159.95534329694732,
          "x1": 159.95534329694732,
          "xref": "x",
          "y0": -159.95534329694732,
          "y1": 159.95534329694732,
          "yref": "y"
         },
         {
          "fillcolor": "red",
          "line": {
           "color": "black",
           "width": 1
          },
          "name": "FA",
          "opacity": 1,
          "type": "rect",
          "x0": 0,
          "x1": 20.08931340610535,
          "xref": "x",
          "y0": 0,
          "y1": 20.08931340610535,
          "yref": "y"
         },
         {
          "fillcolor": "red",
          "line": {
           "color": "black",
           "width": 1
          },
          "name": "FA",
          "opacity": 1,
          "type": "rect",
          "x0": 20.08931340610535,
          "x1": 40.1786268122107,
          "xref": "x",
          "y0": 0,
          "y1": 20.08931340610535,
          "yref": "y"
         },
         {
          "fillcolor": "red",
          "line": {
           "color": "black",
           "width": 1
          },
          "name": "FA",
          "opacity": 1,
          "type": "rect",
          "x0": 40.1786268122107,
          "x1": 60.267940218316056,
          "xref": "x",
          "y0": 0,
          "y1": 20.08931340610535,
          "yref": "y"
         },
         {
          "fillcolor": "red",
          "line": {
           "color": "black",
           "width": 1
          },
          "name": "FA",
          "opacity": 1,
          "type": "rect",
          "x0": 60.267940218316056,
          "x1": 80.3572536244214,
          "xref": "x",
          "y0": 0,
          "y1": 20.08931340610535,
          "yref": "y"
         },
         {
          "fillcolor": "red",
          "line": {
           "color": "black",
           "width": 1
          },
          "name": "FA",
          "opacity": 1,
          "type": "rect",
          "x0": 80.3572536244214,
          "x1": 100.44656703052675,
          "xref": "x",
          "y0": 0,
          "y1": 20.08931340610535,
          "yref": "y"
         },
         {
          "fillcolor": "red",
          "line": {
           "color": "black",
           "width": 1
          },
          "name": "FA",
          "opacity": 1,
          "type": "rect",
          "x0": 100.44656703052675,
          "x1": 120.53588043663211,
          "xref": "x",
          "y0": 0,
          "y1": 20.08931340610535,
          "yref": "y"
         },
         {
          "fillcolor": "red",
          "line": {
           "color": "black",
           "width": 1
          },
          "name": "FA",
          "opacity": 1,
          "type": "rect",
          "x0": 120.53588043663211,
          "x1": 140.62519384273745,
          "xref": "x",
          "y0": 0,
          "y1": 20.08931340610535,
          "yref": "y"
         },
         {
          "fillcolor": "red",
          "line": {
           "color": "black",
           "width": 1
          },
          "name": "FA",
          "opacity": 1,
          "type": "rect",
          "x0": 140.62519384273745,
          "x1": 160.7145072488428,
          "xref": "x",
          "y0": 0,
          "y1": 20.08931340610535,
          "yref": "y"
         },
         {
          "fillcolor": "red",
          "line": {
           "color": "black",
           "width": 1
          },
          "name": "FA",
          "opacity": 1,
          "type": "rect",
          "x0": 0,
          "x1": 20.08931340610535,
          "xref": "x",
          "y0": 20.08931340610535,
          "y1": 40.1786268122107,
          "yref": "y"
         },
         {
          "fillcolor": "red",
          "line": {
           "color": "black",
           "width": 1
          },
          "name": "FA",
          "opacity": 1,
          "type": "rect",
          "x0": 20.08931340610535,
          "x1": 40.1786268122107,
          "xref": "x",
          "y0": 20.08931340610535,
          "y1": 40.1786268122107,
          "yref": "y"
         },
         {
          "fillcolor": "red",
          "line": {
           "color": "black",
           "width": 1
          },
          "name": "FA",
          "opacity": 1,
          "type": "rect",
          "x0": 40.1786268122107,
          "x1": 60.267940218316056,
          "xref": "x",
          "y0": 20.08931340610535,
          "y1": 40.1786268122107,
          "yref": "y"
         },
         {
          "fillcolor": "red",
          "line": {
           "color": "black",
           "width": 1
          },
          "name": "FA",
          "opacity": 1,
          "type": "rect",
          "x0": 60.267940218316056,
          "x1": 80.3572536244214,
          "xref": "x",
          "y0": 20.08931340610535,
          "y1": 40.1786268122107,
          "yref": "y"
         },
         {
          "fillcolor": "red",
          "line": {
           "color": "black",
           "width": 1
          },
          "name": "FA",
          "opacity": 1,
          "type": "rect",
          "x0": 80.3572536244214,
          "x1": 100.44656703052675,
          "xref": "x",
          "y0": 20.08931340610535,
          "y1": 40.1786268122107,
          "yref": "y"
         },
         {
          "fillcolor": "red",
          "line": {
           "color": "black",
           "width": 1
          },
          "name": "FA",
          "opacity": 1,
          "type": "rect",
          "x0": 100.44656703052675,
          "x1": 120.53588043663211,
          "xref": "x",
          "y0": 20.08931340610535,
          "y1": 40.1786268122107,
          "yref": "y"
         },
         {
          "fillcolor": "red",
          "line": {
           "color": "black",
           "width": 1
          },
          "name": "FA",
          "opacity": 1,
          "type": "rect",
          "x0": 120.53588043663211,
          "x1": 140.62519384273745,
          "xref": "x",
          "y0": 20.08931340610535,
          "y1": 40.1786268122107,
          "yref": "y"
         },
         {
          "fillcolor": "red",
          "line": {
           "color": "black",
           "width": 1
          },
          "name": "FA",
          "opacity": 1,
          "type": "rect",
          "x0": 140.62519384273745,
          "x1": 160.7145072488428,
          "xref": "x",
          "y0": 20.08931340610535,
          "y1": 40.1786268122107,
          "yref": "y"
         },
         {
          "fillcolor": "red",
          "line": {
           "color": "black",
           "width": 1
          },
          "name": "FA",
          "opacity": 1,
          "type": "rect",
          "x0": 0,
          "x1": 20.08931340610535,
          "xref": "x",
          "y0": 40.1786268122107,
          "y1": 60.267940218316056,
          "yref": "y"
         },
         {
          "fillcolor": "red",
          "line": {
           "color": "black",
           "width": 1
          },
          "name": "FA",
          "opacity": 1,
          "type": "rect",
          "x0": 20.08931340610535,
          "x1": 40.1786268122107,
          "xref": "x",
          "y0": 40.1786268122107,
          "y1": 60.267940218316056,
          "yref": "y"
         },
         {
          "fillcolor": "red",
          "line": {
           "color": "black",
           "width": 1
          },
          "name": "FA",
          "opacity": 1,
          "type": "rect",
          "x0": 40.1786268122107,
          "x1": 60.267940218316056,
          "xref": "x",
          "y0": 40.1786268122107,
          "y1": 60.267940218316056,
          "yref": "y"
         },
         {
          "fillcolor": "red",
          "line": {
           "color": "black",
           "width": 1
          },
          "name": "FA",
          "opacity": 1,
          "type": "rect",
          "x0": 60.267940218316056,
          "x1": 80.3572536244214,
          "xref": "x",
          "y0": 40.1786268122107,
          "y1": 60.267940218316056,
          "yref": "y"
         },
         {
          "fillcolor": "red",
          "line": {
           "color": "black",
           "width": 1
          },
          "name": "FA",
          "opacity": 1,
          "type": "rect",
          "x0": 80.3572536244214,
          "x1": 100.44656703052675,
          "xref": "x",
          "y0": 40.1786268122107,
          "y1": 60.267940218316056,
          "yref": "y"
         },
         {
          "fillcolor": "red",
          "line": {
           "color": "black",
           "width": 1
          },
          "name": "FA",
          "opacity": 1,
          "type": "rect",
          "x0": 100.44656703052675,
          "x1": 120.53588043663211,
          "xref": "x",
          "y0": 40.1786268122107,
          "y1": 60.267940218316056,
          "yref": "y"
         },
         {
          "fillcolor": "red",
          "line": {
           "color": "black",
           "width": 1
          },
          "name": "FA",
          "opacity": 1,
          "type": "rect",
          "x0": 120.53588043663211,
          "x1": 140.62519384273745,
          "xref": "x",
          "y0": 40.1786268122107,
          "y1": 60.267940218316056,
          "yref": "y"
         },
         {
          "fillcolor": "red",
          "line": {
           "color": "black",
           "width": 1
          },
          "name": "FA",
          "opacity": 1,
          "type": "rect",
          "x0": 0,
          "x1": 20.08931340610535,
          "xref": "x",
          "y0": 60.267940218316056,
          "y1": 80.3572536244214,
          "yref": "y"
         },
         {
          "fillcolor": "red",
          "line": {
           "color": "black",
           "width": 1
          },
          "name": "FA",
          "opacity": 1,
          "type": "rect",
          "x0": 20.08931340610535,
          "x1": 40.1786268122107,
          "xref": "x",
          "y0": 60.267940218316056,
          "y1": 80.3572536244214,
          "yref": "y"
         },
         {
          "fillcolor": "red",
          "line": {
           "color": "black",
           "width": 1
          },
          "name": "FA",
          "opacity": 1,
          "type": "rect",
          "x0": 40.1786268122107,
          "x1": 60.267940218316056,
          "xref": "x",
          "y0": 60.267940218316056,
          "y1": 80.3572536244214,
          "yref": "y"
         },
         {
          "fillcolor": "red",
          "line": {
           "color": "black",
           "width": 1
          },
          "name": "FA",
          "opacity": 1,
          "type": "rect",
          "x0": 60.267940218316056,
          "x1": 80.3572536244214,
          "xref": "x",
          "y0": 60.267940218316056,
          "y1": 80.3572536244214,
          "yref": "y"
         },
         {
          "fillcolor": "red",
          "line": {
           "color": "black",
           "width": 1
          },
          "name": "FA",
          "opacity": 1,
          "type": "rect",
          "x0": 80.3572536244214,
          "x1": 100.44656703052675,
          "xref": "x",
          "y0": 60.267940218316056,
          "y1": 80.3572536244214,
          "yref": "y"
         },
         {
          "fillcolor": "red",
          "line": {
           "color": "black",
           "width": 1
          },
          "name": "FA",
          "opacity": 1,
          "type": "rect",
          "x0": 100.44656703052675,
          "x1": 120.53588043663211,
          "xref": "x",
          "y0": 60.267940218316056,
          "y1": 80.3572536244214,
          "yref": "y"
         },
         {
          "fillcolor": "red",
          "line": {
           "color": "black",
           "width": 1
          },
          "name": "FA",
          "opacity": 1,
          "type": "rect",
          "x0": 120.53588043663211,
          "x1": 140.62519384273745,
          "xref": "x",
          "y0": 60.267940218316056,
          "y1": 80.3572536244214,
          "yref": "y"
         },
         {
          "fillcolor": "red",
          "line": {
           "color": "black",
           "width": 1
          },
          "name": "FA",
          "opacity": 1,
          "type": "rect",
          "x0": 0,
          "x1": 20.08931340610535,
          "xref": "x",
          "y0": 80.3572536244214,
          "y1": 100.44656703052675,
          "yref": "y"
         },
         {
          "fillcolor": "red",
          "line": {
           "color": "black",
           "width": 1
          },
          "name": "FA",
          "opacity": 1,
          "type": "rect",
          "x0": 20.08931340610535,
          "x1": 40.1786268122107,
          "xref": "x",
          "y0": 80.3572536244214,
          "y1": 100.44656703052675,
          "yref": "y"
         },
         {
          "fillcolor": "red",
          "line": {
           "color": "black",
           "width": 1
          },
          "name": "FA",
          "opacity": 1,
          "type": "rect",
          "x0": 40.1786268122107,
          "x1": 60.267940218316056,
          "xref": "x",
          "y0": 80.3572536244214,
          "y1": 100.44656703052675,
          "yref": "y"
         },
         {
          "fillcolor": "red",
          "line": {
           "color": "black",
           "width": 1
          },
          "name": "FA",
          "opacity": 1,
          "type": "rect",
          "x0": 60.267940218316056,
          "x1": 80.3572536244214,
          "xref": "x",
          "y0": 80.3572536244214,
          "y1": 100.44656703052675,
          "yref": "y"
         },
         {
          "fillcolor": "red",
          "line": {
           "color": "black",
           "width": 1
          },
          "name": "FA",
          "opacity": 1,
          "type": "rect",
          "x0": 80.3572536244214,
          "x1": 100.44656703052675,
          "xref": "x",
          "y0": 80.3572536244214,
          "y1": 100.44656703052675,
          "yref": "y"
         },
         {
          "fillcolor": "red",
          "line": {
           "color": "black",
           "width": 1
          },
          "name": "FA",
          "opacity": 1,
          "type": "rect",
          "x0": 100.44656703052675,
          "x1": 120.53588043663211,
          "xref": "x",
          "y0": 80.3572536244214,
          "y1": 100.44656703052675,
          "yref": "y"
         },
         {
          "fillcolor": "red",
          "line": {
           "color": "black",
           "width": 1
          },
          "name": "FA",
          "opacity": 1,
          "type": "rect",
          "x0": 0,
          "x1": 20.08931340610535,
          "xref": "x",
          "y0": 100.44656703052675,
          "y1": 120.53588043663211,
          "yref": "y"
         },
         {
          "fillcolor": "red",
          "line": {
           "color": "black",
           "width": 1
          },
          "name": "FA",
          "opacity": 1,
          "type": "rect",
          "x0": 20.08931340610535,
          "x1": 40.1786268122107,
          "xref": "x",
          "y0": 100.44656703052675,
          "y1": 120.53588043663211,
          "yref": "y"
         },
         {
          "fillcolor": "red",
          "line": {
           "color": "black",
           "width": 1
          },
          "name": "FA",
          "opacity": 1,
          "type": "rect",
          "x0": 40.1786268122107,
          "x1": 60.267940218316056,
          "xref": "x",
          "y0": 100.44656703052675,
          "y1": 120.53588043663211,
          "yref": "y"
         },
         {
          "fillcolor": "red",
          "line": {
           "color": "black",
           "width": 1
          },
          "name": "FA",
          "opacity": 1,
          "type": "rect",
          "x0": 60.267940218316056,
          "x1": 80.3572536244214,
          "xref": "x",
          "y0": 100.44656703052675,
          "y1": 120.53588043663211,
          "yref": "y"
         },
         {
          "fillcolor": "red",
          "line": {
           "color": "black",
           "width": 1
          },
          "name": "FA",
          "opacity": 1,
          "type": "rect",
          "x0": 80.3572536244214,
          "x1": 100.44656703052675,
          "xref": "x",
          "y0": 100.44656703052675,
          "y1": 120.53588043663211,
          "yref": "y"
         },
         {
          "fillcolor": "red",
          "line": {
           "color": "black",
           "width": 1
          },
          "name": "FA",
          "opacity": 1,
          "type": "rect",
          "x0": 0,
          "x1": 20.08931340610535,
          "xref": "x",
          "y0": 120.53588043663211,
          "y1": 140.62519384273745,
          "yref": "y"
         },
         {
          "fillcolor": "red",
          "line": {
           "color": "black",
           "width": 1
          },
          "name": "FA",
          "opacity": 1,
          "type": "rect",
          "x0": 20.08931340610535,
          "x1": 40.1786268122107,
          "xref": "x",
          "y0": 120.53588043663211,
          "y1": 140.62519384273745,
          "yref": "y"
         },
         {
          "fillcolor": "red",
          "line": {
           "color": "black",
           "width": 1
          },
          "name": "FA",
          "opacity": 1,
          "type": "rect",
          "x0": 40.1786268122107,
          "x1": 60.267940218316056,
          "xref": "x",
          "y0": 120.53588043663211,
          "y1": 140.62519384273745,
          "yref": "y"
         },
         {
          "fillcolor": "red",
          "line": {
           "color": "black",
           "width": 1
          },
          "name": "FA",
          "opacity": 1,
          "type": "rect",
          "x0": 60.267940218316056,
          "x1": 80.3572536244214,
          "xref": "x",
          "y0": 120.53588043663211,
          "y1": 140.62519384273745,
          "yref": "y"
         },
         {
          "fillcolor": "red",
          "line": {
           "color": "black",
           "width": 1
          },
          "name": "FA",
          "opacity": 1,
          "type": "rect",
          "x0": 0,
          "x1": 20.08931340610535,
          "xref": "x",
          "y0": 140.62519384273745,
          "y1": 160.7145072488428,
          "yref": "y"
         },
         {
          "fillcolor": "red",
          "line": {
           "color": "black",
           "width": 1
          },
          "name": "FA",
          "opacity": 1,
          "type": "rect",
          "x0": 20.08931340610535,
          "x1": 40.1786268122107,
          "xref": "x",
          "y0": 140.62519384273745,
          "y1": 160.7145072488428,
          "yref": "y"
         },
         {
          "fillcolor": "lightblue",
          "line": {
           "color": "green",
           "width": 1
          },
          "opacity": 0.7,
          "type": "rect",
          "x0": 0,
          "x1": 1.2555820878815844,
          "xref": "x2",
          "y0": 0,
          "y1": 1.2555820878815844,
          "yref": "y2"
         },
         {
          "fillcolor": "green",
          "line": {
           "color": "green",
           "width": 1
          },
          "opacity": 0.3,
          "type": "circle",
          "x0": 0.15259104394079215,
          "x1": 1.1029910439407922,
          "xref": "x2",
          "y0": 0.15259104394079215,
          "y1": 1.1029910439407922,
          "yref": "y2"
         },
         {
          "fillcolor": "yellow",
          "line": {
           "color": "yellow",
           "width": 1
          },
          "opacity": 0.5,
          "type": "circle",
          "x0": 0.20979104394079218,
          "x1": 1.0457910439407923,
          "xref": "x2",
          "y0": 0.20979104394079218,
          "y1": 1.0457910439407923,
          "yref": "y2"
         },
         {
          "fillcolor": "red",
          "line": {
           "color": "red",
           "width": 1
          },
          "opacity": 0.7,
          "type": "circle",
          "x0": 0.2181910439407922,
          "x1": 1.0373910439407923,
          "xref": "x2",
          "y0": 0.2181910439407922,
          "y1": 1.0373910439407923,
          "yref": "y2"
         },
         {
          "fillcolor": "lightblue",
          "line": {
           "color": "green",
           "width": 1
          },
          "opacity": 0.7,
          "type": "rect",
          "x0": 1.2555820878815844,
          "x1": 2.511164175763169,
          "xref": "x2",
          "y0": 0,
          "y1": 1.2555820878815844,
          "yref": "y2"
         },
         {
          "fillcolor": "green",
          "line": {
           "color": "green",
           "width": 1
          },
          "opacity": 0.3,
          "type": "circle",
          "x0": 1.4081731318223767,
          "x1": 2.358573131822377,
          "xref": "x2",
          "y0": 0.15259104394079215,
          "y1": 1.1029910439407922,
          "yref": "y2"
         },
         {
          "fillcolor": "yellow",
          "line": {
           "color": "yellow",
           "width": 1
          },
          "opacity": 0.5,
          "type": "circle",
          "x0": 1.4653731318223766,
          "x1": 2.301373131822377,
          "xref": "x2",
          "y0": 0.20979104394079218,
          "y1": 1.0457910439407923,
          "yref": "y2"
         },
         {
          "fillcolor": "red",
          "line": {
           "color": "red",
           "width": 1
          },
          "opacity": 0.7,
          "type": "circle",
          "x0": 1.4737731318223768,
          "x1": 2.292973131822377,
          "xref": "x2",
          "y0": 0.2181910439407922,
          "y1": 1.0373910439407923,
          "yref": "y2"
         },
         {
          "fillcolor": "lightblue",
          "line": {
           "color": "green",
           "width": 1
          },
          "opacity": 0.7,
          "type": "rect",
          "x0": 2.511164175763169,
          "x1": 3.7667462636447535,
          "xref": "x2",
          "y0": 0,
          "y1": 1.2555820878815844,
          "yref": "y2"
         },
         {
          "fillcolor": "green",
          "line": {
           "color": "green",
           "width": 1
          },
          "opacity": 0.3,
          "type": "circle",
          "x0": 2.663755219703961,
          "x1": 3.614155219703961,
          "xref": "x2",
          "y0": 0.15259104394079215,
          "y1": 1.1029910439407922,
          "yref": "y2"
         },
         {
          "fillcolor": "yellow",
          "line": {
           "color": "yellow",
           "width": 1
          },
          "opacity": 0.5,
          "type": "circle",
          "x0": 2.720955219703961,
          "x1": 3.556955219703961,
          "xref": "x2",
          "y0": 0.20979104394079218,
          "y1": 1.0457910439407923,
          "yref": "y2"
         },
         {
          "fillcolor": "red",
          "line": {
           "color": "red",
           "width": 1
          },
          "opacity": 0.7,
          "type": "circle",
          "x0": 2.7293552197039608,
          "x1": 3.548555219703961,
          "xref": "x2",
          "y0": 0.2181910439407922,
          "y1": 1.0373910439407923,
          "yref": "y2"
         },
         {
          "fillcolor": "lightblue",
          "line": {
           "color": "green",
           "width": 1
          },
          "opacity": 0.7,
          "type": "rect",
          "x0": 3.7667462636447535,
          "x1": 5.022328351526338,
          "xref": "x2",
          "y0": 0,
          "y1": 1.2555820878815844,
          "yref": "y2"
         },
         {
          "fillcolor": "green",
          "line": {
           "color": "green",
           "width": 1
          },
          "opacity": 0.3,
          "type": "circle",
          "x0": 3.919337307585546,
          "x1": 4.869737307585546,
          "xref": "x2",
          "y0": 0.15259104394079215,
          "y1": 1.1029910439407922,
          "yref": "y2"
         },
         {
          "fillcolor": "yellow",
          "line": {
           "color": "yellow",
           "width": 1
          },
          "opacity": 0.5,
          "type": "circle",
          "x0": 3.976537307585546,
          "x1": 4.812537307585546,
          "xref": "x2",
          "y0": 0.20979104394079218,
          "y1": 1.0457910439407923,
          "yref": "y2"
         },
         {
          "fillcolor": "red",
          "line": {
           "color": "red",
           "width": 1
          },
          "opacity": 0.7,
          "type": "circle",
          "x0": 3.984937307585546,
          "x1": 4.804137307585546,
          "xref": "x2",
          "y0": 0.2181910439407922,
          "y1": 1.0373910439407923,
          "yref": "y2"
         },
         {
          "fillcolor": "lightblue",
          "line": {
           "color": "green",
           "width": 1
          },
          "opacity": 0.7,
          "type": "rect",
          "x0": 5.022328351526338,
          "x1": 6.277910439407922,
          "xref": "x2",
          "y0": 0,
          "y1": 1.2555820878815844,
          "yref": "y2"
         },
         {
          "fillcolor": "green",
          "line": {
           "color": "green",
           "width": 1
          },
          "opacity": 0.3,
          "type": "circle",
          "x0": 5.17491939546713,
          "x1": 6.12531939546713,
          "xref": "x2",
          "y0": 0.15259104394079215,
          "y1": 1.1029910439407922,
          "yref": "y2"
         },
         {
          "fillcolor": "yellow",
          "line": {
           "color": "yellow",
           "width": 1
          },
          "opacity": 0.5,
          "type": "circle",
          "x0": 5.23211939546713,
          "x1": 6.06811939546713,
          "xref": "x2",
          "y0": 0.20979104394079218,
          "y1": 1.0457910439407923,
          "yref": "y2"
         },
         {
          "fillcolor": "red",
          "line": {
           "color": "red",
           "width": 1
          },
          "opacity": 0.7,
          "type": "circle",
          "x0": 5.24051939546713,
          "x1": 6.0597193954671305,
          "xref": "x2",
          "y0": 0.2181910439407922,
          "y1": 1.0373910439407923,
          "yref": "y2"
         },
         {
          "fillcolor": "lightblue",
          "line": {
           "color": "green",
           "width": 1
          },
          "opacity": 0.7,
          "type": "rect",
          "x0": 6.277910439407922,
          "x1": 7.533492527289507,
          "xref": "x2",
          "y0": 0,
          "y1": 1.2555820878815844,
          "yref": "y2"
         },
         {
          "fillcolor": "green",
          "line": {
           "color": "green",
           "width": 1
          },
          "opacity": 0.3,
          "type": "circle",
          "x0": 6.430501483348714,
          "x1": 7.3809014833487145,
          "xref": "x2",
          "y0": 0.15259104394079215,
          "y1": 1.1029910439407922,
          "yref": "y2"
         },
         {
          "fillcolor": "yellow",
          "line": {
           "color": "yellow",
           "width": 1
          },
          "opacity": 0.5,
          "type": "circle",
          "x0": 6.487701483348714,
          "x1": 7.323701483348715,
          "xref": "x2",
          "y0": 0.20979104394079218,
          "y1": 1.0457910439407923,
          "yref": "y2"
         },
         {
          "fillcolor": "red",
          "line": {
           "color": "red",
           "width": 1
          },
          "opacity": 0.7,
          "type": "circle",
          "x0": 6.496101483348714,
          "x1": 7.315301483348715,
          "xref": "x2",
          "y0": 0.2181910439407922,
          "y1": 1.0373910439407923,
          "yref": "y2"
         },
         {
          "fillcolor": "lightblue",
          "line": {
           "color": "green",
           "width": 1
          },
          "opacity": 0.7,
          "type": "rect",
          "x0": 7.533492527289507,
          "x1": 8.78907461517109,
          "xref": "x2",
          "y0": 0,
          "y1": 1.2555820878815844,
          "yref": "y2"
         },
         {
          "fillcolor": "green",
          "line": {
           "color": "green",
           "width": 1
          },
          "opacity": 0.3,
          "type": "circle",
          "x0": 7.6860835712302995,
          "x1": 8.6364835712303,
          "xref": "x2",
          "y0": 0.15259104394079215,
          "y1": 1.1029910439407922,
          "yref": "y2"
         },
         {
          "fillcolor": "yellow",
          "line": {
           "color": "yellow",
           "width": 1
          },
          "opacity": 0.5,
          "type": "circle",
          "x0": 7.743283571230299,
          "x1": 8.579283571230299,
          "xref": "x2",
          "y0": 0.20979104394079218,
          "y1": 1.0457910439407923,
          "yref": "y2"
         },
         {
          "fillcolor": "red",
          "line": {
           "color": "red",
           "width": 1
          },
          "opacity": 0.7,
          "type": "circle",
          "x0": 7.751683571230299,
          "x1": 8.570883571230299,
          "xref": "x2",
          "y0": 0.2181910439407922,
          "y1": 1.0373910439407923,
          "yref": "y2"
         },
         {
          "fillcolor": "lightblue",
          "line": {
           "color": "green",
           "width": 1
          },
          "opacity": 0.7,
          "type": "rect",
          "x0": 8.78907461517109,
          "x1": 10.044656703052675,
          "xref": "x2",
          "y0": 0,
          "y1": 1.2555820878815844,
          "yref": "y2"
         },
         {
          "fillcolor": "green",
          "line": {
           "color": "green",
           "width": 1
          },
          "opacity": 0.3,
          "type": "circle",
          "x0": 8.941665659111884,
          "x1": 9.892065659111882,
          "xref": "x2",
          "y0": 0.15259104394079215,
          "y1": 1.1029910439407922,
          "yref": "y2"
         },
         {
          "fillcolor": "yellow",
          "line": {
           "color": "yellow",
           "width": 1
          },
          "opacity": 0.5,
          "type": "circle",
          "x0": 8.998865659111884,
          "x1": 9.834865659111882,
          "xref": "x2",
          "y0": 0.20979104394079218,
          "y1": 1.0457910439407923,
          "yref": "y2"
         },
         {
          "fillcolor": "red",
          "line": {
           "color": "red",
           "width": 1
          },
          "opacity": 0.7,
          "type": "circle",
          "x0": 9.007265659111884,
          "x1": 9.826465659111882,
          "xref": "x2",
          "y0": 0.2181910439407922,
          "y1": 1.0373910439407923,
          "yref": "y2"
         },
         {
          "fillcolor": "lightblue",
          "line": {
           "color": "green",
           "width": 1
          },
          "opacity": 0.7,
          "type": "rect",
          "x0": 0,
          "x1": 1.2555820878815844,
          "xref": "x2",
          "y0": 1.2555820878815844,
          "y1": 2.511164175763169,
          "yref": "y2"
         },
         {
          "fillcolor": "green",
          "line": {
           "color": "green",
           "width": 1
          },
          "opacity": 0.3,
          "type": "circle",
          "x0": 0.15259104394079215,
          "x1": 1.1029910439407922,
          "xref": "x2",
          "y0": 1.4081731318223767,
          "y1": 2.358573131822377,
          "yref": "y2"
         },
         {
          "fillcolor": "yellow",
          "line": {
           "color": "yellow",
           "width": 1
          },
          "opacity": 0.5,
          "type": "circle",
          "x0": 0.20979104394079218,
          "x1": 1.0457910439407923,
          "xref": "x2",
          "y0": 1.4653731318223766,
          "y1": 2.301373131822377,
          "yref": "y2"
         },
         {
          "fillcolor": "red",
          "line": {
           "color": "red",
           "width": 1
          },
          "opacity": 0.7,
          "type": "circle",
          "x0": 0.2181910439407922,
          "x1": 1.0373910439407923,
          "xref": "x2",
          "y0": 1.4737731318223768,
          "y1": 2.292973131822377,
          "yref": "y2"
         },
         {
          "fillcolor": "lightblue",
          "line": {
           "color": "green",
           "width": 1
          },
          "opacity": 0.7,
          "type": "rect",
          "x0": 1.2555820878815844,
          "x1": 2.511164175763169,
          "xref": "x2",
          "y0": 1.2555820878815844,
          "y1": 2.511164175763169,
          "yref": "y2"
         },
         {
          "fillcolor": "green",
          "line": {
           "color": "green",
           "width": 1
          },
          "opacity": 0.3,
          "type": "circle",
          "x0": 1.4081731318223767,
          "x1": 2.358573131822377,
          "xref": "x2",
          "y0": 1.4081731318223767,
          "y1": 2.358573131822377,
          "yref": "y2"
         },
         {
          "fillcolor": "yellow",
          "line": {
           "color": "yellow",
           "width": 1
          },
          "opacity": 0.5,
          "type": "circle",
          "x0": 1.4653731318223766,
          "x1": 2.301373131822377,
          "xref": "x2",
          "y0": 1.4653731318223766,
          "y1": 2.301373131822377,
          "yref": "y2"
         },
         {
          "fillcolor": "red",
          "line": {
           "color": "red",
           "width": 1
          },
          "opacity": 0.7,
          "type": "circle",
          "x0": 1.4737731318223768,
          "x1": 2.292973131822377,
          "xref": "x2",
          "y0": 1.4737731318223768,
          "y1": 2.292973131822377,
          "yref": "y2"
         },
         {
          "fillcolor": "lightblue",
          "line": {
           "color": "green",
           "width": 1
          },
          "opacity": 0.7,
          "type": "rect",
          "x0": 2.511164175763169,
          "x1": 3.7667462636447535,
          "xref": "x2",
          "y0": 1.2555820878815844,
          "y1": 2.511164175763169,
          "yref": "y2"
         },
         {
          "fillcolor": "green",
          "line": {
           "color": "green",
           "width": 1
          },
          "opacity": 0.3,
          "type": "circle",
          "x0": 2.663755219703961,
          "x1": 3.614155219703961,
          "xref": "x2",
          "y0": 1.4081731318223767,
          "y1": 2.358573131822377,
          "yref": "y2"
         },
         {
          "fillcolor": "yellow",
          "line": {
           "color": "yellow",
           "width": 1
          },
          "opacity": 0.5,
          "type": "circle",
          "x0": 2.720955219703961,
          "x1": 3.556955219703961,
          "xref": "x2",
          "y0": 1.4653731318223766,
          "y1": 2.301373131822377,
          "yref": "y2"
         },
         {
          "fillcolor": "red",
          "line": {
           "color": "red",
           "width": 1
          },
          "opacity": 0.7,
          "type": "circle",
          "x0": 2.7293552197039608,
          "x1": 3.548555219703961,
          "xref": "x2",
          "y0": 1.4737731318223768,
          "y1": 2.292973131822377,
          "yref": "y2"
         },
         {
          "fillcolor": "lightblue",
          "line": {
           "color": "green",
           "width": 1
          },
          "opacity": 0.7,
          "type": "rect",
          "x0": 3.7667462636447535,
          "x1": 5.022328351526338,
          "xref": "x2",
          "y0": 1.2555820878815844,
          "y1": 2.511164175763169,
          "yref": "y2"
         },
         {
          "fillcolor": "green",
          "line": {
           "color": "green",
           "width": 1
          },
          "opacity": 0.3,
          "type": "circle",
          "x0": 3.919337307585546,
          "x1": 4.869737307585546,
          "xref": "x2",
          "y0": 1.4081731318223767,
          "y1": 2.358573131822377,
          "yref": "y2"
         },
         {
          "fillcolor": "yellow",
          "line": {
           "color": "yellow",
           "width": 1
          },
          "opacity": 0.5,
          "type": "circle",
          "x0": 3.976537307585546,
          "x1": 4.812537307585546,
          "xref": "x2",
          "y0": 1.4653731318223766,
          "y1": 2.301373131822377,
          "yref": "y2"
         },
         {
          "fillcolor": "red",
          "line": {
           "color": "red",
           "width": 1
          },
          "opacity": 0.7,
          "type": "circle",
          "x0": 3.984937307585546,
          "x1": 4.804137307585546,
          "xref": "x2",
          "y0": 1.4737731318223768,
          "y1": 2.292973131822377,
          "yref": "y2"
         },
         {
          "fillcolor": "lightblue",
          "line": {
           "color": "green",
           "width": 1
          },
          "opacity": 0.7,
          "type": "rect",
          "x0": 5.022328351526338,
          "x1": 6.277910439407922,
          "xref": "x2",
          "y0": 1.2555820878815844,
          "y1": 2.511164175763169,
          "yref": "y2"
         },
         {
          "fillcolor": "green",
          "line": {
           "color": "green",
           "width": 1
          },
          "opacity": 0.3,
          "type": "circle",
          "x0": 5.17491939546713,
          "x1": 6.12531939546713,
          "xref": "x2",
          "y0": 1.4081731318223767,
          "y1": 2.358573131822377,
          "yref": "y2"
         },
         {
          "fillcolor": "yellow",
          "line": {
           "color": "yellow",
           "width": 1
          },
          "opacity": 0.5,
          "type": "circle",
          "x0": 5.23211939546713,
          "x1": 6.06811939546713,
          "xref": "x2",
          "y0": 1.4653731318223766,
          "y1": 2.301373131822377,
          "yref": "y2"
         },
         {
          "fillcolor": "red",
          "line": {
           "color": "red",
           "width": 1
          },
          "opacity": 0.7,
          "type": "circle",
          "x0": 5.24051939546713,
          "x1": 6.0597193954671305,
          "xref": "x2",
          "y0": 1.4737731318223768,
          "y1": 2.292973131822377,
          "yref": "y2"
         },
         {
          "fillcolor": "lightblue",
          "line": {
           "color": "green",
           "width": 1
          },
          "opacity": 0.7,
          "type": "rect",
          "x0": 6.277910439407922,
          "x1": 7.533492527289507,
          "xref": "x2",
          "y0": 1.2555820878815844,
          "y1": 2.511164175763169,
          "yref": "y2"
         },
         {
          "fillcolor": "green",
          "line": {
           "color": "green",
           "width": 1
          },
          "opacity": 0.3,
          "type": "circle",
          "x0": 6.430501483348714,
          "x1": 7.3809014833487145,
          "xref": "x2",
          "y0": 1.4081731318223767,
          "y1": 2.358573131822377,
          "yref": "y2"
         },
         {
          "fillcolor": "yellow",
          "line": {
           "color": "yellow",
           "width": 1
          },
          "opacity": 0.5,
          "type": "circle",
          "x0": 6.487701483348714,
          "x1": 7.323701483348715,
          "xref": "x2",
          "y0": 1.4653731318223766,
          "y1": 2.301373131822377,
          "yref": "y2"
         },
         {
          "fillcolor": "red",
          "line": {
           "color": "red",
           "width": 1
          },
          "opacity": 0.7,
          "type": "circle",
          "x0": 6.496101483348714,
          "x1": 7.315301483348715,
          "xref": "x2",
          "y0": 1.4737731318223768,
          "y1": 2.292973131822377,
          "yref": "y2"
         },
         {
          "fillcolor": "lightblue",
          "line": {
           "color": "green",
           "width": 1
          },
          "opacity": 0.7,
          "type": "rect",
          "x0": 7.533492527289507,
          "x1": 8.78907461517109,
          "xref": "x2",
          "y0": 1.2555820878815844,
          "y1": 2.511164175763169,
          "yref": "y2"
         },
         {
          "fillcolor": "green",
          "line": {
           "color": "green",
           "width": 1
          },
          "opacity": 0.3,
          "type": "circle",
          "x0": 7.6860835712302995,
          "x1": 8.6364835712303,
          "xref": "x2",
          "y0": 1.4081731318223767,
          "y1": 2.358573131822377,
          "yref": "y2"
         },
         {
          "fillcolor": "yellow",
          "line": {
           "color": "yellow",
           "width": 1
          },
          "opacity": 0.5,
          "type": "circle",
          "x0": 7.743283571230299,
          "x1": 8.579283571230299,
          "xref": "x2",
          "y0": 1.4653731318223766,
          "y1": 2.301373131822377,
          "yref": "y2"
         },
         {
          "fillcolor": "red",
          "line": {
           "color": "red",
           "width": 1
          },
          "opacity": 0.7,
          "type": "circle",
          "x0": 7.751683571230299,
          "x1": 8.570883571230299,
          "xref": "x2",
          "y0": 1.4737731318223768,
          "y1": 2.292973131822377,
          "yref": "y2"
         },
         {
          "fillcolor": "lightblue",
          "line": {
           "color": "green",
           "width": 1
          },
          "opacity": 0.7,
          "type": "rect",
          "x0": 8.78907461517109,
          "x1": 10.044656703052675,
          "xref": "x2",
          "y0": 1.2555820878815844,
          "y1": 2.511164175763169,
          "yref": "y2"
         },
         {
          "fillcolor": "green",
          "line": {
           "color": "green",
           "width": 1
          },
          "opacity": 0.3,
          "type": "circle",
          "x0": 8.941665659111884,
          "x1": 9.892065659111882,
          "xref": "x2",
          "y0": 1.4081731318223767,
          "y1": 2.358573131822377,
          "yref": "y2"
         },
         {
          "fillcolor": "yellow",
          "line": {
           "color": "yellow",
           "width": 1
          },
          "opacity": 0.5,
          "type": "circle",
          "x0": 8.998865659111884,
          "x1": 9.834865659111882,
          "xref": "x2",
          "y0": 1.4653731318223766,
          "y1": 2.301373131822377,
          "yref": "y2"
         },
         {
          "fillcolor": "red",
          "line": {
           "color": "red",
           "width": 1
          },
          "opacity": 0.7,
          "type": "circle",
          "x0": 9.007265659111884,
          "x1": 9.826465659111882,
          "xref": "x2",
          "y0": 1.4737731318223768,
          "y1": 2.292973131822377,
          "yref": "y2"
         },
         {
          "fillcolor": "lightblue",
          "line": {
           "color": "green",
           "width": 1
          },
          "opacity": 0.7,
          "type": "rect",
          "x0": 0,
          "x1": 1.2555820878815844,
          "xref": "x2",
          "y0": 2.511164175763169,
          "y1": 3.7667462636447535,
          "yref": "y2"
         },
         {
          "fillcolor": "green",
          "line": {
           "color": "green",
           "width": 1
          },
          "opacity": 0.3,
          "type": "circle",
          "x0": 0.15259104394079215,
          "x1": 1.1029910439407922,
          "xref": "x2",
          "y0": 2.663755219703961,
          "y1": 3.614155219703961,
          "yref": "y2"
         },
         {
          "fillcolor": "yellow",
          "line": {
           "color": "yellow",
           "width": 1
          },
          "opacity": 0.5,
          "type": "circle",
          "x0": 0.20979104394079218,
          "x1": 1.0457910439407923,
          "xref": "x2",
          "y0": 2.720955219703961,
          "y1": 3.556955219703961,
          "yref": "y2"
         },
         {
          "fillcolor": "red",
          "line": {
           "color": "red",
           "width": 1
          },
          "opacity": 0.7,
          "type": "circle",
          "x0": 0.2181910439407922,
          "x1": 1.0373910439407923,
          "xref": "x2",
          "y0": 2.7293552197039608,
          "y1": 3.548555219703961,
          "yref": "y2"
         },
         {
          "fillcolor": "lightblue",
          "line": {
           "color": "green",
           "width": 1
          },
          "opacity": 0.7,
          "type": "rect",
          "x0": 1.2555820878815844,
          "x1": 2.511164175763169,
          "xref": "x2",
          "y0": 2.511164175763169,
          "y1": 3.7667462636447535,
          "yref": "y2"
         },
         {
          "fillcolor": "green",
          "line": {
           "color": "green",
           "width": 1
          },
          "opacity": 0.3,
          "type": "circle",
          "x0": 1.4081731318223767,
          "x1": 2.358573131822377,
          "xref": "x2",
          "y0": 2.663755219703961,
          "y1": 3.614155219703961,
          "yref": "y2"
         },
         {
          "fillcolor": "yellow",
          "line": {
           "color": "yellow",
           "width": 1
          },
          "opacity": 0.5,
          "type": "circle",
          "x0": 1.4653731318223766,
          "x1": 2.301373131822377,
          "xref": "x2",
          "y0": 2.720955219703961,
          "y1": 3.556955219703961,
          "yref": "y2"
         },
         {
          "fillcolor": "red",
          "line": {
           "color": "red",
           "width": 1
          },
          "opacity": 0.7,
          "type": "circle",
          "x0": 1.4737731318223768,
          "x1": 2.292973131822377,
          "xref": "x2",
          "y0": 2.7293552197039608,
          "y1": 3.548555219703961,
          "yref": "y2"
         },
         {
          "fillcolor": "lightblue",
          "line": {
           "color": "green",
           "width": 1
          },
          "opacity": 0.7,
          "type": "rect",
          "x0": 2.511164175763169,
          "x1": 3.7667462636447535,
          "xref": "x2",
          "y0": 2.511164175763169,
          "y1": 3.7667462636447535,
          "yref": "y2"
         },
         {
          "fillcolor": "green",
          "line": {
           "color": "green",
           "width": 1
          },
          "opacity": 0.3,
          "type": "circle",
          "x0": 2.663755219703961,
          "x1": 3.614155219703961,
          "xref": "x2",
          "y0": 2.663755219703961,
          "y1": 3.614155219703961,
          "yref": "y2"
         },
         {
          "fillcolor": "yellow",
          "line": {
           "color": "yellow",
           "width": 1
          },
          "opacity": 0.5,
          "type": "circle",
          "x0": 2.720955219703961,
          "x1": 3.556955219703961,
          "xref": "x2",
          "y0": 2.720955219703961,
          "y1": 3.556955219703961,
          "yref": "y2"
         },
         {
          "fillcolor": "red",
          "line": {
           "color": "red",
           "width": 1
          },
          "opacity": 0.7,
          "type": "circle",
          "x0": 2.7293552197039608,
          "x1": 3.548555219703961,
          "xref": "x2",
          "y0": 2.7293552197039608,
          "y1": 3.548555219703961,
          "yref": "y2"
         },
         {
          "fillcolor": "lightblue",
          "line": {
           "color": "green",
           "width": 1
          },
          "opacity": 0.7,
          "type": "rect",
          "x0": 3.7667462636447535,
          "x1": 5.022328351526338,
          "xref": "x2",
          "y0": 2.511164175763169,
          "y1": 3.7667462636447535,
          "yref": "y2"
         },
         {
          "fillcolor": "green",
          "line": {
           "color": "green",
           "width": 1
          },
          "opacity": 0.3,
          "type": "circle",
          "x0": 3.919337307585546,
          "x1": 4.869737307585546,
          "xref": "x2",
          "y0": 2.663755219703961,
          "y1": 3.614155219703961,
          "yref": "y2"
         },
         {
          "fillcolor": "yellow",
          "line": {
           "color": "yellow",
           "width": 1
          },
          "opacity": 0.5,
          "type": "circle",
          "x0": 3.976537307585546,
          "x1": 4.812537307585546,
          "xref": "x2",
          "y0": 2.720955219703961,
          "y1": 3.556955219703961,
          "yref": "y2"
         },
         {
          "fillcolor": "red",
          "line": {
           "color": "red",
           "width": 1
          },
          "opacity": 0.7,
          "type": "circle",
          "x0": 3.984937307585546,
          "x1": 4.804137307585546,
          "xref": "x2",
          "y0": 2.7293552197039608,
          "y1": 3.548555219703961,
          "yref": "y2"
         },
         {
          "fillcolor": "lightblue",
          "line": {
           "color": "green",
           "width": 1
          },
          "opacity": 0.7,
          "type": "rect",
          "x0": 5.022328351526338,
          "x1": 6.277910439407922,
          "xref": "x2",
          "y0": 2.511164175763169,
          "y1": 3.7667462636447535,
          "yref": "y2"
         },
         {
          "fillcolor": "green",
          "line": {
           "color": "green",
           "width": 1
          },
          "opacity": 0.3,
          "type": "circle",
          "x0": 5.17491939546713,
          "x1": 6.12531939546713,
          "xref": "x2",
          "y0": 2.663755219703961,
          "y1": 3.614155219703961,
          "yref": "y2"
         },
         {
          "fillcolor": "yellow",
          "line": {
           "color": "yellow",
           "width": 1
          },
          "opacity": 0.5,
          "type": "circle",
          "x0": 5.23211939546713,
          "x1": 6.06811939546713,
          "xref": "x2",
          "y0": 2.720955219703961,
          "y1": 3.556955219703961,
          "yref": "y2"
         },
         {
          "fillcolor": "red",
          "line": {
           "color": "red",
           "width": 1
          },
          "opacity": 0.7,
          "type": "circle",
          "x0": 5.24051939546713,
          "x1": 6.0597193954671305,
          "xref": "x2",
          "y0": 2.7293552197039608,
          "y1": 3.548555219703961,
          "yref": "y2"
         },
         {
          "fillcolor": "lightblue",
          "line": {
           "color": "green",
           "width": 1
          },
          "opacity": 0.7,
          "type": "rect",
          "x0": 6.277910439407922,
          "x1": 7.533492527289507,
          "xref": "x2",
          "y0": 2.511164175763169,
          "y1": 3.7667462636447535,
          "yref": "y2"
         },
         {
          "fillcolor": "green",
          "line": {
           "color": "green",
           "width": 1
          },
          "opacity": 0.3,
          "type": "circle",
          "x0": 6.430501483348714,
          "x1": 7.3809014833487145,
          "xref": "x2",
          "y0": 2.663755219703961,
          "y1": 3.614155219703961,
          "yref": "y2"
         },
         {
          "fillcolor": "yellow",
          "line": {
           "color": "yellow",
           "width": 1
          },
          "opacity": 0.5,
          "type": "circle",
          "x0": 6.487701483348714,
          "x1": 7.323701483348715,
          "xref": "x2",
          "y0": 2.720955219703961,
          "y1": 3.556955219703961,
          "yref": "y2"
         },
         {
          "fillcolor": "red",
          "line": {
           "color": "red",
           "width": 1
          },
          "opacity": 0.7,
          "type": "circle",
          "x0": 6.496101483348714,
          "x1": 7.315301483348715,
          "xref": "x2",
          "y0": 2.7293552197039608,
          "y1": 3.548555219703961,
          "yref": "y2"
         },
         {
          "fillcolor": "lightblue",
          "line": {
           "color": "green",
           "width": 1
          },
          "opacity": 0.7,
          "type": "rect",
          "x0": 7.533492527289507,
          "x1": 8.78907461517109,
          "xref": "x2",
          "y0": 2.511164175763169,
          "y1": 3.7667462636447535,
          "yref": "y2"
         },
         {
          "fillcolor": "green",
          "line": {
           "color": "green",
           "width": 1
          },
          "opacity": 0.3,
          "type": "circle",
          "x0": 7.6860835712302995,
          "x1": 8.6364835712303,
          "xref": "x2",
          "y0": 2.663755219703961,
          "y1": 3.614155219703961,
          "yref": "y2"
         },
         {
          "fillcolor": "yellow",
          "line": {
           "color": "yellow",
           "width": 1
          },
          "opacity": 0.5,
          "type": "circle",
          "x0": 7.743283571230299,
          "x1": 8.579283571230299,
          "xref": "x2",
          "y0": 2.720955219703961,
          "y1": 3.556955219703961,
          "yref": "y2"
         },
         {
          "fillcolor": "red",
          "line": {
           "color": "red",
           "width": 1
          },
          "opacity": 0.7,
          "type": "circle",
          "x0": 7.751683571230299,
          "x1": 8.570883571230299,
          "xref": "x2",
          "y0": 2.7293552197039608,
          "y1": 3.548555219703961,
          "yref": "y2"
         },
         {
          "fillcolor": "lightblue",
          "line": {
           "color": "green",
           "width": 1
          },
          "opacity": 0.7,
          "type": "rect",
          "x0": 8.78907461517109,
          "x1": 10.044656703052675,
          "xref": "x2",
          "y0": 2.511164175763169,
          "y1": 3.7667462636447535,
          "yref": "y2"
         },
         {
          "fillcolor": "green",
          "line": {
           "color": "green",
           "width": 1
          },
          "opacity": 0.3,
          "type": "circle",
          "x0": 8.941665659111884,
          "x1": 9.892065659111882,
          "xref": "x2",
          "y0": 2.663755219703961,
          "y1": 3.614155219703961,
          "yref": "y2"
         },
         {
          "fillcolor": "yellow",
          "line": {
           "color": "yellow",
           "width": 1
          },
          "opacity": 0.5,
          "type": "circle",
          "x0": 8.998865659111884,
          "x1": 9.834865659111882,
          "xref": "x2",
          "y0": 2.720955219703961,
          "y1": 3.556955219703961,
          "yref": "y2"
         },
         {
          "fillcolor": "red",
          "line": {
           "color": "red",
           "width": 1
          },
          "opacity": 0.7,
          "type": "circle",
          "x0": 9.007265659111884,
          "x1": 9.826465659111882,
          "xref": "x2",
          "y0": 2.7293552197039608,
          "y1": 3.548555219703961,
          "yref": "y2"
         },
         {
          "fillcolor": "lightblue",
          "line": {
           "color": "green",
           "width": 1
          },
          "opacity": 0.7,
          "type": "rect",
          "x0": 0,
          "x1": 1.2555820878815844,
          "xref": "x2",
          "y0": 3.7667462636447535,
          "y1": 5.022328351526338,
          "yref": "y2"
         },
         {
          "fillcolor": "green",
          "line": {
           "color": "green",
           "width": 1
          },
          "opacity": 0.3,
          "type": "circle",
          "x0": 0.15259104394079215,
          "x1": 1.1029910439407922,
          "xref": "x2",
          "y0": 3.919337307585546,
          "y1": 4.869737307585546,
          "yref": "y2"
         },
         {
          "fillcolor": "yellow",
          "line": {
           "color": "yellow",
           "width": 1
          },
          "opacity": 0.5,
          "type": "circle",
          "x0": 0.20979104394079218,
          "x1": 1.0457910439407923,
          "xref": "x2",
          "y0": 3.976537307585546,
          "y1": 4.812537307585546,
          "yref": "y2"
         },
         {
          "fillcolor": "red",
          "line": {
           "color": "red",
           "width": 1
          },
          "opacity": 0.7,
          "type": "circle",
          "x0": 0.2181910439407922,
          "x1": 1.0373910439407923,
          "xref": "x2",
          "y0": 3.984937307585546,
          "y1": 4.804137307585546,
          "yref": "y2"
         },
         {
          "fillcolor": "lightblue",
          "line": {
           "color": "green",
           "width": 1
          },
          "opacity": 0.7,
          "type": "rect",
          "x0": 1.2555820878815844,
          "x1": 2.511164175763169,
          "xref": "x2",
          "y0": 3.7667462636447535,
          "y1": 5.022328351526338,
          "yref": "y2"
         },
         {
          "fillcolor": "green",
          "line": {
           "color": "green",
           "width": 1
          },
          "opacity": 0.3,
          "type": "circle",
          "x0": 1.4081731318223767,
          "x1": 2.358573131822377,
          "xref": "x2",
          "y0": 3.919337307585546,
          "y1": 4.869737307585546,
          "yref": "y2"
         },
         {
          "fillcolor": "yellow",
          "line": {
           "color": "yellow",
           "width": 1
          },
          "opacity": 0.5,
          "type": "circle",
          "x0": 1.4653731318223766,
          "x1": 2.301373131822377,
          "xref": "x2",
          "y0": 3.976537307585546,
          "y1": 4.812537307585546,
          "yref": "y2"
         },
         {
          "fillcolor": "red",
          "line": {
           "color": "red",
           "width": 1
          },
          "opacity": 0.7,
          "type": "circle",
          "x0": 1.4737731318223768,
          "x1": 2.292973131822377,
          "xref": "x2",
          "y0": 3.984937307585546,
          "y1": 4.804137307585546,
          "yref": "y2"
         },
         {
          "fillcolor": "lightblue",
          "line": {
           "color": "green",
           "width": 1
          },
          "opacity": 0.7,
          "type": "rect",
          "x0": 2.511164175763169,
          "x1": 3.7667462636447535,
          "xref": "x2",
          "y0": 3.7667462636447535,
          "y1": 5.022328351526338,
          "yref": "y2"
         },
         {
          "fillcolor": "green",
          "line": {
           "color": "green",
           "width": 1
          },
          "opacity": 0.3,
          "type": "circle",
          "x0": 2.663755219703961,
          "x1": 3.614155219703961,
          "xref": "x2",
          "y0": 3.919337307585546,
          "y1": 4.869737307585546,
          "yref": "y2"
         },
         {
          "fillcolor": "yellow",
          "line": {
           "color": "yellow",
           "width": 1
          },
          "opacity": 0.5,
          "type": "circle",
          "x0": 2.720955219703961,
          "x1": 3.556955219703961,
          "xref": "x2",
          "y0": 3.976537307585546,
          "y1": 4.812537307585546,
          "yref": "y2"
         },
         {
          "fillcolor": "red",
          "line": {
           "color": "red",
           "width": 1
          },
          "opacity": 0.7,
          "type": "circle",
          "x0": 2.7293552197039608,
          "x1": 3.548555219703961,
          "xref": "x2",
          "y0": 3.984937307585546,
          "y1": 4.804137307585546,
          "yref": "y2"
         },
         {
          "fillcolor": "lightblue",
          "line": {
           "color": "green",
           "width": 1
          },
          "opacity": 0.7,
          "type": "rect",
          "x0": 3.7667462636447535,
          "x1": 5.022328351526338,
          "xref": "x2",
          "y0": 3.7667462636447535,
          "y1": 5.022328351526338,
          "yref": "y2"
         },
         {
          "fillcolor": "green",
          "line": {
           "color": "green",
           "width": 1
          },
          "opacity": 0.3,
          "type": "circle",
          "x0": 3.919337307585546,
          "x1": 4.869737307585546,
          "xref": "x2",
          "y0": 3.919337307585546,
          "y1": 4.869737307585546,
          "yref": "y2"
         },
         {
          "fillcolor": "yellow",
          "line": {
           "color": "yellow",
           "width": 1
          },
          "opacity": 0.5,
          "type": "circle",
          "x0": 3.976537307585546,
          "x1": 4.812537307585546,
          "xref": "x2",
          "y0": 3.976537307585546,
          "y1": 4.812537307585546,
          "yref": "y2"
         },
         {
          "fillcolor": "red",
          "line": {
           "color": "red",
           "width": 1
          },
          "opacity": 0.7,
          "type": "circle",
          "x0": 3.984937307585546,
          "x1": 4.804137307585546,
          "xref": "x2",
          "y0": 3.984937307585546,
          "y1": 4.804137307585546,
          "yref": "y2"
         },
         {
          "fillcolor": "lightblue",
          "line": {
           "color": "green",
           "width": 1
          },
          "opacity": 0.7,
          "type": "rect",
          "x0": 5.022328351526338,
          "x1": 6.277910439407922,
          "xref": "x2",
          "y0": 3.7667462636447535,
          "y1": 5.022328351526338,
          "yref": "y2"
         },
         {
          "fillcolor": "green",
          "line": {
           "color": "green",
           "width": 1
          },
          "opacity": 0.3,
          "type": "circle",
          "x0": 5.17491939546713,
          "x1": 6.12531939546713,
          "xref": "x2",
          "y0": 3.919337307585546,
          "y1": 4.869737307585546,
          "yref": "y2"
         },
         {
          "fillcolor": "yellow",
          "line": {
           "color": "yellow",
           "width": 1
          },
          "opacity": 0.5,
          "type": "circle",
          "x0": 5.23211939546713,
          "x1": 6.06811939546713,
          "xref": "x2",
          "y0": 3.976537307585546,
          "y1": 4.812537307585546,
          "yref": "y2"
         },
         {
          "fillcolor": "red",
          "line": {
           "color": "red",
           "width": 1
          },
          "opacity": 0.7,
          "type": "circle",
          "x0": 5.24051939546713,
          "x1": 6.0597193954671305,
          "xref": "x2",
          "y0": 3.984937307585546,
          "y1": 4.804137307585546,
          "yref": "y2"
         },
         {
          "fillcolor": "lightblue",
          "line": {
           "color": "green",
           "width": 1
          },
          "opacity": 0.7,
          "type": "rect",
          "x0": 6.277910439407922,
          "x1": 7.533492527289507,
          "xref": "x2",
          "y0": 3.7667462636447535,
          "y1": 5.022328351526338,
          "yref": "y2"
         },
         {
          "fillcolor": "green",
          "line": {
           "color": "green",
           "width": 1
          },
          "opacity": 0.3,
          "type": "circle",
          "x0": 6.430501483348714,
          "x1": 7.3809014833487145,
          "xref": "x2",
          "y0": 3.919337307585546,
          "y1": 4.869737307585546,
          "yref": "y2"
         },
         {
          "fillcolor": "yellow",
          "line": {
           "color": "yellow",
           "width": 1
          },
          "opacity": 0.5,
          "type": "circle",
          "x0": 6.487701483348714,
          "x1": 7.323701483348715,
          "xref": "x2",
          "y0": 3.976537307585546,
          "y1": 4.812537307585546,
          "yref": "y2"
         },
         {
          "fillcolor": "red",
          "line": {
           "color": "red",
           "width": 1
          },
          "opacity": 0.7,
          "type": "circle",
          "x0": 6.496101483348714,
          "x1": 7.315301483348715,
          "xref": "x2",
          "y0": 3.984937307585546,
          "y1": 4.804137307585546,
          "yref": "y2"
         },
         {
          "fillcolor": "lightblue",
          "line": {
           "color": "green",
           "width": 1
          },
          "opacity": 0.7,
          "type": "rect",
          "x0": 7.533492527289507,
          "x1": 8.78907461517109,
          "xref": "x2",
          "y0": 3.7667462636447535,
          "y1": 5.022328351526338,
          "yref": "y2"
         },
         {
          "fillcolor": "green",
          "line": {
           "color": "green",
           "width": 1
          },
          "opacity": 0.3,
          "type": "circle",
          "x0": 7.6860835712302995,
          "x1": 8.6364835712303,
          "xref": "x2",
          "y0": 3.919337307585546,
          "y1": 4.869737307585546,
          "yref": "y2"
         },
         {
          "fillcolor": "yellow",
          "line": {
           "color": "yellow",
           "width": 1
          },
          "opacity": 0.5,
          "type": "circle",
          "x0": 7.743283571230299,
          "x1": 8.579283571230299,
          "xref": "x2",
          "y0": 3.976537307585546,
          "y1": 4.812537307585546,
          "yref": "y2"
         },
         {
          "fillcolor": "red",
          "line": {
           "color": "red",
           "width": 1
          },
          "opacity": 0.7,
          "type": "circle",
          "x0": 7.751683571230299,
          "x1": 8.570883571230299,
          "xref": "x2",
          "y0": 3.984937307585546,
          "y1": 4.804137307585546,
          "yref": "y2"
         },
         {
          "fillcolor": "lightblue",
          "line": {
           "color": "green",
           "width": 1
          },
          "opacity": 0.7,
          "type": "rect",
          "x0": 8.78907461517109,
          "x1": 10.044656703052675,
          "xref": "x2",
          "y0": 3.7667462636447535,
          "y1": 5.022328351526338,
          "yref": "y2"
         },
         {
          "fillcolor": "green",
          "line": {
           "color": "green",
           "width": 1
          },
          "opacity": 0.3,
          "type": "circle",
          "x0": 8.941665659111884,
          "x1": 9.892065659111882,
          "xref": "x2",
          "y0": 3.919337307585546,
          "y1": 4.869737307585546,
          "yref": "y2"
         },
         {
          "fillcolor": "yellow",
          "line": {
           "color": "yellow",
           "width": 1
          },
          "opacity": 0.5,
          "type": "circle",
          "x0": 8.998865659111884,
          "x1": 9.834865659111882,
          "xref": "x2",
          "y0": 3.976537307585546,
          "y1": 4.812537307585546,
          "yref": "y2"
         },
         {
          "fillcolor": "red",
          "line": {
           "color": "red",
           "width": 1
          },
          "opacity": 0.7,
          "type": "circle",
          "x0": 9.007265659111884,
          "x1": 9.826465659111882,
          "xref": "x2",
          "y0": 3.984937307585546,
          "y1": 4.804137307585546,
          "yref": "y2"
         },
         {
          "fillcolor": "lightblue",
          "line": {
           "color": "green",
           "width": 1
          },
          "opacity": 0.7,
          "type": "rect",
          "x0": 0,
          "x1": 1.2555820878815844,
          "xref": "x2",
          "y0": 5.022328351526338,
          "y1": 6.277910439407922,
          "yref": "y2"
         },
         {
          "fillcolor": "green",
          "line": {
           "color": "green",
           "width": 1
          },
          "opacity": 0.3,
          "type": "circle",
          "x0": 0.15259104394079215,
          "x1": 1.1029910439407922,
          "xref": "x2",
          "y0": 5.17491939546713,
          "y1": 6.12531939546713,
          "yref": "y2"
         },
         {
          "fillcolor": "yellow",
          "line": {
           "color": "yellow",
           "width": 1
          },
          "opacity": 0.5,
          "type": "circle",
          "x0": 0.20979104394079218,
          "x1": 1.0457910439407923,
          "xref": "x2",
          "y0": 5.23211939546713,
          "y1": 6.06811939546713,
          "yref": "y2"
         },
         {
          "fillcolor": "red",
          "line": {
           "color": "red",
           "width": 1
          },
          "opacity": 0.7,
          "type": "circle",
          "x0": 0.2181910439407922,
          "x1": 1.0373910439407923,
          "xref": "x2",
          "y0": 5.24051939546713,
          "y1": 6.0597193954671305,
          "yref": "y2"
         },
         {
          "fillcolor": "lightblue",
          "line": {
           "color": "green",
           "width": 1
          },
          "opacity": 0.7,
          "type": "rect",
          "x0": 1.2555820878815844,
          "x1": 2.511164175763169,
          "xref": "x2",
          "y0": 5.022328351526338,
          "y1": 6.277910439407922,
          "yref": "y2"
         },
         {
          "fillcolor": "green",
          "line": {
           "color": "green",
           "width": 1
          },
          "opacity": 0.3,
          "type": "circle",
          "x0": 1.4081731318223767,
          "x1": 2.358573131822377,
          "xref": "x2",
          "y0": 5.17491939546713,
          "y1": 6.12531939546713,
          "yref": "y2"
         },
         {
          "fillcolor": "yellow",
          "line": {
           "color": "yellow",
           "width": 1
          },
          "opacity": 0.5,
          "type": "circle",
          "x0": 1.4653731318223766,
          "x1": 2.301373131822377,
          "xref": "x2",
          "y0": 5.23211939546713,
          "y1": 6.06811939546713,
          "yref": "y2"
         },
         {
          "fillcolor": "red",
          "line": {
           "color": "red",
           "width": 1
          },
          "opacity": 0.7,
          "type": "circle",
          "x0": 1.4737731318223768,
          "x1": 2.292973131822377,
          "xref": "x2",
          "y0": 5.24051939546713,
          "y1": 6.0597193954671305,
          "yref": "y2"
         },
         {
          "fillcolor": "lightblue",
          "line": {
           "color": "green",
           "width": 1
          },
          "opacity": 0.7,
          "type": "rect",
          "x0": 2.511164175763169,
          "x1": 3.7667462636447535,
          "xref": "x2",
          "y0": 5.022328351526338,
          "y1": 6.277910439407922,
          "yref": "y2"
         },
         {
          "fillcolor": "green",
          "line": {
           "color": "green",
           "width": 1
          },
          "opacity": 0.3,
          "type": "circle",
          "x0": 2.663755219703961,
          "x1": 3.614155219703961,
          "xref": "x2",
          "y0": 5.17491939546713,
          "y1": 6.12531939546713,
          "yref": "y2"
         },
         {
          "fillcolor": "yellow",
          "line": {
           "color": "yellow",
           "width": 1
          },
          "opacity": 0.5,
          "type": "circle",
          "x0": 2.720955219703961,
          "x1": 3.556955219703961,
          "xref": "x2",
          "y0": 5.23211939546713,
          "y1": 6.06811939546713,
          "yref": "y2"
         },
         {
          "fillcolor": "red",
          "line": {
           "color": "red",
           "width": 1
          },
          "opacity": 0.7,
          "type": "circle",
          "x0": 2.7293552197039608,
          "x1": 3.548555219703961,
          "xref": "x2",
          "y0": 5.24051939546713,
          "y1": 6.0597193954671305,
          "yref": "y2"
         },
         {
          "fillcolor": "lightblue",
          "line": {
           "color": "green",
           "width": 1
          },
          "opacity": 0.7,
          "type": "rect",
          "x0": 3.7667462636447535,
          "x1": 5.022328351526338,
          "xref": "x2",
          "y0": 5.022328351526338,
          "y1": 6.277910439407922,
          "yref": "y2"
         },
         {
          "fillcolor": "green",
          "line": {
           "color": "green",
           "width": 1
          },
          "opacity": 0.3,
          "type": "circle",
          "x0": 3.919337307585546,
          "x1": 4.869737307585546,
          "xref": "x2",
          "y0": 5.17491939546713,
          "y1": 6.12531939546713,
          "yref": "y2"
         },
         {
          "fillcolor": "yellow",
          "line": {
           "color": "yellow",
           "width": 1
          },
          "opacity": 0.5,
          "type": "circle",
          "x0": 3.976537307585546,
          "x1": 4.812537307585546,
          "xref": "x2",
          "y0": 5.23211939546713,
          "y1": 6.06811939546713,
          "yref": "y2"
         },
         {
          "fillcolor": "red",
          "line": {
           "color": "red",
           "width": 1
          },
          "opacity": 0.7,
          "type": "circle",
          "x0": 3.984937307585546,
          "x1": 4.804137307585546,
          "xref": "x2",
          "y0": 5.24051939546713,
          "y1": 6.0597193954671305,
          "yref": "y2"
         },
         {
          "fillcolor": "lightblue",
          "line": {
           "color": "green",
           "width": 1
          },
          "opacity": 0.7,
          "type": "rect",
          "x0": 5.022328351526338,
          "x1": 6.277910439407922,
          "xref": "x2",
          "y0": 5.022328351526338,
          "y1": 6.277910439407922,
          "yref": "y2"
         },
         {
          "fillcolor": "green",
          "line": {
           "color": "green",
           "width": 1
          },
          "opacity": 0.3,
          "type": "circle",
          "x0": 5.17491939546713,
          "x1": 6.12531939546713,
          "xref": "x2",
          "y0": 5.17491939546713,
          "y1": 6.12531939546713,
          "yref": "y2"
         },
         {
          "fillcolor": "yellow",
          "line": {
           "color": "yellow",
           "width": 1
          },
          "opacity": 0.5,
          "type": "circle",
          "x0": 5.23211939546713,
          "x1": 6.06811939546713,
          "xref": "x2",
          "y0": 5.23211939546713,
          "y1": 6.06811939546713,
          "yref": "y2"
         },
         {
          "fillcolor": "red",
          "line": {
           "color": "red",
           "width": 1
          },
          "opacity": 0.7,
          "type": "circle",
          "x0": 5.24051939546713,
          "x1": 6.0597193954671305,
          "xref": "x2",
          "y0": 5.24051939546713,
          "y1": 6.0597193954671305,
          "yref": "y2"
         },
         {
          "fillcolor": "lightblue",
          "line": {
           "color": "green",
           "width": 1
          },
          "opacity": 0.7,
          "type": "rect",
          "x0": 6.277910439407922,
          "x1": 7.533492527289507,
          "xref": "x2",
          "y0": 5.022328351526338,
          "y1": 6.277910439407922,
          "yref": "y2"
         },
         {
          "fillcolor": "green",
          "line": {
           "color": "green",
           "width": 1
          },
          "opacity": 0.3,
          "type": "circle",
          "x0": 6.430501483348714,
          "x1": 7.3809014833487145,
          "xref": "x2",
          "y0": 5.17491939546713,
          "y1": 6.12531939546713,
          "yref": "y2"
         },
         {
          "fillcolor": "yellow",
          "line": {
           "color": "yellow",
           "width": 1
          },
          "opacity": 0.5,
          "type": "circle",
          "x0": 6.487701483348714,
          "x1": 7.323701483348715,
          "xref": "x2",
          "y0": 5.23211939546713,
          "y1": 6.06811939546713,
          "yref": "y2"
         },
         {
          "fillcolor": "red",
          "line": {
           "color": "red",
           "width": 1
          },
          "opacity": 0.7,
          "type": "circle",
          "x0": 6.496101483348714,
          "x1": 7.315301483348715,
          "xref": "x2",
          "y0": 5.24051939546713,
          "y1": 6.0597193954671305,
          "yref": "y2"
         },
         {
          "fillcolor": "lightblue",
          "line": {
           "color": "green",
           "width": 1
          },
          "opacity": 0.7,
          "type": "rect",
          "x0": 7.533492527289507,
          "x1": 8.78907461517109,
          "xref": "x2",
          "y0": 5.022328351526338,
          "y1": 6.277910439407922,
          "yref": "y2"
         },
         {
          "fillcolor": "green",
          "line": {
           "color": "green",
           "width": 1
          },
          "opacity": 0.3,
          "type": "circle",
          "x0": 7.6860835712302995,
          "x1": 8.6364835712303,
          "xref": "x2",
          "y0": 5.17491939546713,
          "y1": 6.12531939546713,
          "yref": "y2"
         },
         {
          "fillcolor": "yellow",
          "line": {
           "color": "yellow",
           "width": 1
          },
          "opacity": 0.5,
          "type": "circle",
          "x0": 7.743283571230299,
          "x1": 8.579283571230299,
          "xref": "x2",
          "y0": 5.23211939546713,
          "y1": 6.06811939546713,
          "yref": "y2"
         },
         {
          "fillcolor": "red",
          "line": {
           "color": "red",
           "width": 1
          },
          "opacity": 0.7,
          "type": "circle",
          "x0": 7.751683571230299,
          "x1": 8.570883571230299,
          "xref": "x2",
          "y0": 5.24051939546713,
          "y1": 6.0597193954671305,
          "yref": "y2"
         },
         {
          "fillcolor": "lightblue",
          "line": {
           "color": "green",
           "width": 1
          },
          "opacity": 0.7,
          "type": "rect",
          "x0": 8.78907461517109,
          "x1": 10.044656703052675,
          "xref": "x2",
          "y0": 5.022328351526338,
          "y1": 6.277910439407922,
          "yref": "y2"
         },
         {
          "fillcolor": "green",
          "line": {
           "color": "green",
           "width": 1
          },
          "opacity": 0.3,
          "type": "circle",
          "x0": 8.941665659111884,
          "x1": 9.892065659111882,
          "xref": "x2",
          "y0": 5.17491939546713,
          "y1": 6.12531939546713,
          "yref": "y2"
         },
         {
          "fillcolor": "yellow",
          "line": {
           "color": "yellow",
           "width": 1
          },
          "opacity": 0.5,
          "type": "circle",
          "x0": 8.998865659111884,
          "x1": 9.834865659111882,
          "xref": "x2",
          "y0": 5.23211939546713,
          "y1": 6.06811939546713,
          "yref": "y2"
         },
         {
          "fillcolor": "red",
          "line": {
           "color": "red",
           "width": 1
          },
          "opacity": 0.7,
          "type": "circle",
          "x0": 9.007265659111884,
          "x1": 9.826465659111882,
          "xref": "x2",
          "y0": 5.24051939546713,
          "y1": 6.0597193954671305,
          "yref": "y2"
         },
         {
          "fillcolor": "lightblue",
          "line": {
           "color": "green",
           "width": 1
          },
          "opacity": 0.7,
          "type": "rect",
          "x0": 0,
          "x1": 1.2555820878815844,
          "xref": "x2",
          "y0": 6.277910439407922,
          "y1": 7.533492527289507,
          "yref": "y2"
         },
         {
          "fillcolor": "green",
          "line": {
           "color": "green",
           "width": 1
          },
          "opacity": 0.3,
          "type": "circle",
          "x0": 0.15259104394079215,
          "x1": 1.1029910439407922,
          "xref": "x2",
          "y0": 6.430501483348714,
          "y1": 7.3809014833487145,
          "yref": "y2"
         },
         {
          "fillcolor": "yellow",
          "line": {
           "color": "yellow",
           "width": 1
          },
          "opacity": 0.5,
          "type": "circle",
          "x0": 0.20979104394079218,
          "x1": 1.0457910439407923,
          "xref": "x2",
          "y0": 6.487701483348714,
          "y1": 7.323701483348715,
          "yref": "y2"
         },
         {
          "fillcolor": "red",
          "line": {
           "color": "red",
           "width": 1
          },
          "opacity": 0.7,
          "type": "circle",
          "x0": 0.2181910439407922,
          "x1": 1.0373910439407923,
          "xref": "x2",
          "y0": 6.496101483348714,
          "y1": 7.315301483348715,
          "yref": "y2"
         },
         {
          "fillcolor": "lightblue",
          "line": {
           "color": "green",
           "width": 1
          },
          "opacity": 0.7,
          "type": "rect",
          "x0": 1.2555820878815844,
          "x1": 2.511164175763169,
          "xref": "x2",
          "y0": 6.277910439407922,
          "y1": 7.533492527289507,
          "yref": "y2"
         },
         {
          "fillcolor": "green",
          "line": {
           "color": "green",
           "width": 1
          },
          "opacity": 0.3,
          "type": "circle",
          "x0": 1.4081731318223767,
          "x1": 2.358573131822377,
          "xref": "x2",
          "y0": 6.430501483348714,
          "y1": 7.3809014833487145,
          "yref": "y2"
         },
         {
          "fillcolor": "yellow",
          "line": {
           "color": "yellow",
           "width": 1
          },
          "opacity": 0.5,
          "type": "circle",
          "x0": 1.4653731318223766,
          "x1": 2.301373131822377,
          "xref": "x2",
          "y0": 6.487701483348714,
          "y1": 7.323701483348715,
          "yref": "y2"
         },
         {
          "fillcolor": "red",
          "line": {
           "color": "red",
           "width": 1
          },
          "opacity": 0.7,
          "type": "circle",
          "x0": 1.4737731318223768,
          "x1": 2.292973131822377,
          "xref": "x2",
          "y0": 6.496101483348714,
          "y1": 7.315301483348715,
          "yref": "y2"
         },
         {
          "fillcolor": "lightblue",
          "line": {
           "color": "green",
           "width": 1
          },
          "opacity": 0.7,
          "type": "rect",
          "x0": 2.511164175763169,
          "x1": 3.7667462636447535,
          "xref": "x2",
          "y0": 6.277910439407922,
          "y1": 7.533492527289507,
          "yref": "y2"
         },
         {
          "fillcolor": "green",
          "line": {
           "color": "green",
           "width": 1
          },
          "opacity": 0.3,
          "type": "circle",
          "x0": 2.663755219703961,
          "x1": 3.614155219703961,
          "xref": "x2",
          "y0": 6.430501483348714,
          "y1": 7.3809014833487145,
          "yref": "y2"
         },
         {
          "fillcolor": "yellow",
          "line": {
           "color": "yellow",
           "width": 1
          },
          "opacity": 0.5,
          "type": "circle",
          "x0": 2.720955219703961,
          "x1": 3.556955219703961,
          "xref": "x2",
          "y0": 6.487701483348714,
          "y1": 7.323701483348715,
          "yref": "y2"
         },
         {
          "fillcolor": "red",
          "line": {
           "color": "red",
           "width": 1
          },
          "opacity": 0.7,
          "type": "circle",
          "x0": 2.7293552197039608,
          "x1": 3.548555219703961,
          "xref": "x2",
          "y0": 6.496101483348714,
          "y1": 7.315301483348715,
          "yref": "y2"
         },
         {
          "fillcolor": "lightblue",
          "line": {
           "color": "green",
           "width": 1
          },
          "opacity": 0.7,
          "type": "rect",
          "x0": 3.7667462636447535,
          "x1": 5.022328351526338,
          "xref": "x2",
          "y0": 6.277910439407922,
          "y1": 7.533492527289507,
          "yref": "y2"
         },
         {
          "fillcolor": "green",
          "line": {
           "color": "green",
           "width": 1
          },
          "opacity": 0.3,
          "type": "circle",
          "x0": 3.919337307585546,
          "x1": 4.869737307585546,
          "xref": "x2",
          "y0": 6.430501483348714,
          "y1": 7.3809014833487145,
          "yref": "y2"
         },
         {
          "fillcolor": "yellow",
          "line": {
           "color": "yellow",
           "width": 1
          },
          "opacity": 0.5,
          "type": "circle",
          "x0": 3.976537307585546,
          "x1": 4.812537307585546,
          "xref": "x2",
          "y0": 6.487701483348714,
          "y1": 7.323701483348715,
          "yref": "y2"
         },
         {
          "fillcolor": "red",
          "line": {
           "color": "red",
           "width": 1
          },
          "opacity": 0.7,
          "type": "circle",
          "x0": 3.984937307585546,
          "x1": 4.804137307585546,
          "xref": "x2",
          "y0": 6.496101483348714,
          "y1": 7.315301483348715,
          "yref": "y2"
         },
         {
          "fillcolor": "lightblue",
          "line": {
           "color": "green",
           "width": 1
          },
          "opacity": 0.7,
          "type": "rect",
          "x0": 5.022328351526338,
          "x1": 6.277910439407922,
          "xref": "x2",
          "y0": 6.277910439407922,
          "y1": 7.533492527289507,
          "yref": "y2"
         },
         {
          "fillcolor": "green",
          "line": {
           "color": "green",
           "width": 1
          },
          "opacity": 0.3,
          "type": "circle",
          "x0": 5.17491939546713,
          "x1": 6.12531939546713,
          "xref": "x2",
          "y0": 6.430501483348714,
          "y1": 7.3809014833487145,
          "yref": "y2"
         },
         {
          "fillcolor": "yellow",
          "line": {
           "color": "yellow",
           "width": 1
          },
          "opacity": 0.5,
          "type": "circle",
          "x0": 5.23211939546713,
          "x1": 6.06811939546713,
          "xref": "x2",
          "y0": 6.487701483348714,
          "y1": 7.323701483348715,
          "yref": "y2"
         },
         {
          "fillcolor": "red",
          "line": {
           "color": "red",
           "width": 1
          },
          "opacity": 0.7,
          "type": "circle",
          "x0": 5.24051939546713,
          "x1": 6.0597193954671305,
          "xref": "x2",
          "y0": 6.496101483348714,
          "y1": 7.315301483348715,
          "yref": "y2"
         },
         {
          "fillcolor": "lightblue",
          "line": {
           "color": "green",
           "width": 1
          },
          "opacity": 0.7,
          "type": "rect",
          "x0": 6.277910439407922,
          "x1": 7.533492527289507,
          "xref": "x2",
          "y0": 6.277910439407922,
          "y1": 7.533492527289507,
          "yref": "y2"
         },
         {
          "fillcolor": "green",
          "line": {
           "color": "green",
           "width": 1
          },
          "opacity": 0.3,
          "type": "circle",
          "x0": 6.430501483348714,
          "x1": 7.3809014833487145,
          "xref": "x2",
          "y0": 6.430501483348714,
          "y1": 7.3809014833487145,
          "yref": "y2"
         },
         {
          "fillcolor": "yellow",
          "line": {
           "color": "yellow",
           "width": 1
          },
          "opacity": 0.5,
          "type": "circle",
          "x0": 6.487701483348714,
          "x1": 7.323701483348715,
          "xref": "x2",
          "y0": 6.487701483348714,
          "y1": 7.323701483348715,
          "yref": "y2"
         },
         {
          "fillcolor": "red",
          "line": {
           "color": "red",
           "width": 1
          },
          "opacity": 0.7,
          "type": "circle",
          "x0": 6.496101483348714,
          "x1": 7.315301483348715,
          "xref": "x2",
          "y0": 6.496101483348714,
          "y1": 7.315301483348715,
          "yref": "y2"
         },
         {
          "fillcolor": "lightblue",
          "line": {
           "color": "green",
           "width": 1
          },
          "opacity": 0.7,
          "type": "rect",
          "x0": 7.533492527289507,
          "x1": 8.78907461517109,
          "xref": "x2",
          "y0": 6.277910439407922,
          "y1": 7.533492527289507,
          "yref": "y2"
         },
         {
          "fillcolor": "green",
          "line": {
           "color": "green",
           "width": 1
          },
          "opacity": 0.3,
          "type": "circle",
          "x0": 7.6860835712302995,
          "x1": 8.6364835712303,
          "xref": "x2",
          "y0": 6.430501483348714,
          "y1": 7.3809014833487145,
          "yref": "y2"
         },
         {
          "fillcolor": "yellow",
          "line": {
           "color": "yellow",
           "width": 1
          },
          "opacity": 0.5,
          "type": "circle",
          "x0": 7.743283571230299,
          "x1": 8.579283571230299,
          "xref": "x2",
          "y0": 6.487701483348714,
          "y1": 7.323701483348715,
          "yref": "y2"
         },
         {
          "fillcolor": "red",
          "line": {
           "color": "red",
           "width": 1
          },
          "opacity": 0.7,
          "type": "circle",
          "x0": 7.751683571230299,
          "x1": 8.570883571230299,
          "xref": "x2",
          "y0": 6.496101483348714,
          "y1": 7.315301483348715,
          "yref": "y2"
         },
         {
          "fillcolor": "lightblue",
          "line": {
           "color": "green",
           "width": 1
          },
          "opacity": 0.7,
          "type": "rect",
          "x0": 8.78907461517109,
          "x1": 10.044656703052675,
          "xref": "x2",
          "y0": 6.277910439407922,
          "y1": 7.533492527289507,
          "yref": "y2"
         },
         {
          "fillcolor": "green",
          "line": {
           "color": "green",
           "width": 1
          },
          "opacity": 0.3,
          "type": "circle",
          "x0": 8.941665659111884,
          "x1": 9.892065659111882,
          "xref": "x2",
          "y0": 6.430501483348714,
          "y1": 7.3809014833487145,
          "yref": "y2"
         },
         {
          "fillcolor": "yellow",
          "line": {
           "color": "yellow",
           "width": 1
          },
          "opacity": 0.5,
          "type": "circle",
          "x0": 8.998865659111884,
          "x1": 9.834865659111882,
          "xref": "x2",
          "y0": 6.487701483348714,
          "y1": 7.323701483348715,
          "yref": "y2"
         },
         {
          "fillcolor": "red",
          "line": {
           "color": "red",
           "width": 1
          },
          "opacity": 0.7,
          "type": "circle",
          "x0": 9.007265659111884,
          "x1": 9.826465659111882,
          "xref": "x2",
          "y0": 6.496101483348714,
          "y1": 7.315301483348715,
          "yref": "y2"
         },
         {
          "fillcolor": "lightblue",
          "line": {
           "color": "green",
           "width": 1
          },
          "opacity": 0.7,
          "type": "rect",
          "x0": 0,
          "x1": 1.2555820878815844,
          "xref": "x2",
          "y0": 7.533492527289507,
          "y1": 8.78907461517109,
          "yref": "y2"
         },
         {
          "fillcolor": "green",
          "line": {
           "color": "green",
           "width": 1
          },
          "opacity": 0.3,
          "type": "circle",
          "x0": 0.15259104394079215,
          "x1": 1.1029910439407922,
          "xref": "x2",
          "y0": 7.6860835712302995,
          "y1": 8.6364835712303,
          "yref": "y2"
         },
         {
          "fillcolor": "yellow",
          "line": {
           "color": "yellow",
           "width": 1
          },
          "opacity": 0.5,
          "type": "circle",
          "x0": 0.20979104394079218,
          "x1": 1.0457910439407923,
          "xref": "x2",
          "y0": 7.743283571230299,
          "y1": 8.579283571230299,
          "yref": "y2"
         },
         {
          "fillcolor": "red",
          "line": {
           "color": "red",
           "width": 1
          },
          "opacity": 0.7,
          "type": "circle",
          "x0": 0.2181910439407922,
          "x1": 1.0373910439407923,
          "xref": "x2",
          "y0": 7.751683571230299,
          "y1": 8.570883571230299,
          "yref": "y2"
         },
         {
          "fillcolor": "lightblue",
          "line": {
           "color": "green",
           "width": 1
          },
          "opacity": 0.7,
          "type": "rect",
          "x0": 1.2555820878815844,
          "x1": 2.511164175763169,
          "xref": "x2",
          "y0": 7.533492527289507,
          "y1": 8.78907461517109,
          "yref": "y2"
         },
         {
          "fillcolor": "green",
          "line": {
           "color": "green",
           "width": 1
          },
          "opacity": 0.3,
          "type": "circle",
          "x0": 1.4081731318223767,
          "x1": 2.358573131822377,
          "xref": "x2",
          "y0": 7.6860835712302995,
          "y1": 8.6364835712303,
          "yref": "y2"
         },
         {
          "fillcolor": "yellow",
          "line": {
           "color": "yellow",
           "width": 1
          },
          "opacity": 0.5,
          "type": "circle",
          "x0": 1.4653731318223766,
          "x1": 2.301373131822377,
          "xref": "x2",
          "y0": 7.743283571230299,
          "y1": 8.579283571230299,
          "yref": "y2"
         },
         {
          "fillcolor": "red",
          "line": {
           "color": "red",
           "width": 1
          },
          "opacity": 0.7,
          "type": "circle",
          "x0": 1.4737731318223768,
          "x1": 2.292973131822377,
          "xref": "x2",
          "y0": 7.751683571230299,
          "y1": 8.570883571230299,
          "yref": "y2"
         },
         {
          "fillcolor": "lightblue",
          "line": {
           "color": "green",
           "width": 1
          },
          "opacity": 0.7,
          "type": "rect",
          "x0": 2.511164175763169,
          "x1": 3.7667462636447535,
          "xref": "x2",
          "y0": 7.533492527289507,
          "y1": 8.78907461517109,
          "yref": "y2"
         },
         {
          "fillcolor": "green",
          "line": {
           "color": "green",
           "width": 1
          },
          "opacity": 0.3,
          "type": "circle",
          "x0": 2.663755219703961,
          "x1": 3.614155219703961,
          "xref": "x2",
          "y0": 7.6860835712302995,
          "y1": 8.6364835712303,
          "yref": "y2"
         },
         {
          "fillcolor": "yellow",
          "line": {
           "color": "yellow",
           "width": 1
          },
          "opacity": 0.5,
          "type": "circle",
          "x0": 2.720955219703961,
          "x1": 3.556955219703961,
          "xref": "x2",
          "y0": 7.743283571230299,
          "y1": 8.579283571230299,
          "yref": "y2"
         },
         {
          "fillcolor": "red",
          "line": {
           "color": "red",
           "width": 1
          },
          "opacity": 0.7,
          "type": "circle",
          "x0": 2.7293552197039608,
          "x1": 3.548555219703961,
          "xref": "x2",
          "y0": 7.751683571230299,
          "y1": 8.570883571230299,
          "yref": "y2"
         },
         {
          "fillcolor": "lightblue",
          "line": {
           "color": "green",
           "width": 1
          },
          "opacity": 0.7,
          "type": "rect",
          "x0": 3.7667462636447535,
          "x1": 5.022328351526338,
          "xref": "x2",
          "y0": 7.533492527289507,
          "y1": 8.78907461517109,
          "yref": "y2"
         },
         {
          "fillcolor": "green",
          "line": {
           "color": "green",
           "width": 1
          },
          "opacity": 0.3,
          "type": "circle",
          "x0": 3.919337307585546,
          "x1": 4.869737307585546,
          "xref": "x2",
          "y0": 7.6860835712302995,
          "y1": 8.6364835712303,
          "yref": "y2"
         },
         {
          "fillcolor": "yellow",
          "line": {
           "color": "yellow",
           "width": 1
          },
          "opacity": 0.5,
          "type": "circle",
          "x0": 3.976537307585546,
          "x1": 4.812537307585546,
          "xref": "x2",
          "y0": 7.743283571230299,
          "y1": 8.579283571230299,
          "yref": "y2"
         },
         {
          "fillcolor": "red",
          "line": {
           "color": "red",
           "width": 1
          },
          "opacity": 0.7,
          "type": "circle",
          "x0": 3.984937307585546,
          "x1": 4.804137307585546,
          "xref": "x2",
          "y0": 7.751683571230299,
          "y1": 8.570883571230299,
          "yref": "y2"
         },
         {
          "fillcolor": "lightblue",
          "line": {
           "color": "green",
           "width": 1
          },
          "opacity": 0.7,
          "type": "rect",
          "x0": 5.022328351526338,
          "x1": 6.277910439407922,
          "xref": "x2",
          "y0": 7.533492527289507,
          "y1": 8.78907461517109,
          "yref": "y2"
         },
         {
          "fillcolor": "green",
          "line": {
           "color": "green",
           "width": 1
          },
          "opacity": 0.3,
          "type": "circle",
          "x0": 5.17491939546713,
          "x1": 6.12531939546713,
          "xref": "x2",
          "y0": 7.6860835712302995,
          "y1": 8.6364835712303,
          "yref": "y2"
         },
         {
          "fillcolor": "yellow",
          "line": {
           "color": "yellow",
           "width": 1
          },
          "opacity": 0.5,
          "type": "circle",
          "x0": 5.23211939546713,
          "x1": 6.06811939546713,
          "xref": "x2",
          "y0": 7.743283571230299,
          "y1": 8.579283571230299,
          "yref": "y2"
         },
         {
          "fillcolor": "red",
          "line": {
           "color": "red",
           "width": 1
          },
          "opacity": 0.7,
          "type": "circle",
          "x0": 5.24051939546713,
          "x1": 6.0597193954671305,
          "xref": "x2",
          "y0": 7.751683571230299,
          "y1": 8.570883571230299,
          "yref": "y2"
         },
         {
          "fillcolor": "lightblue",
          "line": {
           "color": "green",
           "width": 1
          },
          "opacity": 0.7,
          "type": "rect",
          "x0": 6.277910439407922,
          "x1": 7.533492527289507,
          "xref": "x2",
          "y0": 7.533492527289507,
          "y1": 8.78907461517109,
          "yref": "y2"
         },
         {
          "fillcolor": "green",
          "line": {
           "color": "green",
           "width": 1
          },
          "opacity": 0.3,
          "type": "circle",
          "x0": 6.430501483348714,
          "x1": 7.3809014833487145,
          "xref": "x2",
          "y0": 7.6860835712302995,
          "y1": 8.6364835712303,
          "yref": "y2"
         },
         {
          "fillcolor": "yellow",
          "line": {
           "color": "yellow",
           "width": 1
          },
          "opacity": 0.5,
          "type": "circle",
          "x0": 6.487701483348714,
          "x1": 7.323701483348715,
          "xref": "x2",
          "y0": 7.743283571230299,
          "y1": 8.579283571230299,
          "yref": "y2"
         },
         {
          "fillcolor": "red",
          "line": {
           "color": "red",
           "width": 1
          },
          "opacity": 0.7,
          "type": "circle",
          "x0": 6.496101483348714,
          "x1": 7.315301483348715,
          "xref": "x2",
          "y0": 7.751683571230299,
          "y1": 8.570883571230299,
          "yref": "y2"
         },
         {
          "fillcolor": "lightblue",
          "line": {
           "color": "green",
           "width": 1
          },
          "opacity": 0.7,
          "type": "rect",
          "x0": 7.533492527289507,
          "x1": 8.78907461517109,
          "xref": "x2",
          "y0": 7.533492527289507,
          "y1": 8.78907461517109,
          "yref": "y2"
         },
         {
          "fillcolor": "green",
          "line": {
           "color": "green",
           "width": 1
          },
          "opacity": 0.3,
          "type": "circle",
          "x0": 7.6860835712302995,
          "x1": 8.6364835712303,
          "xref": "x2",
          "y0": 7.6860835712302995,
          "y1": 8.6364835712303,
          "yref": "y2"
         },
         {
          "fillcolor": "yellow",
          "line": {
           "color": "yellow",
           "width": 1
          },
          "opacity": 0.5,
          "type": "circle",
          "x0": 7.743283571230299,
          "x1": 8.579283571230299,
          "xref": "x2",
          "y0": 7.743283571230299,
          "y1": 8.579283571230299,
          "yref": "y2"
         },
         {
          "fillcolor": "red",
          "line": {
           "color": "red",
           "width": 1
          },
          "opacity": 0.7,
          "type": "circle",
          "x0": 7.751683571230299,
          "x1": 8.570883571230299,
          "xref": "x2",
          "y0": 7.751683571230299,
          "y1": 8.570883571230299,
          "yref": "y2"
         },
         {
          "fillcolor": "lightblue",
          "line": {
           "color": "green",
           "width": 1
          },
          "opacity": 0.7,
          "type": "rect",
          "x0": 8.78907461517109,
          "x1": 10.044656703052675,
          "xref": "x2",
          "y0": 7.533492527289507,
          "y1": 8.78907461517109,
          "yref": "y2"
         },
         {
          "fillcolor": "green",
          "line": {
           "color": "green",
           "width": 1
          },
          "opacity": 0.3,
          "type": "circle",
          "x0": 8.941665659111884,
          "x1": 9.892065659111882,
          "xref": "x2",
          "y0": 7.6860835712302995,
          "y1": 8.6364835712303,
          "yref": "y2"
         },
         {
          "fillcolor": "yellow",
          "line": {
           "color": "yellow",
           "width": 1
          },
          "opacity": 0.5,
          "type": "circle",
          "x0": 8.998865659111884,
          "x1": 9.834865659111882,
          "xref": "x2",
          "y0": 7.743283571230299,
          "y1": 8.579283571230299,
          "yref": "y2"
         },
         {
          "fillcolor": "red",
          "line": {
           "color": "red",
           "width": 1
          },
          "opacity": 0.7,
          "type": "circle",
          "x0": 9.007265659111884,
          "x1": 9.826465659111882,
          "xref": "x2",
          "y0": 7.751683571230299,
          "y1": 8.570883571230299,
          "yref": "y2"
         },
         {
          "fillcolor": "lightblue",
          "line": {
           "color": "green",
           "width": 1
          },
          "opacity": 0.7,
          "type": "rect",
          "x0": 0,
          "x1": 1.2555820878815844,
          "xref": "x2",
          "y0": 8.78907461517109,
          "y1": 10.044656703052675,
          "yref": "y2"
         },
         {
          "fillcolor": "green",
          "line": {
           "color": "green",
           "width": 1
          },
          "opacity": 0.3,
          "type": "circle",
          "x0": 0.15259104394079215,
          "x1": 1.1029910439407922,
          "xref": "x2",
          "y0": 8.941665659111884,
          "y1": 9.892065659111882,
          "yref": "y2"
         },
         {
          "fillcolor": "yellow",
          "line": {
           "color": "yellow",
           "width": 1
          },
          "opacity": 0.5,
          "type": "circle",
          "x0": 0.20979104394079218,
          "x1": 1.0457910439407923,
          "xref": "x2",
          "y0": 8.998865659111884,
          "y1": 9.834865659111882,
          "yref": "y2"
         },
         {
          "fillcolor": "red",
          "line": {
           "color": "red",
           "width": 1
          },
          "opacity": 0.7,
          "type": "circle",
          "x0": 0.2181910439407922,
          "x1": 1.0373910439407923,
          "xref": "x2",
          "y0": 9.007265659111884,
          "y1": 9.826465659111882,
          "yref": "y2"
         },
         {
          "fillcolor": "lightblue",
          "line": {
           "color": "green",
           "width": 1
          },
          "opacity": 0.7,
          "type": "rect",
          "x0": 1.2555820878815844,
          "x1": 2.511164175763169,
          "xref": "x2",
          "y0": 8.78907461517109,
          "y1": 10.044656703052675,
          "yref": "y2"
         },
         {
          "fillcolor": "green",
          "line": {
           "color": "green",
           "width": 1
          },
          "opacity": 0.3,
          "type": "circle",
          "x0": 1.4081731318223767,
          "x1": 2.358573131822377,
          "xref": "x2",
          "y0": 8.941665659111884,
          "y1": 9.892065659111882,
          "yref": "y2"
         },
         {
          "fillcolor": "yellow",
          "line": {
           "color": "yellow",
           "width": 1
          },
          "opacity": 0.5,
          "type": "circle",
          "x0": 1.4653731318223766,
          "x1": 2.301373131822377,
          "xref": "x2",
          "y0": 8.998865659111884,
          "y1": 9.834865659111882,
          "yref": "y2"
         },
         {
          "fillcolor": "red",
          "line": {
           "color": "red",
           "width": 1
          },
          "opacity": 0.7,
          "type": "circle",
          "x0": 1.4737731318223768,
          "x1": 2.292973131822377,
          "xref": "x2",
          "y0": 9.007265659111884,
          "y1": 9.826465659111882,
          "yref": "y2"
         },
         {
          "fillcolor": "lightblue",
          "line": {
           "color": "green",
           "width": 1
          },
          "opacity": 0.7,
          "type": "rect",
          "x0": 2.511164175763169,
          "x1": 3.7667462636447535,
          "xref": "x2",
          "y0": 8.78907461517109,
          "y1": 10.044656703052675,
          "yref": "y2"
         },
         {
          "fillcolor": "green",
          "line": {
           "color": "green",
           "width": 1
          },
          "opacity": 0.3,
          "type": "circle",
          "x0": 2.663755219703961,
          "x1": 3.614155219703961,
          "xref": "x2",
          "y0": 8.941665659111884,
          "y1": 9.892065659111882,
          "yref": "y2"
         },
         {
          "fillcolor": "yellow",
          "line": {
           "color": "yellow",
           "width": 1
          },
          "opacity": 0.5,
          "type": "circle",
          "x0": 2.720955219703961,
          "x1": 3.556955219703961,
          "xref": "x2",
          "y0": 8.998865659111884,
          "y1": 9.834865659111882,
          "yref": "y2"
         },
         {
          "fillcolor": "red",
          "line": {
           "color": "red",
           "width": 1
          },
          "opacity": 0.7,
          "type": "circle",
          "x0": 2.7293552197039608,
          "x1": 3.548555219703961,
          "xref": "x2",
          "y0": 9.007265659111884,
          "y1": 9.826465659111882,
          "yref": "y2"
         },
         {
          "fillcolor": "lightblue",
          "line": {
           "color": "green",
           "width": 1
          },
          "opacity": 0.7,
          "type": "rect",
          "x0": 3.7667462636447535,
          "x1": 5.022328351526338,
          "xref": "x2",
          "y0": 8.78907461517109,
          "y1": 10.044656703052675,
          "yref": "y2"
         },
         {
          "fillcolor": "green",
          "line": {
           "color": "green",
           "width": 1
          },
          "opacity": 0.3,
          "type": "circle",
          "x0": 3.919337307585546,
          "x1": 4.869737307585546,
          "xref": "x2",
          "y0": 8.941665659111884,
          "y1": 9.892065659111882,
          "yref": "y2"
         },
         {
          "fillcolor": "yellow",
          "line": {
           "color": "yellow",
           "width": 1
          },
          "opacity": 0.5,
          "type": "circle",
          "x0": 3.976537307585546,
          "x1": 4.812537307585546,
          "xref": "x2",
          "y0": 8.998865659111884,
          "y1": 9.834865659111882,
          "yref": "y2"
         },
         {
          "fillcolor": "red",
          "line": {
           "color": "red",
           "width": 1
          },
          "opacity": 0.7,
          "type": "circle",
          "x0": 3.984937307585546,
          "x1": 4.804137307585546,
          "xref": "x2",
          "y0": 9.007265659111884,
          "y1": 9.826465659111882,
          "yref": "y2"
         },
         {
          "fillcolor": "lightblue",
          "line": {
           "color": "green",
           "width": 1
          },
          "opacity": 0.7,
          "type": "rect",
          "x0": 5.022328351526338,
          "x1": 6.277910439407922,
          "xref": "x2",
          "y0": 8.78907461517109,
          "y1": 10.044656703052675,
          "yref": "y2"
         },
         {
          "fillcolor": "green",
          "line": {
           "color": "green",
           "width": 1
          },
          "opacity": 0.3,
          "type": "circle",
          "x0": 5.17491939546713,
          "x1": 6.12531939546713,
          "xref": "x2",
          "y0": 8.941665659111884,
          "y1": 9.892065659111882,
          "yref": "y2"
         },
         {
          "fillcolor": "yellow",
          "line": {
           "color": "yellow",
           "width": 1
          },
          "opacity": 0.5,
          "type": "circle",
          "x0": 5.23211939546713,
          "x1": 6.06811939546713,
          "xref": "x2",
          "y0": 8.998865659111884,
          "y1": 9.834865659111882,
          "yref": "y2"
         },
         {
          "fillcolor": "red",
          "line": {
           "color": "red",
           "width": 1
          },
          "opacity": 0.7,
          "type": "circle",
          "x0": 5.24051939546713,
          "x1": 6.0597193954671305,
          "xref": "x2",
          "y0": 9.007265659111884,
          "y1": 9.826465659111882,
          "yref": "y2"
         },
         {
          "fillcolor": "lightblue",
          "line": {
           "color": "green",
           "width": 1
          },
          "opacity": 0.7,
          "type": "rect",
          "x0": 6.277910439407922,
          "x1": 7.533492527289507,
          "xref": "x2",
          "y0": 8.78907461517109,
          "y1": 10.044656703052675,
          "yref": "y2"
         },
         {
          "fillcolor": "green",
          "line": {
           "color": "green",
           "width": 1
          },
          "opacity": 0.3,
          "type": "circle",
          "x0": 6.430501483348714,
          "x1": 7.3809014833487145,
          "xref": "x2",
          "y0": 8.941665659111884,
          "y1": 9.892065659111882,
          "yref": "y2"
         },
         {
          "fillcolor": "yellow",
          "line": {
           "color": "yellow",
           "width": 1
          },
          "opacity": 0.5,
          "type": "circle",
          "x0": 6.487701483348714,
          "x1": 7.323701483348715,
          "xref": "x2",
          "y0": 8.998865659111884,
          "y1": 9.834865659111882,
          "yref": "y2"
         },
         {
          "fillcolor": "red",
          "line": {
           "color": "red",
           "width": 1
          },
          "opacity": 0.7,
          "type": "circle",
          "x0": 6.496101483348714,
          "x1": 7.315301483348715,
          "xref": "x2",
          "y0": 9.007265659111884,
          "y1": 9.826465659111882,
          "yref": "y2"
         },
         {
          "fillcolor": "lightblue",
          "line": {
           "color": "green",
           "width": 1
          },
          "opacity": 0.7,
          "type": "rect",
          "x0": 7.533492527289507,
          "x1": 8.78907461517109,
          "xref": "x2",
          "y0": 8.78907461517109,
          "y1": 10.044656703052675,
          "yref": "y2"
         },
         {
          "fillcolor": "green",
          "line": {
           "color": "green",
           "width": 1
          },
          "opacity": 0.3,
          "type": "circle",
          "x0": 7.6860835712302995,
          "x1": 8.6364835712303,
          "xref": "x2",
          "y0": 8.941665659111884,
          "y1": 9.892065659111882,
          "yref": "y2"
         },
         {
          "fillcolor": "yellow",
          "line": {
           "color": "yellow",
           "width": 1
          },
          "opacity": 0.5,
          "type": "circle",
          "x0": 7.743283571230299,
          "x1": 8.579283571230299,
          "xref": "x2",
          "y0": 8.998865659111884,
          "y1": 9.834865659111882,
          "yref": "y2"
         },
         {
          "fillcolor": "red",
          "line": {
           "color": "red",
           "width": 1
          },
          "opacity": 0.7,
          "type": "circle",
          "x0": 7.751683571230299,
          "x1": 8.570883571230299,
          "xref": "x2",
          "y0": 9.007265659111884,
          "y1": 9.826465659111882,
          "yref": "y2"
         },
         {
          "fillcolor": "lightblue",
          "line": {
           "color": "green",
           "width": 1
          },
          "opacity": 0.7,
          "type": "rect",
          "x0": 8.78907461517109,
          "x1": 10.044656703052675,
          "xref": "x2",
          "y0": 8.78907461517109,
          "y1": 10.044656703052675,
          "yref": "y2"
         },
         {
          "fillcolor": "green",
          "line": {
           "color": "green",
           "width": 1
          },
          "opacity": 0.3,
          "type": "circle",
          "x0": 8.941665659111884,
          "x1": 9.892065659111882,
          "xref": "x2",
          "y0": 8.941665659111884,
          "y1": 9.892065659111882,
          "yref": "y2"
         },
         {
          "fillcolor": "yellow",
          "line": {
           "color": "yellow",
           "width": 1
          },
          "opacity": 0.5,
          "type": "circle",
          "x0": 8.998865659111884,
          "x1": 9.834865659111882,
          "xref": "x2",
          "y0": 8.998865659111884,
          "y1": 9.834865659111882,
          "yref": "y2"
         },
         {
          "fillcolor": "red",
          "line": {
           "color": "red",
           "width": 1
          },
          "opacity": 0.7,
          "type": "circle",
          "x0": 9.007265659111884,
          "x1": 9.826465659111882,
          "xref": "x2",
          "y0": 9.007265659111884,
          "y1": 9.826465659111882,
          "yref": "y2"
         }
        ],
        "showlegend": true,
        "template": {
         "data": {
          "bar": [
           {
            "error_x": {
             "color": "#2a3f5f"
            },
            "error_y": {
             "color": "#2a3f5f"
            },
            "marker": {
             "line": {
              "color": "#E5ECF6",
              "width": 0.5
             },
             "pattern": {
              "fillmode": "overlay",
              "size": 10,
              "solidity": 0.2
             }
            },
            "type": "bar"
           }
          ],
          "barpolar": [
           {
            "marker": {
             "line": {
              "color": "#E5ECF6",
              "width": 0.5
             },
             "pattern": {
              "fillmode": "overlay",
              "size": 10,
              "solidity": 0.2
             }
            },
            "type": "barpolar"
           }
          ],
          "carpet": [
           {
            "aaxis": {
             "endlinecolor": "#2a3f5f",
             "gridcolor": "white",
             "linecolor": "white",
             "minorgridcolor": "white",
             "startlinecolor": "#2a3f5f"
            },
            "baxis": {
             "endlinecolor": "#2a3f5f",
             "gridcolor": "white",
             "linecolor": "white",
             "minorgridcolor": "white",
             "startlinecolor": "#2a3f5f"
            },
            "type": "carpet"
           }
          ],
          "choropleth": [
           {
            "colorbar": {
             "outlinewidth": 0,
             "ticks": ""
            },
            "type": "choropleth"
           }
          ],
          "contour": [
           {
            "colorbar": {
             "outlinewidth": 0,
             "ticks": ""
            },
            "colorscale": [
             [
              0,
              "#0d0887"
             ],
             [
              0.1111111111111111,
              "#46039f"
             ],
             [
              0.2222222222222222,
              "#7201a8"
             ],
             [
              0.3333333333333333,
              "#9c179e"
             ],
             [
              0.4444444444444444,
              "#bd3786"
             ],
             [
              0.5555555555555556,
              "#d8576b"
             ],
             [
              0.6666666666666666,
              "#ed7953"
             ],
             [
              0.7777777777777778,
              "#fb9f3a"
             ],
             [
              0.8888888888888888,
              "#fdca26"
             ],
             [
              1,
              "#f0f921"
             ]
            ],
            "type": "contour"
           }
          ],
          "contourcarpet": [
           {
            "colorbar": {
             "outlinewidth": 0,
             "ticks": ""
            },
            "type": "contourcarpet"
           }
          ],
          "heatmap": [
           {
            "colorbar": {
             "outlinewidth": 0,
             "ticks": ""
            },
            "colorscale": [
             [
              0,
              "#0d0887"
             ],
             [
              0.1111111111111111,
              "#46039f"
             ],
             [
              0.2222222222222222,
              "#7201a8"
             ],
             [
              0.3333333333333333,
              "#9c179e"
             ],
             [
              0.4444444444444444,
              "#bd3786"
             ],
             [
              0.5555555555555556,
              "#d8576b"
             ],
             [
              0.6666666666666666,
              "#ed7953"
             ],
             [
              0.7777777777777778,
              "#fb9f3a"
             ],
             [
              0.8888888888888888,
              "#fdca26"
             ],
             [
              1,
              "#f0f921"
             ]
            ],
            "type": "heatmap"
           }
          ],
          "heatmapgl": [
           {
            "colorbar": {
             "outlinewidth": 0,
             "ticks": ""
            },
            "colorscale": [
             [
              0,
              "#0d0887"
             ],
             [
              0.1111111111111111,
              "#46039f"
             ],
             [
              0.2222222222222222,
              "#7201a8"
             ],
             [
              0.3333333333333333,
              "#9c179e"
             ],
             [
              0.4444444444444444,
              "#bd3786"
             ],
             [
              0.5555555555555556,
              "#d8576b"
             ],
             [
              0.6666666666666666,
              "#ed7953"
             ],
             [
              0.7777777777777778,
              "#fb9f3a"
             ],
             [
              0.8888888888888888,
              "#fdca26"
             ],
             [
              1,
              "#f0f921"
             ]
            ],
            "type": "heatmapgl"
           }
          ],
          "histogram": [
           {
            "marker": {
             "pattern": {
              "fillmode": "overlay",
              "size": 10,
              "solidity": 0.2
             }
            },
            "type": "histogram"
           }
          ],
          "histogram2d": [
           {
            "colorbar": {
             "outlinewidth": 0,
             "ticks": ""
            },
            "colorscale": [
             [
              0,
              "#0d0887"
             ],
             [
              0.1111111111111111,
              "#46039f"
             ],
             [
              0.2222222222222222,
              "#7201a8"
             ],
             [
              0.3333333333333333,
              "#9c179e"
             ],
             [
              0.4444444444444444,
              "#bd3786"
             ],
             [
              0.5555555555555556,
              "#d8576b"
             ],
             [
              0.6666666666666666,
              "#ed7953"
             ],
             [
              0.7777777777777778,
              "#fb9f3a"
             ],
             [
              0.8888888888888888,
              "#fdca26"
             ],
             [
              1,
              "#f0f921"
             ]
            ],
            "type": "histogram2d"
           }
          ],
          "histogram2dcontour": [
           {
            "colorbar": {
             "outlinewidth": 0,
             "ticks": ""
            },
            "colorscale": [
             [
              0,
              "#0d0887"
             ],
             [
              0.1111111111111111,
              "#46039f"
             ],
             [
              0.2222222222222222,
              "#7201a8"
             ],
             [
              0.3333333333333333,
              "#9c179e"
             ],
             [
              0.4444444444444444,
              "#bd3786"
             ],
             [
              0.5555555555555556,
              "#d8576b"
             ],
             [
              0.6666666666666666,
              "#ed7953"
             ],
             [
              0.7777777777777778,
              "#fb9f3a"
             ],
             [
              0.8888888888888888,
              "#fdca26"
             ],
             [
              1,
              "#f0f921"
             ]
            ],
            "type": "histogram2dcontour"
           }
          ],
          "mesh3d": [
           {
            "colorbar": {
             "outlinewidth": 0,
             "ticks": ""
            },
            "type": "mesh3d"
           }
          ],
          "parcoords": [
           {
            "line": {
             "colorbar": {
              "outlinewidth": 0,
              "ticks": ""
             }
            },
            "type": "parcoords"
           }
          ],
          "pie": [
           {
            "automargin": true,
            "type": "pie"
           }
          ],
          "scatter": [
           {
            "fillpattern": {
             "fillmode": "overlay",
             "size": 10,
             "solidity": 0.2
            },
            "type": "scatter"
           }
          ],
          "scatter3d": [
           {
            "line": {
             "colorbar": {
              "outlinewidth": 0,
              "ticks": ""
             }
            },
            "marker": {
             "colorbar": {
              "outlinewidth": 0,
              "ticks": ""
             }
            },
            "type": "scatter3d"
           }
          ],
          "scattercarpet": [
           {
            "marker": {
             "colorbar": {
              "outlinewidth": 0,
              "ticks": ""
             }
            },
            "type": "scattercarpet"
           }
          ],
          "scattergeo": [
           {
            "marker": {
             "colorbar": {
              "outlinewidth": 0,
              "ticks": ""
             }
            },
            "type": "scattergeo"
           }
          ],
          "scattergl": [
           {
            "marker": {
             "colorbar": {
              "outlinewidth": 0,
              "ticks": ""
             }
            },
            "type": "scattergl"
           }
          ],
          "scattermapbox": [
           {
            "marker": {
             "colorbar": {
              "outlinewidth": 0,
              "ticks": ""
             }
            },
            "type": "scattermapbox"
           }
          ],
          "scatterpolar": [
           {
            "marker": {
             "colorbar": {
              "outlinewidth": 0,
              "ticks": ""
             }
            },
            "type": "scatterpolar"
           }
          ],
          "scatterpolargl": [
           {
            "marker": {
             "colorbar": {
              "outlinewidth": 0,
              "ticks": ""
             }
            },
            "type": "scatterpolargl"
           }
          ],
          "scatterternary": [
           {
            "marker": {
             "colorbar": {
              "outlinewidth": 0,
              "ticks": ""
             }
            },
            "type": "scatterternary"
           }
          ],
          "surface": [
           {
            "colorbar": {
             "outlinewidth": 0,
             "ticks": ""
            },
            "colorscale": [
             [
              0,
              "#0d0887"
             ],
             [
              0.1111111111111111,
              "#46039f"
             ],
             [
              0.2222222222222222,
              "#7201a8"
             ],
             [
              0.3333333333333333,
              "#9c179e"
             ],
             [
              0.4444444444444444,
              "#bd3786"
             ],
             [
              0.5555555555555556,
              "#d8576b"
             ],
             [
              0.6666666666666666,
              "#ed7953"
             ],
             [
              0.7777777777777778,
              "#fb9f3a"
             ],
             [
              0.8888888888888888,
              "#fdca26"
             ],
             [
              1,
              "#f0f921"
             ]
            ],
            "type": "surface"
           }
          ],
          "table": [
           {
            "cells": {
             "fill": {
              "color": "#EBF0F8"
             },
             "line": {
              "color": "white"
             }
            },
            "header": {
             "fill": {
              "color": "#C8D4E3"
             },
             "line": {
              "color": "white"
             }
            },
            "type": "table"
           }
          ]
         },
         "layout": {
          "annotationdefaults": {
           "arrowcolor": "#2a3f5f",
           "arrowhead": 0,
           "arrowwidth": 1
          },
          "autotypenumbers": "strict",
          "coloraxis": {
           "colorbar": {
            "outlinewidth": 0,
            "ticks": ""
           }
          },
          "colorscale": {
           "diverging": [
            [
             0,
             "#8e0152"
            ],
            [
             0.1,
             "#c51b7d"
            ],
            [
             0.2,
             "#de77ae"
            ],
            [
             0.3,
             "#f1b6da"
            ],
            [
             0.4,
             "#fde0ef"
            ],
            [
             0.5,
             "#f7f7f7"
            ],
            [
             0.6,
             "#e6f5d0"
            ],
            [
             0.7,
             "#b8e186"
            ],
            [
             0.8,
             "#7fbc41"
            ],
            [
             0.9,
             "#4d9221"
            ],
            [
             1,
             "#276419"
            ]
           ],
           "sequential": [
            [
             0,
             "#0d0887"
            ],
            [
             0.1111111111111111,
             "#46039f"
            ],
            [
             0.2222222222222222,
             "#7201a8"
            ],
            [
             0.3333333333333333,
             "#9c179e"
            ],
            [
             0.4444444444444444,
             "#bd3786"
            ],
            [
             0.5555555555555556,
             "#d8576b"
            ],
            [
             0.6666666666666666,
             "#ed7953"
            ],
            [
             0.7777777777777778,
             "#fb9f3a"
            ],
            [
             0.8888888888888888,
             "#fdca26"
            ],
            [
             1,
             "#f0f921"
            ]
           ],
           "sequentialminus": [
            [
             0,
             "#0d0887"
            ],
            [
             0.1111111111111111,
             "#46039f"
            ],
            [
             0.2222222222222222,
             "#7201a8"
            ],
            [
             0.3333333333333333,
             "#9c179e"
            ],
            [
             0.4444444444444444,
             "#bd3786"
            ],
            [
             0.5555555555555556,
             "#d8576b"
            ],
            [
             0.6666666666666666,
             "#ed7953"
            ],
            [
             0.7777777777777778,
             "#fb9f3a"
            ],
            [
             0.8888888888888888,
             "#fdca26"
            ],
            [
             1,
             "#f0f921"
            ]
           ]
          },
          "colorway": [
           "#636efa",
           "#EF553B",
           "#00cc96",
           "#ab63fa",
           "#FFA15A",
           "#19d3f3",
           "#FF6692",
           "#B6E880",
           "#FF97FF",
           "#FECB52"
          ],
          "font": {
           "color": "#2a3f5f"
          },
          "geo": {
           "bgcolor": "white",
           "lakecolor": "white",
           "landcolor": "#E5ECF6",
           "showlakes": true,
           "showland": true,
           "subunitcolor": "white"
          },
          "hoverlabel": {
           "align": "left"
          },
          "hovermode": "closest",
          "mapbox": {
           "style": "light"
          },
          "paper_bgcolor": "white",
          "plot_bgcolor": "#E5ECF6",
          "polar": {
           "angularaxis": {
            "gridcolor": "white",
            "linecolor": "white",
            "ticks": ""
           },
           "bgcolor": "#E5ECF6",
           "radialaxis": {
            "gridcolor": "white",
            "linecolor": "white",
            "ticks": ""
           }
          },
          "scene": {
           "xaxis": {
            "backgroundcolor": "#E5ECF6",
            "gridcolor": "white",
            "gridwidth": 2,
            "linecolor": "white",
            "showbackground": true,
            "ticks": "",
            "zerolinecolor": "white"
           },
           "yaxis": {
            "backgroundcolor": "#E5ECF6",
            "gridcolor": "white",
            "gridwidth": 2,
            "linecolor": "white",
            "showbackground": true,
            "ticks": "",
            "zerolinecolor": "white"
           },
           "zaxis": {
            "backgroundcolor": "#E5ECF6",
            "gridcolor": "white",
            "gridwidth": 2,
            "linecolor": "white",
            "showbackground": true,
            "ticks": "",
            "zerolinecolor": "white"
           }
          },
          "shapedefaults": {
           "line": {
            "color": "#2a3f5f"
           }
          },
          "ternary": {
           "aaxis": {
            "gridcolor": "white",
            "linecolor": "white",
            "ticks": ""
           },
           "baxis": {
            "gridcolor": "white",
            "linecolor": "white",
            "ticks": ""
           },
           "bgcolor": "#E5ECF6",
           "caxis": {
            "gridcolor": "white",
            "linecolor": "white",
            "ticks": ""
           }
          },
          "title": {
           "x": 0.05
          },
          "xaxis": {
           "automargin": true,
           "gridcolor": "white",
           "linecolor": "white",
           "ticks": "",
           "title": {
            "standoff": 15
           },
           "zerolinecolor": "white",
           "zerolinewidth": 2
          },
          "yaxis": {
           "automargin": true,
           "gridcolor": "white",
           "linecolor": "white",
           "ticks": "",
           "title": {
            "standoff": 15
           },
           "zerolinecolor": "white",
           "zerolinewidth": 2
          }
         }
        },
        "width": 1600,
        "xaxis": {
         "anchor": "y",
         "constrain": "domain",
         "domain": [
          0,
          0.45
         ],
         "gridcolor": "lightgrey",
         "range": [
          0,
          180
         ],
         "scaleratio": 1,
         "zeroline": true,
         "zerolinecolor": "black",
         "zerolinewidth": 2
        },
        "xaxis2": {
         "anchor": "y2",
         "constrain": "domain",
         "domain": [
          0.55,
          1
         ],
         "gridcolor": "lightgrey",
         "range": [
          0,
          11.044656703052675
         ],
         "scaleratio": 1,
         "zeroline": true,
         "zerolinecolor": "black",
         "zerolinewidth": 2
        },
        "yaxis": {
         "anchor": "x",
         "constrain": "domain",
         "domain": [
          0,
          1
         ],
         "gridcolor": "lightgrey",
         "range": [
          0,
          180
         ],
         "zeroline": true,
         "zerolinecolor": "black",
         "zerolinewidth": 2
        },
        "yaxis2": {
         "anchor": "x2",
         "constrain": "domain",
         "domain": [
          0,
          1
         ],
         "gridcolor": "lightgrey",
         "range": [
          0,
          11.044656703052675
         ],
         "zeroline": true,
         "zerolinecolor": "black",
         "zerolinewidth": 2
        }
       }
      }
     },
     "metadata": {},
     "output_type": "display_data"
    }
   ],
   "source": [
    "# Usage Implementation of the Initial Reactor Visualizer\n",
    "# For typical PWR fuel assembly\n",
    "\n",
    "# Inputs\n",
    "fuel_radius = 0.4096  # in cm\n",
    "gap = 0.0084         # in cm \n",
    "cladding_thickness = 0.0572  # in cm\n",
    "nPin = 16       # 17x17 assembly typical for PWR\n",
    "fuel_to_moderator_ratio = 0.45  # typical PWR value\n",
    "core_radius = 170    # in cm\n",
    "core_gap_scale = 0.5 # Can be scaled according to the desired gap\n",
    "\n",
    "# Calculate the parameters\n",
    "pitch_size, core_gap, active_core_radius, num_FA, num_FA_layer, core_map, mat_FA = init_core_map(fuel_radius, gap, cladding_thickness, nPin, fuel_to_moderator_ratio, core_radius, core_gap_scale)"
   ]
  },
  {
   "cell_type": "code",
   "execution_count": 6,
   "metadata": {},
   "outputs": [
    {
     "data": {
      "application/vnd.plotly.v1+json": {
       "config": {
        "plotlyServerURL": "https://plot.ly"
       },
       "data": [
        {
         "marker": {
          "color": "#ff6637",
          "size": 15,
          "symbol": "square"
         },
         "mode": "markers",
         "name": "FA 1.0",
         "showlegend": true,
         "type": "scatter",
         "x": [
          null
         ],
         "y": [
          null
         ]
        },
        {
         "marker": {
          "color": "#56423c",
          "size": 15,
          "symbol": "square"
         },
         "mode": "markers",
         "name": "FA 2.0",
         "showlegend": true,
         "type": "scatter",
         "x": [
          null
         ],
         "y": [
          null
         ]
        },
        {
         "marker": {
          "color": "#bda69f",
          "size": 15,
          "symbol": "square"
         },
         "mode": "markers",
         "name": "FA 3.0",
         "showlegend": true,
         "type": "scatter",
         "x": [
          null
         ],
         "y": [
          null
         ]
        },
        {
         "marker": {
          "color": "#40ad25",
          "size": 15,
          "symbol": "square"
         },
         "mode": "markers",
         "name": "FA 4.0",
         "showlegend": true,
         "type": "scatter",
         "x": [
          null
         ],
         "y": [
          null
         ]
        }
       ],
       "layout": {
        "height": 800,
        "plot_bgcolor": "white",
        "shapes": [
         {
          "fillcolor": "lightgrey",
          "layer": "below",
          "line": {
           "color": "blue",
           "width": 2
          },
          "opacity": 0.5,
          "type": "circle",
          "x0": -170,
          "x1": 170,
          "y0": -170,
          "y1": 170
         },
         {
          "fillcolor": "lightblue",
          "layer": "below",
          "line": {
           "color": "green",
           "width": 2
          },
          "opacity": 0.5,
          "type": "circle",
          "x0": -159.95534329694732,
          "x1": 159.95534329694732,
          "y0": -159.95534329694732,
          "y1": 159.95534329694732
         },
         {
          "fillcolor": "#bda69f",
          "line": {
           "color": "black",
           "width": 1
          },
          "opacity": 1,
          "type": "rect",
          "x0": 0,
          "x1": 20.08931340610535,
          "y0": 0,
          "y1": 20.08931340610535
         },
         {
          "fillcolor": "#40ad25",
          "line": {
           "color": "black",
           "width": 1
          },
          "opacity": 1,
          "type": "rect",
          "x0": 20.08931340610535,
          "x1": 40.1786268122107,
          "y0": 0,
          "y1": 20.08931340610535
         },
         {
          "fillcolor": "#ff6637",
          "line": {
           "color": "black",
           "width": 1
          },
          "opacity": 1,
          "type": "rect",
          "x0": 40.1786268122107,
          "x1": 60.267940218316056,
          "y0": 0,
          "y1": 20.08931340610535
         },
         {
          "fillcolor": "#ff6637",
          "line": {
           "color": "black",
           "width": 1
          },
          "opacity": 1,
          "type": "rect",
          "x0": 60.267940218316056,
          "x1": 80.3572536244214,
          "y0": 0,
          "y1": 20.08931340610535
         },
         {
          "fillcolor": "#ff6637",
          "line": {
           "color": "black",
           "width": 1
          },
          "opacity": 1,
          "type": "rect",
          "x0": 80.3572536244214,
          "x1": 100.44656703052675,
          "y0": 0,
          "y1": 20.08931340610535
         },
         {
          "fillcolor": "#ff6637",
          "line": {
           "color": "black",
           "width": 1
          },
          "opacity": 1,
          "type": "rect",
          "x0": 100.44656703052675,
          "x1": 120.53588043663211,
          "y0": 0,
          "y1": 20.08931340610535
         },
         {
          "fillcolor": "#56423c",
          "line": {
           "color": "black",
           "width": 1
          },
          "opacity": 1,
          "type": "rect",
          "x0": 120.53588043663211,
          "x1": 140.62519384273745,
          "y0": 0,
          "y1": 20.08931340610535
         },
         {
          "fillcolor": "#40ad25",
          "line": {
           "color": "black",
           "width": 1
          },
          "opacity": 1,
          "type": "rect",
          "x0": 0,
          "x1": 20.08931340610535,
          "y0": 20.08931340610535,
          "y1": 40.1786268122107
         },
         {
          "fillcolor": "#ff6637",
          "line": {
           "color": "black",
           "width": 1
          },
          "opacity": 1,
          "type": "rect",
          "x0": 20.08931340610535,
          "x1": 40.1786268122107,
          "y0": 20.08931340610535,
          "y1": 40.1786268122107
         },
         {
          "fillcolor": "#ff6637",
          "line": {
           "color": "black",
           "width": 1
          },
          "opacity": 1,
          "type": "rect",
          "x0": 40.1786268122107,
          "x1": 60.267940218316056,
          "y0": 20.08931340610535,
          "y1": 40.1786268122107
         },
         {
          "fillcolor": "#ff6637",
          "line": {
           "color": "black",
           "width": 1
          },
          "opacity": 1,
          "type": "rect",
          "x0": 60.267940218316056,
          "x1": 80.3572536244214,
          "y0": 20.08931340610535,
          "y1": 40.1786268122107
         },
         {
          "fillcolor": "#ff6637",
          "line": {
           "color": "black",
           "width": 1
          },
          "opacity": 1,
          "type": "rect",
          "x0": 80.3572536244214,
          "x1": 100.44656703052675,
          "y0": 20.08931340610535,
          "y1": 40.1786268122107
         },
         {
          "fillcolor": "#ff6637",
          "line": {
           "color": "black",
           "width": 1
          },
          "opacity": 1,
          "type": "rect",
          "x0": 100.44656703052675,
          "x1": 120.53588043663211,
          "y0": 20.08931340610535,
          "y1": 40.1786268122107
         },
         {
          "fillcolor": "#56423c",
          "line": {
           "color": "black",
           "width": 1
          },
          "opacity": 1,
          "type": "rect",
          "x0": 120.53588043663211,
          "x1": 140.62519384273745,
          "y0": 20.08931340610535,
          "y1": 40.1786268122107
         },
         {
          "fillcolor": "#ff6637",
          "line": {
           "color": "black",
           "width": 1
          },
          "opacity": 1,
          "type": "rect",
          "x0": 0,
          "x1": 20.08931340610535,
          "y0": 40.1786268122107,
          "y1": 60.267940218316056
         },
         {
          "fillcolor": "#ff6637",
          "line": {
           "color": "black",
           "width": 1
          },
          "opacity": 1,
          "type": "rect",
          "x0": 20.08931340610535,
          "x1": 40.1786268122107,
          "y0": 40.1786268122107,
          "y1": 60.267940218316056
         },
         {
          "fillcolor": "#ff6637",
          "line": {
           "color": "black",
           "width": 1
          },
          "opacity": 1,
          "type": "rect",
          "x0": 40.1786268122107,
          "x1": 60.267940218316056,
          "y0": 40.1786268122107,
          "y1": 60.267940218316056
         },
         {
          "fillcolor": "#ff6637",
          "line": {
           "color": "black",
           "width": 1
          },
          "opacity": 1,
          "type": "rect",
          "x0": 60.267940218316056,
          "x1": 80.3572536244214,
          "y0": 40.1786268122107,
          "y1": 60.267940218316056
         },
         {
          "fillcolor": "#ff6637",
          "line": {
           "color": "black",
           "width": 1
          },
          "opacity": 1,
          "type": "rect",
          "x0": 80.3572536244214,
          "x1": 100.44656703052675,
          "y0": 40.1786268122107,
          "y1": 60.267940218316056
         },
         {
          "fillcolor": "#56423c",
          "line": {
           "color": "black",
           "width": 1
          },
          "opacity": 1,
          "type": "rect",
          "x0": 100.44656703052675,
          "x1": 120.53588043663211,
          "y0": 40.1786268122107,
          "y1": 60.267940218316056
         },
         {
          "fillcolor": "#56423c",
          "line": {
           "color": "black",
           "width": 1
          },
          "opacity": 1,
          "type": "rect",
          "x0": 120.53588043663211,
          "x1": 140.62519384273745,
          "y0": 40.1786268122107,
          "y1": 60.267940218316056
         },
         {
          "fillcolor": "#ff6637",
          "line": {
           "color": "black",
           "width": 1
          },
          "opacity": 1,
          "type": "rect",
          "x0": 0,
          "x1": 20.08931340610535,
          "y0": 60.267940218316056,
          "y1": 80.3572536244214
         },
         {
          "fillcolor": "#ff6637",
          "line": {
           "color": "black",
           "width": 1
          },
          "opacity": 1,
          "type": "rect",
          "x0": 20.08931340610535,
          "x1": 40.1786268122107,
          "y0": 60.267940218316056,
          "y1": 80.3572536244214
         },
         {
          "fillcolor": "#ff6637",
          "line": {
           "color": "black",
           "width": 1
          },
          "opacity": 1,
          "type": "rect",
          "x0": 40.1786268122107,
          "x1": 60.267940218316056,
          "y0": 60.267940218316056,
          "y1": 80.3572536244214
         },
         {
          "fillcolor": "#ff6637",
          "line": {
           "color": "black",
           "width": 1
          },
          "opacity": 1,
          "type": "rect",
          "x0": 60.267940218316056,
          "x1": 80.3572536244214,
          "y0": 60.267940218316056,
          "y1": 80.3572536244214
         },
         {
          "fillcolor": "#56423c",
          "line": {
           "color": "black",
           "width": 1
          },
          "opacity": 1,
          "type": "rect",
          "x0": 80.3572536244214,
          "x1": 100.44656703052675,
          "y0": 60.267940218316056,
          "y1": 80.3572536244214
         },
         {
          "fillcolor": "#56423c",
          "line": {
           "color": "black",
           "width": 1
          },
          "opacity": 1,
          "type": "rect",
          "x0": 100.44656703052675,
          "x1": 120.53588043663211,
          "y0": 60.267940218316056,
          "y1": 80.3572536244214
         },
         {
          "fillcolor": "#ff6637",
          "line": {
           "color": "black",
           "width": 1
          },
          "opacity": 1,
          "type": "rect",
          "x0": 0,
          "x1": 20.08931340610535,
          "y0": 80.3572536244214,
          "y1": 100.44656703052675
         },
         {
          "fillcolor": "#ff6637",
          "line": {
           "color": "black",
           "width": 1
          },
          "opacity": 1,
          "type": "rect",
          "x0": 20.08931340610535,
          "x1": 40.1786268122107,
          "y0": 80.3572536244214,
          "y1": 100.44656703052675
         },
         {
          "fillcolor": "#ff6637",
          "line": {
           "color": "black",
           "width": 1
          },
          "opacity": 1,
          "type": "rect",
          "x0": 40.1786268122107,
          "x1": 60.267940218316056,
          "y0": 80.3572536244214,
          "y1": 100.44656703052675
         },
         {
          "fillcolor": "#ff6637",
          "line": {
           "color": "black",
           "width": 1
          },
          "opacity": 1,
          "type": "rect",
          "x0": 60.267940218316056,
          "x1": 80.3572536244214,
          "y0": 80.3572536244214,
          "y1": 100.44656703052675
         },
         {
          "fillcolor": "#56423c",
          "line": {
           "color": "black",
           "width": 1
          },
          "opacity": 1,
          "type": "rect",
          "x0": 80.3572536244214,
          "x1": 100.44656703052675,
          "y0": 80.3572536244214,
          "y1": 100.44656703052675
         },
         {
          "fillcolor": "#ff6637",
          "line": {
           "color": "black",
           "width": 1
          },
          "opacity": 1,
          "type": "rect",
          "x0": 0,
          "x1": 20.08931340610535,
          "y0": 100.44656703052675,
          "y1": 120.53588043663211
         },
         {
          "fillcolor": "#ff6637",
          "line": {
           "color": "black",
           "width": 1
          },
          "opacity": 1,
          "type": "rect",
          "x0": 20.08931340610535,
          "x1": 40.1786268122107,
          "y0": 100.44656703052675,
          "y1": 120.53588043663211
         },
         {
          "fillcolor": "#56423c",
          "line": {
           "color": "black",
           "width": 1
          },
          "opacity": 1,
          "type": "rect",
          "x0": 40.1786268122107,
          "x1": 60.267940218316056,
          "y0": 100.44656703052675,
          "y1": 120.53588043663211
         },
         {
          "fillcolor": "#56423c",
          "line": {
           "color": "black",
           "width": 1
          },
          "opacity": 1,
          "type": "rect",
          "x0": 60.267940218316056,
          "x1": 80.3572536244214,
          "y0": 100.44656703052675,
          "y1": 120.53588043663211
         },
         {
          "fillcolor": "#56423c",
          "line": {
           "color": "black",
           "width": 1
          },
          "opacity": 1,
          "type": "rect",
          "x0": 80.3572536244214,
          "x1": 100.44656703052675,
          "y0": 100.44656703052675,
          "y1": 120.53588043663211
         },
         {
          "fillcolor": "#56423c",
          "line": {
           "color": "black",
           "width": 1
          },
          "opacity": 1,
          "type": "rect",
          "x0": 0,
          "x1": 20.08931340610535,
          "y0": 120.53588043663211,
          "y1": 140.62519384273745
         },
         {
          "fillcolor": "#56423c",
          "line": {
           "color": "black",
           "width": 1
          },
          "opacity": 1,
          "type": "rect",
          "x0": 20.08931340610535,
          "x1": 40.1786268122107,
          "y0": 120.53588043663211,
          "y1": 140.62519384273745
         },
         {
          "fillcolor": "#56423c",
          "line": {
           "color": "black",
           "width": 1
          },
          "opacity": 1,
          "type": "rect",
          "x0": 40.1786268122107,
          "x1": 60.267940218316056,
          "y0": 120.53588043663211,
          "y1": 140.62519384273745
         }
        ],
        "showlegend": true,
        "template": {
         "data": {
          "bar": [
           {
            "error_x": {
             "color": "#2a3f5f"
            },
            "error_y": {
             "color": "#2a3f5f"
            },
            "marker": {
             "line": {
              "color": "#E5ECF6",
              "width": 0.5
             },
             "pattern": {
              "fillmode": "overlay",
              "size": 10,
              "solidity": 0.2
             }
            },
            "type": "bar"
           }
          ],
          "barpolar": [
           {
            "marker": {
             "line": {
              "color": "#E5ECF6",
              "width": 0.5
             },
             "pattern": {
              "fillmode": "overlay",
              "size": 10,
              "solidity": 0.2
             }
            },
            "type": "barpolar"
           }
          ],
          "carpet": [
           {
            "aaxis": {
             "endlinecolor": "#2a3f5f",
             "gridcolor": "white",
             "linecolor": "white",
             "minorgridcolor": "white",
             "startlinecolor": "#2a3f5f"
            },
            "baxis": {
             "endlinecolor": "#2a3f5f",
             "gridcolor": "white",
             "linecolor": "white",
             "minorgridcolor": "white",
             "startlinecolor": "#2a3f5f"
            },
            "type": "carpet"
           }
          ],
          "choropleth": [
           {
            "colorbar": {
             "outlinewidth": 0,
             "ticks": ""
            },
            "type": "choropleth"
           }
          ],
          "contour": [
           {
            "colorbar": {
             "outlinewidth": 0,
             "ticks": ""
            },
            "colorscale": [
             [
              0,
              "#0d0887"
             ],
             [
              0.1111111111111111,
              "#46039f"
             ],
             [
              0.2222222222222222,
              "#7201a8"
             ],
             [
              0.3333333333333333,
              "#9c179e"
             ],
             [
              0.4444444444444444,
              "#bd3786"
             ],
             [
              0.5555555555555556,
              "#d8576b"
             ],
             [
              0.6666666666666666,
              "#ed7953"
             ],
             [
              0.7777777777777778,
              "#fb9f3a"
             ],
             [
              0.8888888888888888,
              "#fdca26"
             ],
             [
              1,
              "#f0f921"
             ]
            ],
            "type": "contour"
           }
          ],
          "contourcarpet": [
           {
            "colorbar": {
             "outlinewidth": 0,
             "ticks": ""
            },
            "type": "contourcarpet"
           }
          ],
          "heatmap": [
           {
            "colorbar": {
             "outlinewidth": 0,
             "ticks": ""
            },
            "colorscale": [
             [
              0,
              "#0d0887"
             ],
             [
              0.1111111111111111,
              "#46039f"
             ],
             [
              0.2222222222222222,
              "#7201a8"
             ],
             [
              0.3333333333333333,
              "#9c179e"
             ],
             [
              0.4444444444444444,
              "#bd3786"
             ],
             [
              0.5555555555555556,
              "#d8576b"
             ],
             [
              0.6666666666666666,
              "#ed7953"
             ],
             [
              0.7777777777777778,
              "#fb9f3a"
             ],
             [
              0.8888888888888888,
              "#fdca26"
             ],
             [
              1,
              "#f0f921"
             ]
            ],
            "type": "heatmap"
           }
          ],
          "heatmapgl": [
           {
            "colorbar": {
             "outlinewidth": 0,
             "ticks": ""
            },
            "colorscale": [
             [
              0,
              "#0d0887"
             ],
             [
              0.1111111111111111,
              "#46039f"
             ],
             [
              0.2222222222222222,
              "#7201a8"
             ],
             [
              0.3333333333333333,
              "#9c179e"
             ],
             [
              0.4444444444444444,
              "#bd3786"
             ],
             [
              0.5555555555555556,
              "#d8576b"
             ],
             [
              0.6666666666666666,
              "#ed7953"
             ],
             [
              0.7777777777777778,
              "#fb9f3a"
             ],
             [
              0.8888888888888888,
              "#fdca26"
             ],
             [
              1,
              "#f0f921"
             ]
            ],
            "type": "heatmapgl"
           }
          ],
          "histogram": [
           {
            "marker": {
             "pattern": {
              "fillmode": "overlay",
              "size": 10,
              "solidity": 0.2
             }
            },
            "type": "histogram"
           }
          ],
          "histogram2d": [
           {
            "colorbar": {
             "outlinewidth": 0,
             "ticks": ""
            },
            "colorscale": [
             [
              0,
              "#0d0887"
             ],
             [
              0.1111111111111111,
              "#46039f"
             ],
             [
              0.2222222222222222,
              "#7201a8"
             ],
             [
              0.3333333333333333,
              "#9c179e"
             ],
             [
              0.4444444444444444,
              "#bd3786"
             ],
             [
              0.5555555555555556,
              "#d8576b"
             ],
             [
              0.6666666666666666,
              "#ed7953"
             ],
             [
              0.7777777777777778,
              "#fb9f3a"
             ],
             [
              0.8888888888888888,
              "#fdca26"
             ],
             [
              1,
              "#f0f921"
             ]
            ],
            "type": "histogram2d"
           }
          ],
          "histogram2dcontour": [
           {
            "colorbar": {
             "outlinewidth": 0,
             "ticks": ""
            },
            "colorscale": [
             [
              0,
              "#0d0887"
             ],
             [
              0.1111111111111111,
              "#46039f"
             ],
             [
              0.2222222222222222,
              "#7201a8"
             ],
             [
              0.3333333333333333,
              "#9c179e"
             ],
             [
              0.4444444444444444,
              "#bd3786"
             ],
             [
              0.5555555555555556,
              "#d8576b"
             ],
             [
              0.6666666666666666,
              "#ed7953"
             ],
             [
              0.7777777777777778,
              "#fb9f3a"
             ],
             [
              0.8888888888888888,
              "#fdca26"
             ],
             [
              1,
              "#f0f921"
             ]
            ],
            "type": "histogram2dcontour"
           }
          ],
          "mesh3d": [
           {
            "colorbar": {
             "outlinewidth": 0,
             "ticks": ""
            },
            "type": "mesh3d"
           }
          ],
          "parcoords": [
           {
            "line": {
             "colorbar": {
              "outlinewidth": 0,
              "ticks": ""
             }
            },
            "type": "parcoords"
           }
          ],
          "pie": [
           {
            "automargin": true,
            "type": "pie"
           }
          ],
          "scatter": [
           {
            "fillpattern": {
             "fillmode": "overlay",
             "size": 10,
             "solidity": 0.2
            },
            "type": "scatter"
           }
          ],
          "scatter3d": [
           {
            "line": {
             "colorbar": {
              "outlinewidth": 0,
              "ticks": ""
             }
            },
            "marker": {
             "colorbar": {
              "outlinewidth": 0,
              "ticks": ""
             }
            },
            "type": "scatter3d"
           }
          ],
          "scattercarpet": [
           {
            "marker": {
             "colorbar": {
              "outlinewidth": 0,
              "ticks": ""
             }
            },
            "type": "scattercarpet"
           }
          ],
          "scattergeo": [
           {
            "marker": {
             "colorbar": {
              "outlinewidth": 0,
              "ticks": ""
             }
            },
            "type": "scattergeo"
           }
          ],
          "scattergl": [
           {
            "marker": {
             "colorbar": {
              "outlinewidth": 0,
              "ticks": ""
             }
            },
            "type": "scattergl"
           }
          ],
          "scattermapbox": [
           {
            "marker": {
             "colorbar": {
              "outlinewidth": 0,
              "ticks": ""
             }
            },
            "type": "scattermapbox"
           }
          ],
          "scatterpolar": [
           {
            "marker": {
             "colorbar": {
              "outlinewidth": 0,
              "ticks": ""
             }
            },
            "type": "scatterpolar"
           }
          ],
          "scatterpolargl": [
           {
            "marker": {
             "colorbar": {
              "outlinewidth": 0,
              "ticks": ""
             }
            },
            "type": "scatterpolargl"
           }
          ],
          "scatterternary": [
           {
            "marker": {
             "colorbar": {
              "outlinewidth": 0,
              "ticks": ""
             }
            },
            "type": "scatterternary"
           }
          ],
          "surface": [
           {
            "colorbar": {
             "outlinewidth": 0,
             "ticks": ""
            },
            "colorscale": [
             [
              0,
              "#0d0887"
             ],
             [
              0.1111111111111111,
              "#46039f"
             ],
             [
              0.2222222222222222,
              "#7201a8"
             ],
             [
              0.3333333333333333,
              "#9c179e"
             ],
             [
              0.4444444444444444,
              "#bd3786"
             ],
             [
              0.5555555555555556,
              "#d8576b"
             ],
             [
              0.6666666666666666,
              "#ed7953"
             ],
             [
              0.7777777777777778,
              "#fb9f3a"
             ],
             [
              0.8888888888888888,
              "#fdca26"
             ],
             [
              1,
              "#f0f921"
             ]
            ],
            "type": "surface"
           }
          ],
          "table": [
           {
            "cells": {
             "fill": {
              "color": "#EBF0F8"
             },
             "line": {
              "color": "white"
             }
            },
            "header": {
             "fill": {
              "color": "#C8D4E3"
             },
             "line": {
              "color": "white"
             }
            },
            "type": "table"
           }
          ]
         },
         "layout": {
          "annotationdefaults": {
           "arrowcolor": "#2a3f5f",
           "arrowhead": 0,
           "arrowwidth": 1
          },
          "autotypenumbers": "strict",
          "coloraxis": {
           "colorbar": {
            "outlinewidth": 0,
            "ticks": ""
           }
          },
          "colorscale": {
           "diverging": [
            [
             0,
             "#8e0152"
            ],
            [
             0.1,
             "#c51b7d"
            ],
            [
             0.2,
             "#de77ae"
            ],
            [
             0.3,
             "#f1b6da"
            ],
            [
             0.4,
             "#fde0ef"
            ],
            [
             0.5,
             "#f7f7f7"
            ],
            [
             0.6,
             "#e6f5d0"
            ],
            [
             0.7,
             "#b8e186"
            ],
            [
             0.8,
             "#7fbc41"
            ],
            [
             0.9,
             "#4d9221"
            ],
            [
             1,
             "#276419"
            ]
           ],
           "sequential": [
            [
             0,
             "#0d0887"
            ],
            [
             0.1111111111111111,
             "#46039f"
            ],
            [
             0.2222222222222222,
             "#7201a8"
            ],
            [
             0.3333333333333333,
             "#9c179e"
            ],
            [
             0.4444444444444444,
             "#bd3786"
            ],
            [
             0.5555555555555556,
             "#d8576b"
            ],
            [
             0.6666666666666666,
             "#ed7953"
            ],
            [
             0.7777777777777778,
             "#fb9f3a"
            ],
            [
             0.8888888888888888,
             "#fdca26"
            ],
            [
             1,
             "#f0f921"
            ]
           ],
           "sequentialminus": [
            [
             0,
             "#0d0887"
            ],
            [
             0.1111111111111111,
             "#46039f"
            ],
            [
             0.2222222222222222,
             "#7201a8"
            ],
            [
             0.3333333333333333,
             "#9c179e"
            ],
            [
             0.4444444444444444,
             "#bd3786"
            ],
            [
             0.5555555555555556,
             "#d8576b"
            ],
            [
             0.6666666666666666,
             "#ed7953"
            ],
            [
             0.7777777777777778,
             "#fb9f3a"
            ],
            [
             0.8888888888888888,
             "#fdca26"
            ],
            [
             1,
             "#f0f921"
            ]
           ]
          },
          "colorway": [
           "#636efa",
           "#EF553B",
           "#00cc96",
           "#ab63fa",
           "#FFA15A",
           "#19d3f3",
           "#FF6692",
           "#B6E880",
           "#FF97FF",
           "#FECB52"
          ],
          "font": {
           "color": "#2a3f5f"
          },
          "geo": {
           "bgcolor": "white",
           "lakecolor": "white",
           "landcolor": "#E5ECF6",
           "showlakes": true,
           "showland": true,
           "subunitcolor": "white"
          },
          "hoverlabel": {
           "align": "left"
          },
          "hovermode": "closest",
          "mapbox": {
           "style": "light"
          },
          "paper_bgcolor": "white",
          "plot_bgcolor": "#E5ECF6",
          "polar": {
           "angularaxis": {
            "gridcolor": "white",
            "linecolor": "white",
            "ticks": ""
           },
           "bgcolor": "#E5ECF6",
           "radialaxis": {
            "gridcolor": "white",
            "linecolor": "white",
            "ticks": ""
           }
          },
          "scene": {
           "xaxis": {
            "backgroundcolor": "#E5ECF6",
            "gridcolor": "white",
            "gridwidth": 2,
            "linecolor": "white",
            "showbackground": true,
            "ticks": "",
            "zerolinecolor": "white"
           },
           "yaxis": {
            "backgroundcolor": "#E5ECF6",
            "gridcolor": "white",
            "gridwidth": 2,
            "linecolor": "white",
            "showbackground": true,
            "ticks": "",
            "zerolinecolor": "white"
           },
           "zaxis": {
            "backgroundcolor": "#E5ECF6",
            "gridcolor": "white",
            "gridwidth": 2,
            "linecolor": "white",
            "showbackground": true,
            "ticks": "",
            "zerolinecolor": "white"
           }
          },
          "shapedefaults": {
           "line": {
            "color": "#2a3f5f"
           }
          },
          "ternary": {
           "aaxis": {
            "gridcolor": "white",
            "linecolor": "white",
            "ticks": ""
           },
           "baxis": {
            "gridcolor": "white",
            "linecolor": "white",
            "ticks": ""
           },
           "bgcolor": "#E5ECF6",
           "caxis": {
            "gridcolor": "white",
            "linecolor": "white",
            "ticks": ""
           }
          },
          "title": {
           "x": 0.05
          },
          "xaxis": {
           "automargin": true,
           "gridcolor": "white",
           "linecolor": "white",
           "ticks": "",
           "title": {
            "standoff": 15
           },
           "zerolinecolor": "white",
           "zerolinewidth": 2
          },
          "yaxis": {
           "automargin": true,
           "gridcolor": "white",
           "linecolor": "white",
           "ticks": "",
           "title": {
            "standoff": 15
           },
           "zerolinecolor": "white",
           "zerolinewidth": 2
          }
         }
        },
        "title": {
         "text": "Core Map (1/4 Symmetry)"
        },
        "width": 800,
        "xaxis": {
         "constrain": "domain",
         "gridcolor": "lightgrey",
         "range": [
          0,
          180
         ],
         "scaleanchor": "y",
         "scaleratio": 1,
         "zeroline": true,
         "zerolinecolor": "black",
         "zerolinewidth": 2
        },
        "yaxis": {
         "constrain": "domain",
         "gridcolor": "lightgrey",
         "range": [
          0,
          180
         ],
         "zeroline": true,
         "zerolinecolor": "black",
         "zerolinewidth": 2
        }
       }
      }
     },
     "metadata": {},
     "output_type": "display_data"
    },
    {
     "data": {
      "text/plain": [
       "0"
      ]
     },
     "execution_count": 6,
     "metadata": {},
     "output_type": "execute_result"
    }
   ],
   "source": [
    "# Usage Implementation of the Reactor Core Visualizer\n",
    "\n",
    "params = info_reader(\"input.txt\")\n",
    "# analysis = core_reader(\"map_input_str.txt\")\n",
    "analysis = core_reader(\"map_input.txt\")\n",
    "CoreMapVisualizer(analysis, params)"
   ]
  },
  {
   "cell_type": "code",
   "execution_count": 7,
   "metadata": {},
   "outputs": [
    {
     "data": {
      "application/vnd.plotly.v1+json": {
       "config": {
        "plotlyServerURL": "https://plot.ly"
       },
       "data": [],
       "layout": {
        "height": 800,
        "plot_bgcolor": "white",
        "shapes": [
         {
          "fillcolor": "lightblue",
          "line": {
           "color": "green",
           "width": 1
          },
          "opacity": 0.7,
          "type": "rect",
          "x0": 0,
          "x1": 1.2555820878815844,
          "y0": 0,
          "y1": 1.2555820878815844
         },
         {
          "fillcolor": "green",
          "line": {
           "color": "green",
           "width": 1
          },
          "opacity": 0.4,
          "type": "circle",
          "x0": 0.15259104394079215,
          "x1": 1.1029910439407922,
          "y0": 0.15259104394079215,
          "y1": 1.1029910439407922
         },
         {
          "fillcolor": "yellow",
          "line": {
           "color": "yellow",
           "width": 1
          },
          "opacity": 0.7,
          "type": "circle",
          "x0": 0.20979104394079218,
          "x1": 1.0457910439407923,
          "y0": 0.20979104394079218,
          "y1": 1.0457910439407923
         },
         {
          "fillcolor": "#5f4584",
          "line": {
           "color": "red",
           "width": 1
          },
          "opacity": 0.9,
          "type": "circle",
          "x0": 0.2181910439407922,
          "x1": 1.0373910439407923,
          "y0": 0.2181910439407922,
          "y1": 1.0373910439407923
         },
         {
          "fillcolor": "lightblue",
          "line": {
           "color": "green",
           "width": 1
          },
          "opacity": 0.7,
          "type": "rect",
          "x0": 1.2555820878815844,
          "x1": 2.511164175763169,
          "y0": 0,
          "y1": 1.2555820878815844
         },
         {
          "fillcolor": "green",
          "line": {
           "color": "green",
           "width": 1
          },
          "opacity": 0.4,
          "type": "circle",
          "x0": 1.4081731318223767,
          "x1": 2.358573131822377,
          "y0": 0.15259104394079215,
          "y1": 1.1029910439407922
         },
         {
          "fillcolor": "yellow",
          "line": {
           "color": "yellow",
           "width": 1
          },
          "opacity": 0.7,
          "type": "circle",
          "x0": 1.4653731318223766,
          "x1": 2.301373131822377,
          "y0": 0.20979104394079218,
          "y1": 1.0457910439407923
         },
         {
          "fillcolor": "#5f4584",
          "line": {
           "color": "red",
           "width": 1
          },
          "opacity": 0.9,
          "type": "circle",
          "x0": 1.4737731318223768,
          "x1": 2.292973131822377,
          "y0": 0.2181910439407922,
          "y1": 1.0373910439407923
         },
         {
          "fillcolor": "lightblue",
          "line": {
           "color": "green",
           "width": 1
          },
          "opacity": 0.7,
          "type": "rect",
          "x0": 2.511164175763169,
          "x1": 3.7667462636447535,
          "y0": 0,
          "y1": 1.2555820878815844
         },
         {
          "fillcolor": "green",
          "line": {
           "color": "green",
           "width": 1
          },
          "opacity": 0.4,
          "type": "circle",
          "x0": 2.663755219703961,
          "x1": 3.614155219703961,
          "y0": 0.15259104394079215,
          "y1": 1.1029910439407922
         },
         {
          "fillcolor": "yellow",
          "line": {
           "color": "yellow",
           "width": 1
          },
          "opacity": 0.7,
          "type": "circle",
          "x0": 2.720955219703961,
          "x1": 3.556955219703961,
          "y0": 0.20979104394079218,
          "y1": 1.0457910439407923
         },
         {
          "fillcolor": "#5f4584",
          "line": {
           "color": "red",
           "width": 1
          },
          "opacity": 0.9,
          "type": "circle",
          "x0": 2.7293552197039608,
          "x1": 3.548555219703961,
          "y0": 0.2181910439407922,
          "y1": 1.0373910439407923
         },
         {
          "fillcolor": "lightblue",
          "line": {
           "color": "green",
           "width": 1
          },
          "opacity": 0.7,
          "type": "rect",
          "x0": 3.7667462636447535,
          "x1": 5.022328351526338,
          "y0": 0,
          "y1": 1.2555820878815844
         },
         {
          "fillcolor": "green",
          "line": {
           "color": "green",
           "width": 1
          },
          "opacity": 0.4,
          "type": "circle",
          "x0": 3.919337307585546,
          "x1": 4.869737307585546,
          "y0": 0.15259104394079215,
          "y1": 1.1029910439407922
         },
         {
          "fillcolor": "yellow",
          "line": {
           "color": "yellow",
           "width": 1
          },
          "opacity": 0.7,
          "type": "circle",
          "x0": 3.976537307585546,
          "x1": 4.812537307585546,
          "y0": 0.20979104394079218,
          "y1": 1.0457910439407923
         },
         {
          "fillcolor": "#5f4584",
          "line": {
           "color": "red",
           "width": 1
          },
          "opacity": 0.9,
          "type": "circle",
          "x0": 3.984937307585546,
          "x1": 4.804137307585546,
          "y0": 0.2181910439407922,
          "y1": 1.0373910439407923
         },
         {
          "fillcolor": "lightblue",
          "line": {
           "color": "green",
           "width": 1
          },
          "opacity": 0.7,
          "type": "rect",
          "x0": 5.022328351526338,
          "x1": 6.277910439407922,
          "y0": 0,
          "y1": 1.2555820878815844
         },
         {
          "fillcolor": "green",
          "line": {
           "color": "green",
           "width": 1
          },
          "opacity": 0.4,
          "type": "circle",
          "x0": 5.17491939546713,
          "x1": 6.12531939546713,
          "y0": 0.15259104394079215,
          "y1": 1.1029910439407922
         },
         {
          "fillcolor": "yellow",
          "line": {
           "color": "yellow",
           "width": 1
          },
          "opacity": 0.7,
          "type": "circle",
          "x0": 5.23211939546713,
          "x1": 6.06811939546713,
          "y0": 0.20979104394079218,
          "y1": 1.0457910439407923
         },
         {
          "fillcolor": "#5f4584",
          "line": {
           "color": "red",
           "width": 1
          },
          "opacity": 0.9,
          "type": "circle",
          "x0": 5.24051939546713,
          "x1": 6.0597193954671305,
          "y0": 0.2181910439407922,
          "y1": 1.0373910439407923
         },
         {
          "fillcolor": "lightblue",
          "line": {
           "color": "green",
           "width": 1
          },
          "opacity": 0.7,
          "type": "rect",
          "x0": 6.277910439407922,
          "x1": 7.533492527289507,
          "y0": 0,
          "y1": 1.2555820878815844
         },
         {
          "fillcolor": "green",
          "line": {
           "color": "green",
           "width": 1
          },
          "opacity": 0.4,
          "type": "circle",
          "x0": 6.430501483348714,
          "x1": 7.3809014833487145,
          "y0": 0.15259104394079215,
          "y1": 1.1029910439407922
         },
         {
          "fillcolor": "yellow",
          "line": {
           "color": "yellow",
           "width": 1
          },
          "opacity": 0.7,
          "type": "circle",
          "x0": 6.487701483348714,
          "x1": 7.323701483348715,
          "y0": 0.20979104394079218,
          "y1": 1.0457910439407923
         },
         {
          "fillcolor": "#5f4584",
          "line": {
           "color": "red",
           "width": 1
          },
          "opacity": 0.9,
          "type": "circle",
          "x0": 6.496101483348714,
          "x1": 7.315301483348715,
          "y0": 0.2181910439407922,
          "y1": 1.0373910439407923
         },
         {
          "fillcolor": "lightblue",
          "line": {
           "color": "green",
           "width": 1
          },
          "opacity": 0.7,
          "type": "rect",
          "x0": 7.533492527289507,
          "x1": 8.78907461517109,
          "y0": 0,
          "y1": 1.2555820878815844
         },
         {
          "fillcolor": "green",
          "line": {
           "color": "green",
           "width": 1
          },
          "opacity": 0.4,
          "type": "circle",
          "x0": 7.6860835712302995,
          "x1": 8.6364835712303,
          "y0": 0.15259104394079215,
          "y1": 1.1029910439407922
         },
         {
          "fillcolor": "yellow",
          "line": {
           "color": "yellow",
           "width": 1
          },
          "opacity": 0.7,
          "type": "circle",
          "x0": 7.743283571230299,
          "x1": 8.579283571230299,
          "y0": 0.20979104394079218,
          "y1": 1.0457910439407923
         },
         {
          "fillcolor": "#5f4584",
          "line": {
           "color": "red",
           "width": 1
          },
          "opacity": 0.9,
          "type": "circle",
          "x0": 7.751683571230299,
          "x1": 8.570883571230299,
          "y0": 0.2181910439407922,
          "y1": 1.0373910439407923
         },
         {
          "fillcolor": "lightblue",
          "line": {
           "color": "green",
           "width": 1
          },
          "opacity": 0.7,
          "type": "rect",
          "x0": 8.78907461517109,
          "x1": 10.044656703052675,
          "y0": 0,
          "y1": 1.2555820878815844
         },
         {
          "fillcolor": "green",
          "line": {
           "color": "green",
           "width": 1
          },
          "opacity": 0.4,
          "type": "circle",
          "x0": 8.941665659111884,
          "x1": 9.892065659111882,
          "y0": 0.15259104394079215,
          "y1": 1.1029910439407922
         },
         {
          "fillcolor": "yellow",
          "line": {
           "color": "yellow",
           "width": 1
          },
          "opacity": 0.7,
          "type": "circle",
          "x0": 8.998865659111884,
          "x1": 9.834865659111882,
          "y0": 0.20979104394079218,
          "y1": 1.0457910439407923
         },
         {
          "fillcolor": "#5f4584",
          "line": {
           "color": "red",
           "width": 1
          },
          "opacity": 0.9,
          "type": "circle",
          "x0": 9.007265659111884,
          "x1": 9.826465659111882,
          "y0": 0.2181910439407922,
          "y1": 1.0373910439407923
         },
         {
          "fillcolor": "lightblue",
          "line": {
           "color": "green",
           "width": 1
          },
          "opacity": 0.7,
          "type": "rect",
          "x0": 0,
          "x1": 1.2555820878815844,
          "y0": 1.2555820878815844,
          "y1": 2.511164175763169
         },
         {
          "fillcolor": "green",
          "line": {
           "color": "green",
           "width": 1
          },
          "opacity": 0.4,
          "type": "circle",
          "x0": 0.15259104394079215,
          "x1": 1.1029910439407922,
          "y0": 1.4081731318223767,
          "y1": 2.358573131822377
         },
         {
          "fillcolor": "yellow",
          "line": {
           "color": "yellow",
           "width": 1
          },
          "opacity": 0.7,
          "type": "circle",
          "x0": 0.20979104394079218,
          "x1": 1.0457910439407923,
          "y0": 1.4653731318223766,
          "y1": 2.301373131822377
         },
         {
          "fillcolor": "#5f4584",
          "line": {
           "color": "red",
           "width": 1
          },
          "opacity": 0.9,
          "type": "circle",
          "x0": 0.2181910439407922,
          "x1": 1.0373910439407923,
          "y0": 1.4737731318223768,
          "y1": 2.292973131822377
         },
         {
          "fillcolor": "lightblue",
          "line": {
           "color": "green",
           "width": 1
          },
          "opacity": 0.7,
          "type": "rect",
          "x0": 1.2555820878815844,
          "x1": 2.511164175763169,
          "y0": 1.2555820878815844,
          "y1": 2.511164175763169
         },
         {
          "fillcolor": "green",
          "line": {
           "color": "green",
           "width": 1
          },
          "opacity": 0.4,
          "type": "circle",
          "x0": 1.4081731318223767,
          "x1": 2.358573131822377,
          "y0": 1.4081731318223767,
          "y1": 2.358573131822377
         },
         {
          "fillcolor": "yellow",
          "line": {
           "color": "yellow",
           "width": 1
          },
          "opacity": 0.7,
          "type": "circle",
          "x0": 1.4653731318223766,
          "x1": 2.301373131822377,
          "y0": 1.4653731318223766,
          "y1": 2.301373131822377
         },
         {
          "fillcolor": "#5f4584",
          "line": {
           "color": "red",
           "width": 1
          },
          "opacity": 0.9,
          "type": "circle",
          "x0": 1.4737731318223768,
          "x1": 2.292973131822377,
          "y0": 1.4737731318223768,
          "y1": 2.292973131822377
         },
         {
          "fillcolor": "lightblue",
          "line": {
           "color": "green",
           "width": 1
          },
          "opacity": 0.7,
          "type": "rect",
          "x0": 2.511164175763169,
          "x1": 3.7667462636447535,
          "y0": 1.2555820878815844,
          "y1": 2.511164175763169
         },
         {
          "fillcolor": "green",
          "line": {
           "color": "green",
           "width": 1
          },
          "opacity": 0.4,
          "type": "circle",
          "x0": 2.663755219703961,
          "x1": 3.614155219703961,
          "y0": 1.4081731318223767,
          "y1": 2.358573131822377
         },
         {
          "fillcolor": "yellow",
          "line": {
           "color": "yellow",
           "width": 1
          },
          "opacity": 0.7,
          "type": "circle",
          "x0": 2.720955219703961,
          "x1": 3.556955219703961,
          "y0": 1.4653731318223766,
          "y1": 2.301373131822377
         },
         {
          "fillcolor": "#5f4584",
          "line": {
           "color": "red",
           "width": 1
          },
          "opacity": 0.9,
          "type": "circle",
          "x0": 2.7293552197039608,
          "x1": 3.548555219703961,
          "y0": 1.4737731318223768,
          "y1": 2.292973131822377
         },
         {
          "fillcolor": "lightblue",
          "line": {
           "color": "green",
           "width": 1
          },
          "opacity": 0.7,
          "type": "rect",
          "x0": 3.7667462636447535,
          "x1": 5.022328351526338,
          "y0": 1.2555820878815844,
          "y1": 2.511164175763169
         },
         {
          "fillcolor": "green",
          "line": {
           "color": "green",
           "width": 1
          },
          "opacity": 0.4,
          "type": "circle",
          "x0": 3.919337307585546,
          "x1": 4.869737307585546,
          "y0": 1.4081731318223767,
          "y1": 2.358573131822377
         },
         {
          "fillcolor": "yellow",
          "line": {
           "color": "yellow",
           "width": 1
          },
          "opacity": 0.7,
          "type": "circle",
          "x0": 3.976537307585546,
          "x1": 4.812537307585546,
          "y0": 1.4653731318223766,
          "y1": 2.301373131822377
         },
         {
          "fillcolor": "#5f4584",
          "line": {
           "color": "red",
           "width": 1
          },
          "opacity": 0.9,
          "type": "circle",
          "x0": 3.984937307585546,
          "x1": 4.804137307585546,
          "y0": 1.4737731318223768,
          "y1": 2.292973131822377
         },
         {
          "fillcolor": "lightblue",
          "line": {
           "color": "green",
           "width": 1
          },
          "opacity": 0.7,
          "type": "rect",
          "x0": 5.022328351526338,
          "x1": 6.277910439407922,
          "y0": 1.2555820878815844,
          "y1": 2.511164175763169
         },
         {
          "fillcolor": "green",
          "line": {
           "color": "green",
           "width": 1
          },
          "opacity": 0.4,
          "type": "circle",
          "x0": 5.17491939546713,
          "x1": 6.12531939546713,
          "y0": 1.4081731318223767,
          "y1": 2.358573131822377
         },
         {
          "fillcolor": "yellow",
          "line": {
           "color": "yellow",
           "width": 1
          },
          "opacity": 0.7,
          "type": "circle",
          "x0": 5.23211939546713,
          "x1": 6.06811939546713,
          "y0": 1.4653731318223766,
          "y1": 2.301373131822377
         },
         {
          "fillcolor": "#5f4584",
          "line": {
           "color": "red",
           "width": 1
          },
          "opacity": 0.9,
          "type": "circle",
          "x0": 5.24051939546713,
          "x1": 6.0597193954671305,
          "y0": 1.4737731318223768,
          "y1": 2.292973131822377
         },
         {
          "fillcolor": "lightblue",
          "line": {
           "color": "green",
           "width": 1
          },
          "opacity": 0.7,
          "type": "rect",
          "x0": 6.277910439407922,
          "x1": 7.533492527289507,
          "y0": 1.2555820878815844,
          "y1": 2.511164175763169
         },
         {
          "fillcolor": "green",
          "line": {
           "color": "green",
           "width": 1
          },
          "opacity": 0.4,
          "type": "circle",
          "x0": 6.430501483348714,
          "x1": 7.3809014833487145,
          "y0": 1.4081731318223767,
          "y1": 2.358573131822377
         },
         {
          "fillcolor": "yellow",
          "line": {
           "color": "yellow",
           "width": 1
          },
          "opacity": 0.7,
          "type": "circle",
          "x0": 6.487701483348714,
          "x1": 7.323701483348715,
          "y0": 1.4653731318223766,
          "y1": 2.301373131822377
         },
         {
          "fillcolor": "#5f4584",
          "line": {
           "color": "red",
           "width": 1
          },
          "opacity": 0.9,
          "type": "circle",
          "x0": 6.496101483348714,
          "x1": 7.315301483348715,
          "y0": 1.4737731318223768,
          "y1": 2.292973131822377
         },
         {
          "fillcolor": "lightblue",
          "line": {
           "color": "green",
           "width": 1
          },
          "opacity": 0.7,
          "type": "rect",
          "x0": 7.533492527289507,
          "x1": 8.78907461517109,
          "y0": 1.2555820878815844,
          "y1": 2.511164175763169
         },
         {
          "fillcolor": "green",
          "line": {
           "color": "green",
           "width": 1
          },
          "opacity": 0.4,
          "type": "circle",
          "x0": 7.6860835712302995,
          "x1": 8.6364835712303,
          "y0": 1.4081731318223767,
          "y1": 2.358573131822377
         },
         {
          "fillcolor": "yellow",
          "line": {
           "color": "yellow",
           "width": 1
          },
          "opacity": 0.7,
          "type": "circle",
          "x0": 7.743283571230299,
          "x1": 8.579283571230299,
          "y0": 1.4653731318223766,
          "y1": 2.301373131822377
         },
         {
          "fillcolor": "#5f4584",
          "line": {
           "color": "red",
           "width": 1
          },
          "opacity": 0.9,
          "type": "circle",
          "x0": 7.751683571230299,
          "x1": 8.570883571230299,
          "y0": 1.4737731318223768,
          "y1": 2.292973131822377
         },
         {
          "fillcolor": "lightblue",
          "line": {
           "color": "green",
           "width": 1
          },
          "opacity": 0.7,
          "type": "rect",
          "x0": 8.78907461517109,
          "x1": 10.044656703052675,
          "y0": 1.2555820878815844,
          "y1": 2.511164175763169
         },
         {
          "fillcolor": "green",
          "line": {
           "color": "green",
           "width": 1
          },
          "opacity": 0.4,
          "type": "circle",
          "x0": 8.941665659111884,
          "x1": 9.892065659111882,
          "y0": 1.4081731318223767,
          "y1": 2.358573131822377
         },
         {
          "fillcolor": "yellow",
          "line": {
           "color": "yellow",
           "width": 1
          },
          "opacity": 0.7,
          "type": "circle",
          "x0": 8.998865659111884,
          "x1": 9.834865659111882,
          "y0": 1.4653731318223766,
          "y1": 2.301373131822377
         },
         {
          "fillcolor": "#5f4584",
          "line": {
           "color": "red",
           "width": 1
          },
          "opacity": 0.9,
          "type": "circle",
          "x0": 9.007265659111884,
          "x1": 9.826465659111882,
          "y0": 1.4737731318223768,
          "y1": 2.292973131822377
         },
         {
          "fillcolor": "lightblue",
          "line": {
           "color": "green",
           "width": 1
          },
          "opacity": 0.7,
          "type": "rect",
          "x0": 0,
          "x1": 1.2555820878815844,
          "y0": 2.511164175763169,
          "y1": 3.7667462636447535
         },
         {
          "fillcolor": "green",
          "line": {
           "color": "green",
           "width": 1
          },
          "opacity": 0.4,
          "type": "circle",
          "x0": 0.15259104394079215,
          "x1": 1.1029910439407922,
          "y0": 2.663755219703961,
          "y1": 3.614155219703961
         },
         {
          "fillcolor": "yellow",
          "line": {
           "color": "yellow",
           "width": 1
          },
          "opacity": 0.7,
          "type": "circle",
          "x0": 0.20979104394079218,
          "x1": 1.0457910439407923,
          "y0": 2.720955219703961,
          "y1": 3.556955219703961
         },
         {
          "fillcolor": "#5f4584",
          "line": {
           "color": "red",
           "width": 1
          },
          "opacity": 0.9,
          "type": "circle",
          "x0": 0.2181910439407922,
          "x1": 1.0373910439407923,
          "y0": 2.7293552197039608,
          "y1": 3.548555219703961
         },
         {
          "fillcolor": "lightblue",
          "line": {
           "color": "green",
           "width": 1
          },
          "opacity": 0.7,
          "type": "rect",
          "x0": 1.2555820878815844,
          "x1": 2.511164175763169,
          "y0": 2.511164175763169,
          "y1": 3.7667462636447535
         },
         {
          "fillcolor": "green",
          "line": {
           "color": "green",
           "width": 1
          },
          "opacity": 0.4,
          "type": "circle",
          "x0": 1.4081731318223767,
          "x1": 2.358573131822377,
          "y0": 2.663755219703961,
          "y1": 3.614155219703961
         },
         {
          "fillcolor": "yellow",
          "line": {
           "color": "yellow",
           "width": 1
          },
          "opacity": 0.7,
          "type": "circle",
          "x0": 1.4653731318223766,
          "x1": 2.301373131822377,
          "y0": 2.720955219703961,
          "y1": 3.556955219703961
         },
         {
          "fillcolor": "#5f4584",
          "line": {
           "color": "red",
           "width": 1
          },
          "opacity": 0.9,
          "type": "circle",
          "x0": 1.4737731318223768,
          "x1": 2.292973131822377,
          "y0": 2.7293552197039608,
          "y1": 3.548555219703961
         },
         {
          "fillcolor": "lightblue",
          "line": {
           "color": "green",
           "width": 1
          },
          "opacity": 0.7,
          "type": "rect",
          "x0": 2.511164175763169,
          "x1": 3.7667462636447535,
          "y0": 2.511164175763169,
          "y1": 3.7667462636447535
         },
         {
          "fillcolor": "green",
          "line": {
           "color": "green",
           "width": 1
          },
          "opacity": 0.4,
          "type": "circle",
          "x0": 2.663755219703961,
          "x1": 3.614155219703961,
          "y0": 2.663755219703961,
          "y1": 3.614155219703961
         },
         {
          "fillcolor": "yellow",
          "line": {
           "color": "yellow",
           "width": 1
          },
          "opacity": 0.7,
          "type": "circle",
          "x0": 2.720955219703961,
          "x1": 3.556955219703961,
          "y0": 2.720955219703961,
          "y1": 3.556955219703961
         },
         {
          "fillcolor": "#5f4584",
          "line": {
           "color": "red",
           "width": 1
          },
          "opacity": 0.9,
          "type": "circle",
          "x0": 2.7293552197039608,
          "x1": 3.548555219703961,
          "y0": 2.7293552197039608,
          "y1": 3.548555219703961
         },
         {
          "fillcolor": "lightblue",
          "line": {
           "color": "green",
           "width": 1
          },
          "opacity": 0.7,
          "type": "rect",
          "x0": 3.7667462636447535,
          "x1": 5.022328351526338,
          "y0": 2.511164175763169,
          "y1": 3.7667462636447535
         },
         {
          "fillcolor": "green",
          "line": {
           "color": "green",
           "width": 1
          },
          "opacity": 0.4,
          "type": "circle",
          "x0": 3.919337307585546,
          "x1": 4.869737307585546,
          "y0": 2.663755219703961,
          "y1": 3.614155219703961
         },
         {
          "fillcolor": "yellow",
          "line": {
           "color": "yellow",
           "width": 1
          },
          "opacity": 0.7,
          "type": "circle",
          "x0": 3.976537307585546,
          "x1": 4.812537307585546,
          "y0": 2.720955219703961,
          "y1": 3.556955219703961
         },
         {
          "fillcolor": "#5f4584",
          "line": {
           "color": "red",
           "width": 1
          },
          "opacity": 0.9,
          "type": "circle",
          "x0": 3.984937307585546,
          "x1": 4.804137307585546,
          "y0": 2.7293552197039608,
          "y1": 3.548555219703961
         },
         {
          "fillcolor": "lightblue",
          "line": {
           "color": "green",
           "width": 1
          },
          "opacity": 0.7,
          "type": "rect",
          "x0": 5.022328351526338,
          "x1": 6.277910439407922,
          "y0": 2.511164175763169,
          "y1": 3.7667462636447535
         },
         {
          "fillcolor": "green",
          "line": {
           "color": "green",
           "width": 1
          },
          "opacity": 0.4,
          "type": "circle",
          "x0": 5.17491939546713,
          "x1": 6.12531939546713,
          "y0": 2.663755219703961,
          "y1": 3.614155219703961
         },
         {
          "fillcolor": "yellow",
          "line": {
           "color": "yellow",
           "width": 1
          },
          "opacity": 0.7,
          "type": "circle",
          "x0": 5.23211939546713,
          "x1": 6.06811939546713,
          "y0": 2.720955219703961,
          "y1": 3.556955219703961
         },
         {
          "fillcolor": "#5f4584",
          "line": {
           "color": "red",
           "width": 1
          },
          "opacity": 0.9,
          "type": "circle",
          "x0": 5.24051939546713,
          "x1": 6.0597193954671305,
          "y0": 2.7293552197039608,
          "y1": 3.548555219703961
         },
         {
          "fillcolor": "lightblue",
          "line": {
           "color": "green",
           "width": 1
          },
          "opacity": 0.7,
          "type": "rect",
          "x0": 6.277910439407922,
          "x1": 7.533492527289507,
          "y0": 2.511164175763169,
          "y1": 3.7667462636447535
         },
         {
          "fillcolor": "green",
          "line": {
           "color": "green",
           "width": 1
          },
          "opacity": 0.4,
          "type": "circle",
          "x0": 6.430501483348714,
          "x1": 7.3809014833487145,
          "y0": 2.663755219703961,
          "y1": 3.614155219703961
         },
         {
          "fillcolor": "yellow",
          "line": {
           "color": "yellow",
           "width": 1
          },
          "opacity": 0.7,
          "type": "circle",
          "x0": 6.487701483348714,
          "x1": 7.323701483348715,
          "y0": 2.720955219703961,
          "y1": 3.556955219703961
         },
         {
          "fillcolor": "#5f4584",
          "line": {
           "color": "red",
           "width": 1
          },
          "opacity": 0.9,
          "type": "circle",
          "x0": 6.496101483348714,
          "x1": 7.315301483348715,
          "y0": 2.7293552197039608,
          "y1": 3.548555219703961
         },
         {
          "fillcolor": "lightblue",
          "line": {
           "color": "green",
           "width": 1
          },
          "opacity": 0.7,
          "type": "rect",
          "x0": 7.533492527289507,
          "x1": 8.78907461517109,
          "y0": 2.511164175763169,
          "y1": 3.7667462636447535
         },
         {
          "fillcolor": "green",
          "line": {
           "color": "green",
           "width": 1
          },
          "opacity": 0.4,
          "type": "circle",
          "x0": 7.6860835712302995,
          "x1": 8.6364835712303,
          "y0": 2.663755219703961,
          "y1": 3.614155219703961
         },
         {
          "fillcolor": "yellow",
          "line": {
           "color": "yellow",
           "width": 1
          },
          "opacity": 0.7,
          "type": "circle",
          "x0": 7.743283571230299,
          "x1": 8.579283571230299,
          "y0": 2.720955219703961,
          "y1": 3.556955219703961
         },
         {
          "fillcolor": "#5f4584",
          "line": {
           "color": "red",
           "width": 1
          },
          "opacity": 0.9,
          "type": "circle",
          "x0": 7.751683571230299,
          "x1": 8.570883571230299,
          "y0": 2.7293552197039608,
          "y1": 3.548555219703961
         },
         {
          "fillcolor": "lightblue",
          "line": {
           "color": "green",
           "width": 1
          },
          "opacity": 0.7,
          "type": "rect",
          "x0": 8.78907461517109,
          "x1": 10.044656703052675,
          "y0": 2.511164175763169,
          "y1": 3.7667462636447535
         },
         {
          "fillcolor": "green",
          "line": {
           "color": "green",
           "width": 1
          },
          "opacity": 0.4,
          "type": "circle",
          "x0": 8.941665659111884,
          "x1": 9.892065659111882,
          "y0": 2.663755219703961,
          "y1": 3.614155219703961
         },
         {
          "fillcolor": "yellow",
          "line": {
           "color": "yellow",
           "width": 1
          },
          "opacity": 0.7,
          "type": "circle",
          "x0": 8.998865659111884,
          "x1": 9.834865659111882,
          "y0": 2.720955219703961,
          "y1": 3.556955219703961
         },
         {
          "fillcolor": "#5f4584",
          "line": {
           "color": "red",
           "width": 1
          },
          "opacity": 0.9,
          "type": "circle",
          "x0": 9.007265659111884,
          "x1": 9.826465659111882,
          "y0": 2.7293552197039608,
          "y1": 3.548555219703961
         },
         {
          "fillcolor": "lightblue",
          "line": {
           "color": "green",
           "width": 1
          },
          "opacity": 0.7,
          "type": "rect",
          "x0": 0,
          "x1": 1.2555820878815844,
          "y0": 3.7667462636447535,
          "y1": 5.022328351526338
         },
         {
          "fillcolor": "green",
          "line": {
           "color": "green",
           "width": 1
          },
          "opacity": 0.4,
          "type": "circle",
          "x0": 0.15259104394079215,
          "x1": 1.1029910439407922,
          "y0": 3.919337307585546,
          "y1": 4.869737307585546
         },
         {
          "fillcolor": "yellow",
          "line": {
           "color": "yellow",
           "width": 1
          },
          "opacity": 0.7,
          "type": "circle",
          "x0": 0.20979104394079218,
          "x1": 1.0457910439407923,
          "y0": 3.976537307585546,
          "y1": 4.812537307585546
         },
         {
          "fillcolor": "#5f4584",
          "line": {
           "color": "red",
           "width": 1
          },
          "opacity": 0.9,
          "type": "circle",
          "x0": 0.2181910439407922,
          "x1": 1.0373910439407923,
          "y0": 3.984937307585546,
          "y1": 4.804137307585546
         },
         {
          "fillcolor": "lightblue",
          "line": {
           "color": "green",
           "width": 1
          },
          "opacity": 0.7,
          "type": "rect",
          "x0": 1.2555820878815844,
          "x1": 2.511164175763169,
          "y0": 3.7667462636447535,
          "y1": 5.022328351526338
         },
         {
          "fillcolor": "green",
          "line": {
           "color": "green",
           "width": 1
          },
          "opacity": 0.4,
          "type": "circle",
          "x0": 1.4081731318223767,
          "x1": 2.358573131822377,
          "y0": 3.919337307585546,
          "y1": 4.869737307585546
         },
         {
          "fillcolor": "yellow",
          "line": {
           "color": "yellow",
           "width": 1
          },
          "opacity": 0.7,
          "type": "circle",
          "x0": 1.4653731318223766,
          "x1": 2.301373131822377,
          "y0": 3.976537307585546,
          "y1": 4.812537307585546
         },
         {
          "fillcolor": "#5f4584",
          "line": {
           "color": "red",
           "width": 1
          },
          "opacity": 0.9,
          "type": "circle",
          "x0": 1.4737731318223768,
          "x1": 2.292973131822377,
          "y0": 3.984937307585546,
          "y1": 4.804137307585546
         },
         {
          "fillcolor": "lightblue",
          "line": {
           "color": "green",
           "width": 1
          },
          "opacity": 0.7,
          "type": "rect",
          "x0": 2.511164175763169,
          "x1": 3.7667462636447535,
          "y0": 3.7667462636447535,
          "y1": 5.022328351526338
         },
         {
          "fillcolor": "green",
          "line": {
           "color": "green",
           "width": 1
          },
          "opacity": 0.4,
          "type": "circle",
          "x0": 2.663755219703961,
          "x1": 3.614155219703961,
          "y0": 3.919337307585546,
          "y1": 4.869737307585546
         },
         {
          "fillcolor": "yellow",
          "line": {
           "color": "yellow",
           "width": 1
          },
          "opacity": 0.7,
          "type": "circle",
          "x0": 2.720955219703961,
          "x1": 3.556955219703961,
          "y0": 3.976537307585546,
          "y1": 4.812537307585546
         },
         {
          "fillcolor": "#5f4584",
          "line": {
           "color": "red",
           "width": 1
          },
          "opacity": 0.9,
          "type": "circle",
          "x0": 2.7293552197039608,
          "x1": 3.548555219703961,
          "y0": 3.984937307585546,
          "y1": 4.804137307585546
         },
         {
          "fillcolor": "lightblue",
          "line": {
           "color": "green",
           "width": 1
          },
          "opacity": 0.7,
          "type": "rect",
          "x0": 3.7667462636447535,
          "x1": 5.022328351526338,
          "y0": 3.7667462636447535,
          "y1": 5.022328351526338
         },
         {
          "fillcolor": "green",
          "line": {
           "color": "green",
           "width": 1
          },
          "opacity": 0.4,
          "type": "circle",
          "x0": 3.919337307585546,
          "x1": 4.869737307585546,
          "y0": 3.919337307585546,
          "y1": 4.869737307585546
         },
         {
          "fillcolor": "yellow",
          "line": {
           "color": "yellow",
           "width": 1
          },
          "opacity": 0.7,
          "type": "circle",
          "x0": 3.976537307585546,
          "x1": 4.812537307585546,
          "y0": 3.976537307585546,
          "y1": 4.812537307585546
         },
         {
          "fillcolor": "#5f4584",
          "line": {
           "color": "red",
           "width": 1
          },
          "opacity": 0.9,
          "type": "circle",
          "x0": 3.984937307585546,
          "x1": 4.804137307585546,
          "y0": 3.984937307585546,
          "y1": 4.804137307585546
         },
         {
          "fillcolor": "lightblue",
          "line": {
           "color": "green",
           "width": 1
          },
          "opacity": 0.7,
          "type": "rect",
          "x0": 5.022328351526338,
          "x1": 6.277910439407922,
          "y0": 3.7667462636447535,
          "y1": 5.022328351526338
         },
         {
          "fillcolor": "green",
          "line": {
           "color": "green",
           "width": 1
          },
          "opacity": 0.4,
          "type": "circle",
          "x0": 5.17491939546713,
          "x1": 6.12531939546713,
          "y0": 3.919337307585546,
          "y1": 4.869737307585546
         },
         {
          "fillcolor": "yellow",
          "line": {
           "color": "yellow",
           "width": 1
          },
          "opacity": 0.7,
          "type": "circle",
          "x0": 5.23211939546713,
          "x1": 6.06811939546713,
          "y0": 3.976537307585546,
          "y1": 4.812537307585546
         },
         {
          "fillcolor": "#5f4584",
          "line": {
           "color": "red",
           "width": 1
          },
          "opacity": 0.9,
          "type": "circle",
          "x0": 5.24051939546713,
          "x1": 6.0597193954671305,
          "y0": 3.984937307585546,
          "y1": 4.804137307585546
         },
         {
          "fillcolor": "lightblue",
          "line": {
           "color": "green",
           "width": 1
          },
          "opacity": 0.7,
          "type": "rect",
          "x0": 6.277910439407922,
          "x1": 7.533492527289507,
          "y0": 3.7667462636447535,
          "y1": 5.022328351526338
         },
         {
          "fillcolor": "green",
          "line": {
           "color": "green",
           "width": 1
          },
          "opacity": 0.4,
          "type": "circle",
          "x0": 6.430501483348714,
          "x1": 7.3809014833487145,
          "y0": 3.919337307585546,
          "y1": 4.869737307585546
         },
         {
          "fillcolor": "yellow",
          "line": {
           "color": "yellow",
           "width": 1
          },
          "opacity": 0.7,
          "type": "circle",
          "x0": 6.487701483348714,
          "x1": 7.323701483348715,
          "y0": 3.976537307585546,
          "y1": 4.812537307585546
         },
         {
          "fillcolor": "#5f4584",
          "line": {
           "color": "red",
           "width": 1
          },
          "opacity": 0.9,
          "type": "circle",
          "x0": 6.496101483348714,
          "x1": 7.315301483348715,
          "y0": 3.984937307585546,
          "y1": 4.804137307585546
         },
         {
          "fillcolor": "lightblue",
          "line": {
           "color": "green",
           "width": 1
          },
          "opacity": 0.7,
          "type": "rect",
          "x0": 7.533492527289507,
          "x1": 8.78907461517109,
          "y0": 3.7667462636447535,
          "y1": 5.022328351526338
         },
         {
          "fillcolor": "green",
          "line": {
           "color": "green",
           "width": 1
          },
          "opacity": 0.4,
          "type": "circle",
          "x0": 7.6860835712302995,
          "x1": 8.6364835712303,
          "y0": 3.919337307585546,
          "y1": 4.869737307585546
         },
         {
          "fillcolor": "yellow",
          "line": {
           "color": "yellow",
           "width": 1
          },
          "opacity": 0.7,
          "type": "circle",
          "x0": 7.743283571230299,
          "x1": 8.579283571230299,
          "y0": 3.976537307585546,
          "y1": 4.812537307585546
         },
         {
          "fillcolor": "#5f4584",
          "line": {
           "color": "red",
           "width": 1
          },
          "opacity": 0.9,
          "type": "circle",
          "x0": 7.751683571230299,
          "x1": 8.570883571230299,
          "y0": 3.984937307585546,
          "y1": 4.804137307585546
         },
         {
          "fillcolor": "lightblue",
          "line": {
           "color": "green",
           "width": 1
          },
          "opacity": 0.7,
          "type": "rect",
          "x0": 8.78907461517109,
          "x1": 10.044656703052675,
          "y0": 3.7667462636447535,
          "y1": 5.022328351526338
         },
         {
          "fillcolor": "green",
          "line": {
           "color": "green",
           "width": 1
          },
          "opacity": 0.4,
          "type": "circle",
          "x0": 8.941665659111884,
          "x1": 9.892065659111882,
          "y0": 3.919337307585546,
          "y1": 4.869737307585546
         },
         {
          "fillcolor": "yellow",
          "line": {
           "color": "yellow",
           "width": 1
          },
          "opacity": 0.7,
          "type": "circle",
          "x0": 8.998865659111884,
          "x1": 9.834865659111882,
          "y0": 3.976537307585546,
          "y1": 4.812537307585546
         },
         {
          "fillcolor": "#5f4584",
          "line": {
           "color": "red",
           "width": 1
          },
          "opacity": 0.9,
          "type": "circle",
          "x0": 9.007265659111884,
          "x1": 9.826465659111882,
          "y0": 3.984937307585546,
          "y1": 4.804137307585546
         },
         {
          "fillcolor": "lightblue",
          "line": {
           "color": "green",
           "width": 1
          },
          "opacity": 0.7,
          "type": "rect",
          "x0": 0,
          "x1": 1.2555820878815844,
          "y0": 5.022328351526338,
          "y1": 6.277910439407922
         },
         {
          "fillcolor": "green",
          "line": {
           "color": "green",
           "width": 1
          },
          "opacity": 0.4,
          "type": "circle",
          "x0": 0.15259104394079215,
          "x1": 1.1029910439407922,
          "y0": 5.17491939546713,
          "y1": 6.12531939546713
         },
         {
          "fillcolor": "yellow",
          "line": {
           "color": "yellow",
           "width": 1
          },
          "opacity": 0.7,
          "type": "circle",
          "x0": 0.20979104394079218,
          "x1": 1.0457910439407923,
          "y0": 5.23211939546713,
          "y1": 6.06811939546713
         },
         {
          "fillcolor": "#5f4584",
          "line": {
           "color": "red",
           "width": 1
          },
          "opacity": 0.9,
          "type": "circle",
          "x0": 0.2181910439407922,
          "x1": 1.0373910439407923,
          "y0": 5.24051939546713,
          "y1": 6.0597193954671305
         },
         {
          "fillcolor": "lightblue",
          "line": {
           "color": "green",
           "width": 1
          },
          "opacity": 0.7,
          "type": "rect",
          "x0": 1.2555820878815844,
          "x1": 2.511164175763169,
          "y0": 5.022328351526338,
          "y1": 6.277910439407922
         },
         {
          "fillcolor": "green",
          "line": {
           "color": "green",
           "width": 1
          },
          "opacity": 0.4,
          "type": "circle",
          "x0": 1.4081731318223767,
          "x1": 2.358573131822377,
          "y0": 5.17491939546713,
          "y1": 6.12531939546713
         },
         {
          "fillcolor": "yellow",
          "line": {
           "color": "yellow",
           "width": 1
          },
          "opacity": 0.7,
          "type": "circle",
          "x0": 1.4653731318223766,
          "x1": 2.301373131822377,
          "y0": 5.23211939546713,
          "y1": 6.06811939546713
         },
         {
          "fillcolor": "#5f4584",
          "line": {
           "color": "red",
           "width": 1
          },
          "opacity": 0.9,
          "type": "circle",
          "x0": 1.4737731318223768,
          "x1": 2.292973131822377,
          "y0": 5.24051939546713,
          "y1": 6.0597193954671305
         },
         {
          "fillcolor": "lightblue",
          "line": {
           "color": "green",
           "width": 1
          },
          "opacity": 0.7,
          "type": "rect",
          "x0": 2.511164175763169,
          "x1": 3.7667462636447535,
          "y0": 5.022328351526338,
          "y1": 6.277910439407922
         },
         {
          "fillcolor": "green",
          "line": {
           "color": "green",
           "width": 1
          },
          "opacity": 0.4,
          "type": "circle",
          "x0": 2.663755219703961,
          "x1": 3.614155219703961,
          "y0": 5.17491939546713,
          "y1": 6.12531939546713
         },
         {
          "fillcolor": "yellow",
          "line": {
           "color": "yellow",
           "width": 1
          },
          "opacity": 0.7,
          "type": "circle",
          "x0": 2.720955219703961,
          "x1": 3.556955219703961,
          "y0": 5.23211939546713,
          "y1": 6.06811939546713
         },
         {
          "fillcolor": "#5f4584",
          "line": {
           "color": "red",
           "width": 1
          },
          "opacity": 0.9,
          "type": "circle",
          "x0": 2.7293552197039608,
          "x1": 3.548555219703961,
          "y0": 5.24051939546713,
          "y1": 6.0597193954671305
         },
         {
          "fillcolor": "lightblue",
          "line": {
           "color": "green",
           "width": 1
          },
          "opacity": 0.7,
          "type": "rect",
          "x0": 3.7667462636447535,
          "x1": 5.022328351526338,
          "y0": 5.022328351526338,
          "y1": 6.277910439407922
         },
         {
          "fillcolor": "green",
          "line": {
           "color": "green",
           "width": 1
          },
          "opacity": 0.4,
          "type": "circle",
          "x0": 3.919337307585546,
          "x1": 4.869737307585546,
          "y0": 5.17491939546713,
          "y1": 6.12531939546713
         },
         {
          "fillcolor": "yellow",
          "line": {
           "color": "yellow",
           "width": 1
          },
          "opacity": 0.7,
          "type": "circle",
          "x0": 3.976537307585546,
          "x1": 4.812537307585546,
          "y0": 5.23211939546713,
          "y1": 6.06811939546713
         },
         {
          "fillcolor": "#5f4584",
          "line": {
           "color": "red",
           "width": 1
          },
          "opacity": 0.9,
          "type": "circle",
          "x0": 3.984937307585546,
          "x1": 4.804137307585546,
          "y0": 5.24051939546713,
          "y1": 6.0597193954671305
         },
         {
          "fillcolor": "lightblue",
          "line": {
           "color": "green",
           "width": 1
          },
          "opacity": 0.7,
          "type": "rect",
          "x0": 5.022328351526338,
          "x1": 6.277910439407922,
          "y0": 5.022328351526338,
          "y1": 6.277910439407922
         },
         {
          "fillcolor": "green",
          "line": {
           "color": "green",
           "width": 1
          },
          "opacity": 0.4,
          "type": "circle",
          "x0": 5.17491939546713,
          "x1": 6.12531939546713,
          "y0": 5.17491939546713,
          "y1": 6.12531939546713
         },
         {
          "fillcolor": "yellow",
          "line": {
           "color": "yellow",
           "width": 1
          },
          "opacity": 0.7,
          "type": "circle",
          "x0": 5.23211939546713,
          "x1": 6.06811939546713,
          "y0": 5.23211939546713,
          "y1": 6.06811939546713
         },
         {
          "fillcolor": "#5f4584",
          "line": {
           "color": "red",
           "width": 1
          },
          "opacity": 0.9,
          "type": "circle",
          "x0": 5.24051939546713,
          "x1": 6.0597193954671305,
          "y0": 5.24051939546713,
          "y1": 6.0597193954671305
         },
         {
          "fillcolor": "lightblue",
          "line": {
           "color": "green",
           "width": 1
          },
          "opacity": 0.7,
          "type": "rect",
          "x0": 6.277910439407922,
          "x1": 7.533492527289507,
          "y0": 5.022328351526338,
          "y1": 6.277910439407922
         },
         {
          "fillcolor": "green",
          "line": {
           "color": "green",
           "width": 1
          },
          "opacity": 0.4,
          "type": "circle",
          "x0": 6.430501483348714,
          "x1": 7.3809014833487145,
          "y0": 5.17491939546713,
          "y1": 6.12531939546713
         },
         {
          "fillcolor": "yellow",
          "line": {
           "color": "yellow",
           "width": 1
          },
          "opacity": 0.7,
          "type": "circle",
          "x0": 6.487701483348714,
          "x1": 7.323701483348715,
          "y0": 5.23211939546713,
          "y1": 6.06811939546713
         },
         {
          "fillcolor": "#5f4584",
          "line": {
           "color": "red",
           "width": 1
          },
          "opacity": 0.9,
          "type": "circle",
          "x0": 6.496101483348714,
          "x1": 7.315301483348715,
          "y0": 5.24051939546713,
          "y1": 6.0597193954671305
         },
         {
          "fillcolor": "lightblue",
          "line": {
           "color": "green",
           "width": 1
          },
          "opacity": 0.7,
          "type": "rect",
          "x0": 7.533492527289507,
          "x1": 8.78907461517109,
          "y0": 5.022328351526338,
          "y1": 6.277910439407922
         },
         {
          "fillcolor": "green",
          "line": {
           "color": "green",
           "width": 1
          },
          "opacity": 0.4,
          "type": "circle",
          "x0": 7.6860835712302995,
          "x1": 8.6364835712303,
          "y0": 5.17491939546713,
          "y1": 6.12531939546713
         },
         {
          "fillcolor": "yellow",
          "line": {
           "color": "yellow",
           "width": 1
          },
          "opacity": 0.7,
          "type": "circle",
          "x0": 7.743283571230299,
          "x1": 8.579283571230299,
          "y0": 5.23211939546713,
          "y1": 6.06811939546713
         },
         {
          "fillcolor": "#5f4584",
          "line": {
           "color": "red",
           "width": 1
          },
          "opacity": 0.9,
          "type": "circle",
          "x0": 7.751683571230299,
          "x1": 8.570883571230299,
          "y0": 5.24051939546713,
          "y1": 6.0597193954671305
         },
         {
          "fillcolor": "lightblue",
          "line": {
           "color": "green",
           "width": 1
          },
          "opacity": 0.7,
          "type": "rect",
          "x0": 8.78907461517109,
          "x1": 10.044656703052675,
          "y0": 5.022328351526338,
          "y1": 6.277910439407922
         },
         {
          "fillcolor": "green",
          "line": {
           "color": "green",
           "width": 1
          },
          "opacity": 0.4,
          "type": "circle",
          "x0": 8.941665659111884,
          "x1": 9.892065659111882,
          "y0": 5.17491939546713,
          "y1": 6.12531939546713
         },
         {
          "fillcolor": "yellow",
          "line": {
           "color": "yellow",
           "width": 1
          },
          "opacity": 0.7,
          "type": "circle",
          "x0": 8.998865659111884,
          "x1": 9.834865659111882,
          "y0": 5.23211939546713,
          "y1": 6.06811939546713
         },
         {
          "fillcolor": "#5f4584",
          "line": {
           "color": "red",
           "width": 1
          },
          "opacity": 0.9,
          "type": "circle",
          "x0": 9.007265659111884,
          "x1": 9.826465659111882,
          "y0": 5.24051939546713,
          "y1": 6.0597193954671305
         },
         {
          "fillcolor": "lightblue",
          "line": {
           "color": "green",
           "width": 1
          },
          "opacity": 0.7,
          "type": "rect",
          "x0": 0,
          "x1": 1.2555820878815844,
          "y0": 6.277910439407922,
          "y1": 7.533492527289507
         },
         {
          "fillcolor": "green",
          "line": {
           "color": "green",
           "width": 1
          },
          "opacity": 0.4,
          "type": "circle",
          "x0": 0.15259104394079215,
          "x1": 1.1029910439407922,
          "y0": 6.430501483348714,
          "y1": 7.3809014833487145
         },
         {
          "fillcolor": "yellow",
          "line": {
           "color": "yellow",
           "width": 1
          },
          "opacity": 0.7,
          "type": "circle",
          "x0": 0.20979104394079218,
          "x1": 1.0457910439407923,
          "y0": 6.487701483348714,
          "y1": 7.323701483348715
         },
         {
          "fillcolor": "#5f4584",
          "line": {
           "color": "red",
           "width": 1
          },
          "opacity": 0.9,
          "type": "circle",
          "x0": 0.2181910439407922,
          "x1": 1.0373910439407923,
          "y0": 6.496101483348714,
          "y1": 7.315301483348715
         },
         {
          "fillcolor": "lightblue",
          "line": {
           "color": "green",
           "width": 1
          },
          "opacity": 0.7,
          "type": "rect",
          "x0": 1.2555820878815844,
          "x1": 2.511164175763169,
          "y0": 6.277910439407922,
          "y1": 7.533492527289507
         },
         {
          "fillcolor": "green",
          "line": {
           "color": "green",
           "width": 1
          },
          "opacity": 0.4,
          "type": "circle",
          "x0": 1.4081731318223767,
          "x1": 2.358573131822377,
          "y0": 6.430501483348714,
          "y1": 7.3809014833487145
         },
         {
          "fillcolor": "yellow",
          "line": {
           "color": "yellow",
           "width": 1
          },
          "opacity": 0.7,
          "type": "circle",
          "x0": 1.4653731318223766,
          "x1": 2.301373131822377,
          "y0": 6.487701483348714,
          "y1": 7.323701483348715
         },
         {
          "fillcolor": "#5f4584",
          "line": {
           "color": "red",
           "width": 1
          },
          "opacity": 0.9,
          "type": "circle",
          "x0": 1.4737731318223768,
          "x1": 2.292973131822377,
          "y0": 6.496101483348714,
          "y1": 7.315301483348715
         },
         {
          "fillcolor": "lightblue",
          "line": {
           "color": "green",
           "width": 1
          },
          "opacity": 0.7,
          "type": "rect",
          "x0": 2.511164175763169,
          "x1": 3.7667462636447535,
          "y0": 6.277910439407922,
          "y1": 7.533492527289507
         },
         {
          "fillcolor": "green",
          "line": {
           "color": "green",
           "width": 1
          },
          "opacity": 0.4,
          "type": "circle",
          "x0": 2.663755219703961,
          "x1": 3.614155219703961,
          "y0": 6.430501483348714,
          "y1": 7.3809014833487145
         },
         {
          "fillcolor": "yellow",
          "line": {
           "color": "yellow",
           "width": 1
          },
          "opacity": 0.7,
          "type": "circle",
          "x0": 2.720955219703961,
          "x1": 3.556955219703961,
          "y0": 6.487701483348714,
          "y1": 7.323701483348715
         },
         {
          "fillcolor": "#5f4584",
          "line": {
           "color": "red",
           "width": 1
          },
          "opacity": 0.9,
          "type": "circle",
          "x0": 2.7293552197039608,
          "x1": 3.548555219703961,
          "y0": 6.496101483348714,
          "y1": 7.315301483348715
         },
         {
          "fillcolor": "lightblue",
          "line": {
           "color": "green",
           "width": 1
          },
          "opacity": 0.7,
          "type": "rect",
          "x0": 3.7667462636447535,
          "x1": 5.022328351526338,
          "y0": 6.277910439407922,
          "y1": 7.533492527289507
         },
         {
          "fillcolor": "green",
          "line": {
           "color": "green",
           "width": 1
          },
          "opacity": 0.4,
          "type": "circle",
          "x0": 3.919337307585546,
          "x1": 4.869737307585546,
          "y0": 6.430501483348714,
          "y1": 7.3809014833487145
         },
         {
          "fillcolor": "yellow",
          "line": {
           "color": "yellow",
           "width": 1
          },
          "opacity": 0.7,
          "type": "circle",
          "x0": 3.976537307585546,
          "x1": 4.812537307585546,
          "y0": 6.487701483348714,
          "y1": 7.323701483348715
         },
         {
          "fillcolor": "#5f4584",
          "line": {
           "color": "red",
           "width": 1
          },
          "opacity": 0.9,
          "type": "circle",
          "x0": 3.984937307585546,
          "x1": 4.804137307585546,
          "y0": 6.496101483348714,
          "y1": 7.315301483348715
         },
         {
          "fillcolor": "lightblue",
          "line": {
           "color": "green",
           "width": 1
          },
          "opacity": 0.7,
          "type": "rect",
          "x0": 5.022328351526338,
          "x1": 6.277910439407922,
          "y0": 6.277910439407922,
          "y1": 7.533492527289507
         },
         {
          "fillcolor": "green",
          "line": {
           "color": "green",
           "width": 1
          },
          "opacity": 0.4,
          "type": "circle",
          "x0": 5.17491939546713,
          "x1": 6.12531939546713,
          "y0": 6.430501483348714,
          "y1": 7.3809014833487145
         },
         {
          "fillcolor": "yellow",
          "line": {
           "color": "yellow",
           "width": 1
          },
          "opacity": 0.7,
          "type": "circle",
          "x0": 5.23211939546713,
          "x1": 6.06811939546713,
          "y0": 6.487701483348714,
          "y1": 7.323701483348715
         },
         {
          "fillcolor": "#5f4584",
          "line": {
           "color": "red",
           "width": 1
          },
          "opacity": 0.9,
          "type": "circle",
          "x0": 5.24051939546713,
          "x1": 6.0597193954671305,
          "y0": 6.496101483348714,
          "y1": 7.315301483348715
         },
         {
          "fillcolor": "lightblue",
          "line": {
           "color": "green",
           "width": 1
          },
          "opacity": 0.7,
          "type": "rect",
          "x0": 6.277910439407922,
          "x1": 7.533492527289507,
          "y0": 6.277910439407922,
          "y1": 7.533492527289507
         },
         {
          "fillcolor": "green",
          "line": {
           "color": "green",
           "width": 1
          },
          "opacity": 0.4,
          "type": "circle",
          "x0": 6.430501483348714,
          "x1": 7.3809014833487145,
          "y0": 6.430501483348714,
          "y1": 7.3809014833487145
         },
         {
          "fillcolor": "yellow",
          "line": {
           "color": "yellow",
           "width": 1
          },
          "opacity": 0.7,
          "type": "circle",
          "x0": 6.487701483348714,
          "x1": 7.323701483348715,
          "y0": 6.487701483348714,
          "y1": 7.323701483348715
         },
         {
          "fillcolor": "#c81414",
          "line": {
           "color": "red",
           "width": 1
          },
          "opacity": 0.9,
          "type": "circle",
          "x0": 6.496101483348714,
          "x1": 7.315301483348715,
          "y0": 6.496101483348714,
          "y1": 7.315301483348715
         },
         {
          "fillcolor": "lightblue",
          "line": {
           "color": "green",
           "width": 1
          },
          "opacity": 0.7,
          "type": "rect",
          "x0": 7.533492527289507,
          "x1": 8.78907461517109,
          "y0": 6.277910439407922,
          "y1": 7.533492527289507
         },
         {
          "fillcolor": "green",
          "line": {
           "color": "green",
           "width": 1
          },
          "opacity": 0.4,
          "type": "circle",
          "x0": 7.6860835712302995,
          "x1": 8.6364835712303,
          "y0": 6.430501483348714,
          "y1": 7.3809014833487145
         },
         {
          "fillcolor": "yellow",
          "line": {
           "color": "yellow",
           "width": 1
          },
          "opacity": 0.7,
          "type": "circle",
          "x0": 7.743283571230299,
          "x1": 8.579283571230299,
          "y0": 6.487701483348714,
          "y1": 7.323701483348715
         },
         {
          "fillcolor": "#5f4584",
          "line": {
           "color": "red",
           "width": 1
          },
          "opacity": 0.9,
          "type": "circle",
          "x0": 7.751683571230299,
          "x1": 8.570883571230299,
          "y0": 6.496101483348714,
          "y1": 7.315301483348715
         },
         {
          "fillcolor": "lightblue",
          "line": {
           "color": "green",
           "width": 1
          },
          "opacity": 0.7,
          "type": "rect",
          "x0": 8.78907461517109,
          "x1": 10.044656703052675,
          "y0": 6.277910439407922,
          "y1": 7.533492527289507
         },
         {
          "fillcolor": "green",
          "line": {
           "color": "green",
           "width": 1
          },
          "opacity": 0.4,
          "type": "circle",
          "x0": 8.941665659111884,
          "x1": 9.892065659111882,
          "y0": 6.430501483348714,
          "y1": 7.3809014833487145
         },
         {
          "fillcolor": "yellow",
          "line": {
           "color": "yellow",
           "width": 1
          },
          "opacity": 0.7,
          "type": "circle",
          "x0": 8.998865659111884,
          "x1": 9.834865659111882,
          "y0": 6.487701483348714,
          "y1": 7.323701483348715
         },
         {
          "fillcolor": "#5f4584",
          "line": {
           "color": "red",
           "width": 1
          },
          "opacity": 0.9,
          "type": "circle",
          "x0": 9.007265659111884,
          "x1": 9.826465659111882,
          "y0": 6.496101483348714,
          "y1": 7.315301483348715
         },
         {
          "fillcolor": "lightblue",
          "line": {
           "color": "green",
           "width": 1
          },
          "opacity": 0.7,
          "type": "rect",
          "x0": 0,
          "x1": 1.2555820878815844,
          "y0": 7.533492527289507,
          "y1": 8.78907461517109
         },
         {
          "fillcolor": "green",
          "line": {
           "color": "green",
           "width": 1
          },
          "opacity": 0.4,
          "type": "circle",
          "x0": 0.15259104394079215,
          "x1": 1.1029910439407922,
          "y0": 7.6860835712302995,
          "y1": 8.6364835712303
         },
         {
          "fillcolor": "yellow",
          "line": {
           "color": "yellow",
           "width": 1
          },
          "opacity": 0.7,
          "type": "circle",
          "x0": 0.20979104394079218,
          "x1": 1.0457910439407923,
          "y0": 7.743283571230299,
          "y1": 8.579283571230299
         },
         {
          "fillcolor": "#5f4584",
          "line": {
           "color": "red",
           "width": 1
          },
          "opacity": 0.9,
          "type": "circle",
          "x0": 0.2181910439407922,
          "x1": 1.0373910439407923,
          "y0": 7.751683571230299,
          "y1": 8.570883571230299
         },
         {
          "fillcolor": "lightblue",
          "line": {
           "color": "green",
           "width": 1
          },
          "opacity": 0.7,
          "type": "rect",
          "x0": 1.2555820878815844,
          "x1": 2.511164175763169,
          "y0": 7.533492527289507,
          "y1": 8.78907461517109
         },
         {
          "fillcolor": "green",
          "line": {
           "color": "green",
           "width": 1
          },
          "opacity": 0.4,
          "type": "circle",
          "x0": 1.4081731318223767,
          "x1": 2.358573131822377,
          "y0": 7.6860835712302995,
          "y1": 8.6364835712303
         },
         {
          "fillcolor": "yellow",
          "line": {
           "color": "yellow",
           "width": 1
          },
          "opacity": 0.7,
          "type": "circle",
          "x0": 1.4653731318223766,
          "x1": 2.301373131822377,
          "y0": 7.743283571230299,
          "y1": 8.579283571230299
         },
         {
          "fillcolor": "#5f4584",
          "line": {
           "color": "red",
           "width": 1
          },
          "opacity": 0.9,
          "type": "circle",
          "x0": 1.4737731318223768,
          "x1": 2.292973131822377,
          "y0": 7.751683571230299,
          "y1": 8.570883571230299
         },
         {
          "fillcolor": "lightblue",
          "line": {
           "color": "green",
           "width": 1
          },
          "opacity": 0.7,
          "type": "rect",
          "x0": 2.511164175763169,
          "x1": 3.7667462636447535,
          "y0": 7.533492527289507,
          "y1": 8.78907461517109
         },
         {
          "fillcolor": "green",
          "line": {
           "color": "green",
           "width": 1
          },
          "opacity": 0.4,
          "type": "circle",
          "x0": 2.663755219703961,
          "x1": 3.614155219703961,
          "y0": 7.6860835712302995,
          "y1": 8.6364835712303
         },
         {
          "fillcolor": "yellow",
          "line": {
           "color": "yellow",
           "width": 1
          },
          "opacity": 0.7,
          "type": "circle",
          "x0": 2.720955219703961,
          "x1": 3.556955219703961,
          "y0": 7.743283571230299,
          "y1": 8.579283571230299
         },
         {
          "fillcolor": "#5f4584",
          "line": {
           "color": "red",
           "width": 1
          },
          "opacity": 0.9,
          "type": "circle",
          "x0": 2.7293552197039608,
          "x1": 3.548555219703961,
          "y0": 7.751683571230299,
          "y1": 8.570883571230299
         },
         {
          "fillcolor": "lightblue",
          "line": {
           "color": "green",
           "width": 1
          },
          "opacity": 0.7,
          "type": "rect",
          "x0": 3.7667462636447535,
          "x1": 5.022328351526338,
          "y0": 7.533492527289507,
          "y1": 8.78907461517109
         },
         {
          "fillcolor": "green",
          "line": {
           "color": "green",
           "width": 1
          },
          "opacity": 0.4,
          "type": "circle",
          "x0": 3.919337307585546,
          "x1": 4.869737307585546,
          "y0": 7.6860835712302995,
          "y1": 8.6364835712303
         },
         {
          "fillcolor": "yellow",
          "line": {
           "color": "yellow",
           "width": 1
          },
          "opacity": 0.7,
          "type": "circle",
          "x0": 3.976537307585546,
          "x1": 4.812537307585546,
          "y0": 7.743283571230299,
          "y1": 8.579283571230299
         },
         {
          "fillcolor": "#5f4584",
          "line": {
           "color": "red",
           "width": 1
          },
          "opacity": 0.9,
          "type": "circle",
          "x0": 3.984937307585546,
          "x1": 4.804137307585546,
          "y0": 7.751683571230299,
          "y1": 8.570883571230299
         },
         {
          "fillcolor": "lightblue",
          "line": {
           "color": "green",
           "width": 1
          },
          "opacity": 0.7,
          "type": "rect",
          "x0": 5.022328351526338,
          "x1": 6.277910439407922,
          "y0": 7.533492527289507,
          "y1": 8.78907461517109
         },
         {
          "fillcolor": "green",
          "line": {
           "color": "green",
           "width": 1
          },
          "opacity": 0.4,
          "type": "circle",
          "x0": 5.17491939546713,
          "x1": 6.12531939546713,
          "y0": 7.6860835712302995,
          "y1": 8.6364835712303
         },
         {
          "fillcolor": "yellow",
          "line": {
           "color": "yellow",
           "width": 1
          },
          "opacity": 0.7,
          "type": "circle",
          "x0": 5.23211939546713,
          "x1": 6.06811939546713,
          "y0": 7.743283571230299,
          "y1": 8.579283571230299
         },
         {
          "fillcolor": "#5f4584",
          "line": {
           "color": "red",
           "width": 1
          },
          "opacity": 0.9,
          "type": "circle",
          "x0": 5.24051939546713,
          "x1": 6.0597193954671305,
          "y0": 7.751683571230299,
          "y1": 8.570883571230299
         },
         {
          "fillcolor": "lightblue",
          "line": {
           "color": "green",
           "width": 1
          },
          "opacity": 0.7,
          "type": "rect",
          "x0": 6.277910439407922,
          "x1": 7.533492527289507,
          "y0": 7.533492527289507,
          "y1": 8.78907461517109
         },
         {
          "fillcolor": "green",
          "line": {
           "color": "green",
           "width": 1
          },
          "opacity": 0.4,
          "type": "circle",
          "x0": 6.430501483348714,
          "x1": 7.3809014833487145,
          "y0": 7.6860835712302995,
          "y1": 8.6364835712303
         },
         {
          "fillcolor": "yellow",
          "line": {
           "color": "yellow",
           "width": 1
          },
          "opacity": 0.7,
          "type": "circle",
          "x0": 6.487701483348714,
          "x1": 7.323701483348715,
          "y0": 7.743283571230299,
          "y1": 8.579283571230299
         },
         {
          "fillcolor": "#5f4584",
          "line": {
           "color": "red",
           "width": 1
          },
          "opacity": 0.9,
          "type": "circle",
          "x0": 6.496101483348714,
          "x1": 7.315301483348715,
          "y0": 7.751683571230299,
          "y1": 8.570883571230299
         },
         {
          "fillcolor": "lightblue",
          "line": {
           "color": "green",
           "width": 1
          },
          "opacity": 0.7,
          "type": "rect",
          "x0": 7.533492527289507,
          "x1": 8.78907461517109,
          "y0": 7.533492527289507,
          "y1": 8.78907461517109
         },
         {
          "fillcolor": "green",
          "line": {
           "color": "green",
           "width": 1
          },
          "opacity": 0.4,
          "type": "circle",
          "x0": 7.6860835712302995,
          "x1": 8.6364835712303,
          "y0": 7.6860835712302995,
          "y1": 8.6364835712303
         },
         {
          "fillcolor": "yellow",
          "line": {
           "color": "yellow",
           "width": 1
          },
          "opacity": 0.7,
          "type": "circle",
          "x0": 7.743283571230299,
          "x1": 8.579283571230299,
          "y0": 7.743283571230299,
          "y1": 8.579283571230299
         },
         {
          "fillcolor": "#c81414",
          "line": {
           "color": "red",
           "width": 1
          },
          "opacity": 0.9,
          "type": "circle",
          "x0": 7.751683571230299,
          "x1": 8.570883571230299,
          "y0": 7.751683571230299,
          "y1": 8.570883571230299
         },
         {
          "fillcolor": "lightblue",
          "line": {
           "color": "green",
           "width": 1
          },
          "opacity": 0.7,
          "type": "rect",
          "x0": 8.78907461517109,
          "x1": 10.044656703052675,
          "y0": 7.533492527289507,
          "y1": 8.78907461517109
         },
         {
          "fillcolor": "green",
          "line": {
           "color": "green",
           "width": 1
          },
          "opacity": 0.4,
          "type": "circle",
          "x0": 8.941665659111884,
          "x1": 9.892065659111882,
          "y0": 7.6860835712302995,
          "y1": 8.6364835712303
         },
         {
          "fillcolor": "yellow",
          "line": {
           "color": "yellow",
           "width": 1
          },
          "opacity": 0.7,
          "type": "circle",
          "x0": 8.998865659111884,
          "x1": 9.834865659111882,
          "y0": 7.743283571230299,
          "y1": 8.579283571230299
         },
         {
          "fillcolor": "#5f4584",
          "line": {
           "color": "red",
           "width": 1
          },
          "opacity": 0.9,
          "type": "circle",
          "x0": 9.007265659111884,
          "x1": 9.826465659111882,
          "y0": 7.751683571230299,
          "y1": 8.570883571230299
         },
         {
          "fillcolor": "lightblue",
          "line": {
           "color": "green",
           "width": 1
          },
          "opacity": 0.7,
          "type": "rect",
          "x0": 0,
          "x1": 1.2555820878815844,
          "y0": 8.78907461517109,
          "y1": 10.044656703052675
         },
         {
          "fillcolor": "green",
          "line": {
           "color": "green",
           "width": 1
          },
          "opacity": 0.4,
          "type": "circle",
          "x0": 0.15259104394079215,
          "x1": 1.1029910439407922,
          "y0": 8.941665659111884,
          "y1": 9.892065659111882
         },
         {
          "fillcolor": "yellow",
          "line": {
           "color": "yellow",
           "width": 1
          },
          "opacity": 0.7,
          "type": "circle",
          "x0": 0.20979104394079218,
          "x1": 1.0457910439407923,
          "y0": 8.998865659111884,
          "y1": 9.834865659111882
         },
         {
          "fillcolor": "#5f4584",
          "line": {
           "color": "red",
           "width": 1
          },
          "opacity": 0.9,
          "type": "circle",
          "x0": 0.2181910439407922,
          "x1": 1.0373910439407923,
          "y0": 9.007265659111884,
          "y1": 9.826465659111882
         },
         {
          "fillcolor": "lightblue",
          "line": {
           "color": "green",
           "width": 1
          },
          "opacity": 0.7,
          "type": "rect",
          "x0": 1.2555820878815844,
          "x1": 2.511164175763169,
          "y0": 8.78907461517109,
          "y1": 10.044656703052675
         },
         {
          "fillcolor": "green",
          "line": {
           "color": "green",
           "width": 1
          },
          "opacity": 0.4,
          "type": "circle",
          "x0": 1.4081731318223767,
          "x1": 2.358573131822377,
          "y0": 8.941665659111884,
          "y1": 9.892065659111882
         },
         {
          "fillcolor": "yellow",
          "line": {
           "color": "yellow",
           "width": 1
          },
          "opacity": 0.7,
          "type": "circle",
          "x0": 1.4653731318223766,
          "x1": 2.301373131822377,
          "y0": 8.998865659111884,
          "y1": 9.834865659111882
         },
         {
          "fillcolor": "#5f4584",
          "line": {
           "color": "red",
           "width": 1
          },
          "opacity": 0.9,
          "type": "circle",
          "x0": 1.4737731318223768,
          "x1": 2.292973131822377,
          "y0": 9.007265659111884,
          "y1": 9.826465659111882
         },
         {
          "fillcolor": "lightblue",
          "line": {
           "color": "green",
           "width": 1
          },
          "opacity": 0.7,
          "type": "rect",
          "x0": 2.511164175763169,
          "x1": 3.7667462636447535,
          "y0": 8.78907461517109,
          "y1": 10.044656703052675
         },
         {
          "fillcolor": "green",
          "line": {
           "color": "green",
           "width": 1
          },
          "opacity": 0.4,
          "type": "circle",
          "x0": 2.663755219703961,
          "x1": 3.614155219703961,
          "y0": 8.941665659111884,
          "y1": 9.892065659111882
         },
         {
          "fillcolor": "yellow",
          "line": {
           "color": "yellow",
           "width": 1
          },
          "opacity": 0.7,
          "type": "circle",
          "x0": 2.720955219703961,
          "x1": 3.556955219703961,
          "y0": 8.998865659111884,
          "y1": 9.834865659111882
         },
         {
          "fillcolor": "#5f4584",
          "line": {
           "color": "red",
           "width": 1
          },
          "opacity": 0.9,
          "type": "circle",
          "x0": 2.7293552197039608,
          "x1": 3.548555219703961,
          "y0": 9.007265659111884,
          "y1": 9.826465659111882
         },
         {
          "fillcolor": "lightblue",
          "line": {
           "color": "green",
           "width": 1
          },
          "opacity": 0.7,
          "type": "rect",
          "x0": 3.7667462636447535,
          "x1": 5.022328351526338,
          "y0": 8.78907461517109,
          "y1": 10.044656703052675
         },
         {
          "fillcolor": "green",
          "line": {
           "color": "green",
           "width": 1
          },
          "opacity": 0.4,
          "type": "circle",
          "x0": 3.919337307585546,
          "x1": 4.869737307585546,
          "y0": 8.941665659111884,
          "y1": 9.892065659111882
         },
         {
          "fillcolor": "yellow",
          "line": {
           "color": "yellow",
           "width": 1
          },
          "opacity": 0.7,
          "type": "circle",
          "x0": 3.976537307585546,
          "x1": 4.812537307585546,
          "y0": 8.998865659111884,
          "y1": 9.834865659111882
         },
         {
          "fillcolor": "#5f4584",
          "line": {
           "color": "red",
           "width": 1
          },
          "opacity": 0.9,
          "type": "circle",
          "x0": 3.984937307585546,
          "x1": 4.804137307585546,
          "y0": 9.007265659111884,
          "y1": 9.826465659111882
         },
         {
          "fillcolor": "lightblue",
          "line": {
           "color": "green",
           "width": 1
          },
          "opacity": 0.7,
          "type": "rect",
          "x0": 5.022328351526338,
          "x1": 6.277910439407922,
          "y0": 8.78907461517109,
          "y1": 10.044656703052675
         },
         {
          "fillcolor": "green",
          "line": {
           "color": "green",
           "width": 1
          },
          "opacity": 0.4,
          "type": "circle",
          "x0": 5.17491939546713,
          "x1": 6.12531939546713,
          "y0": 8.941665659111884,
          "y1": 9.892065659111882
         },
         {
          "fillcolor": "yellow",
          "line": {
           "color": "yellow",
           "width": 1
          },
          "opacity": 0.7,
          "type": "circle",
          "x0": 5.23211939546713,
          "x1": 6.06811939546713,
          "y0": 8.998865659111884,
          "y1": 9.834865659111882
         },
         {
          "fillcolor": "#5f4584",
          "line": {
           "color": "red",
           "width": 1
          },
          "opacity": 0.9,
          "type": "circle",
          "x0": 5.24051939546713,
          "x1": 6.0597193954671305,
          "y0": 9.007265659111884,
          "y1": 9.826465659111882
         },
         {
          "fillcolor": "lightblue",
          "line": {
           "color": "green",
           "width": 1
          },
          "opacity": 0.7,
          "type": "rect",
          "x0": 6.277910439407922,
          "x1": 7.533492527289507,
          "y0": 8.78907461517109,
          "y1": 10.044656703052675
         },
         {
          "fillcolor": "green",
          "line": {
           "color": "green",
           "width": 1
          },
          "opacity": 0.4,
          "type": "circle",
          "x0": 6.430501483348714,
          "x1": 7.3809014833487145,
          "y0": 8.941665659111884,
          "y1": 9.892065659111882
         },
         {
          "fillcolor": "yellow",
          "line": {
           "color": "yellow",
           "width": 1
          },
          "opacity": 0.7,
          "type": "circle",
          "x0": 6.487701483348714,
          "x1": 7.323701483348715,
          "y0": 8.998865659111884,
          "y1": 9.834865659111882
         },
         {
          "fillcolor": "#5f4584",
          "line": {
           "color": "red",
           "width": 1
          },
          "opacity": 0.9,
          "type": "circle",
          "x0": 6.496101483348714,
          "x1": 7.315301483348715,
          "y0": 9.007265659111884,
          "y1": 9.826465659111882
         },
         {
          "fillcolor": "lightblue",
          "line": {
           "color": "green",
           "width": 1
          },
          "opacity": 0.7,
          "type": "rect",
          "x0": 7.533492527289507,
          "x1": 8.78907461517109,
          "y0": 8.78907461517109,
          "y1": 10.044656703052675
         },
         {
          "fillcolor": "green",
          "line": {
           "color": "green",
           "width": 1
          },
          "opacity": 0.4,
          "type": "circle",
          "x0": 7.6860835712302995,
          "x1": 8.6364835712303,
          "y0": 8.941665659111884,
          "y1": 9.892065659111882
         },
         {
          "fillcolor": "yellow",
          "line": {
           "color": "yellow",
           "width": 1
          },
          "opacity": 0.7,
          "type": "circle",
          "x0": 7.743283571230299,
          "x1": 8.579283571230299,
          "y0": 8.998865659111884,
          "y1": 9.834865659111882
         },
         {
          "fillcolor": "#5f4584",
          "line": {
           "color": "red",
           "width": 1
          },
          "opacity": 0.9,
          "type": "circle",
          "x0": 7.751683571230299,
          "x1": 8.570883571230299,
          "y0": 9.007265659111884,
          "y1": 9.826465659111882
         },
         {
          "fillcolor": "lightblue",
          "line": {
           "color": "green",
           "width": 1
          },
          "opacity": 0.7,
          "type": "rect",
          "x0": 8.78907461517109,
          "x1": 10.044656703052675,
          "y0": 8.78907461517109,
          "y1": 10.044656703052675
         },
         {
          "fillcolor": "green",
          "line": {
           "color": "green",
           "width": 1
          },
          "opacity": 0.4,
          "type": "circle",
          "x0": 8.941665659111884,
          "x1": 9.892065659111882,
          "y0": 8.941665659111884,
          "y1": 9.892065659111882
         },
         {
          "fillcolor": "yellow",
          "line": {
           "color": "yellow",
           "width": 1
          },
          "opacity": 0.7,
          "type": "circle",
          "x0": 8.998865659111884,
          "x1": 9.834865659111882,
          "y0": 8.998865659111884,
          "y1": 9.834865659111882
         },
         {
          "fillcolor": "#c81414",
          "line": {
           "color": "red",
           "width": 1
          },
          "opacity": 0.9,
          "type": "circle",
          "x0": 9.007265659111884,
          "x1": 9.826465659111882,
          "y0": 9.007265659111884,
          "y1": 9.826465659111882
         }
        ],
        "showlegend": true,
        "template": {
         "data": {
          "bar": [
           {
            "error_x": {
             "color": "#2a3f5f"
            },
            "error_y": {
             "color": "#2a3f5f"
            },
            "marker": {
             "line": {
              "color": "#E5ECF6",
              "width": 0.5
             },
             "pattern": {
              "fillmode": "overlay",
              "size": 10,
              "solidity": 0.2
             }
            },
            "type": "bar"
           }
          ],
          "barpolar": [
           {
            "marker": {
             "line": {
              "color": "#E5ECF6",
              "width": 0.5
             },
             "pattern": {
              "fillmode": "overlay",
              "size": 10,
              "solidity": 0.2
             }
            },
            "type": "barpolar"
           }
          ],
          "carpet": [
           {
            "aaxis": {
             "endlinecolor": "#2a3f5f",
             "gridcolor": "white",
             "linecolor": "white",
             "minorgridcolor": "white",
             "startlinecolor": "#2a3f5f"
            },
            "baxis": {
             "endlinecolor": "#2a3f5f",
             "gridcolor": "white",
             "linecolor": "white",
             "minorgridcolor": "white",
             "startlinecolor": "#2a3f5f"
            },
            "type": "carpet"
           }
          ],
          "choropleth": [
           {
            "colorbar": {
             "outlinewidth": 0,
             "ticks": ""
            },
            "type": "choropleth"
           }
          ],
          "contour": [
           {
            "colorbar": {
             "outlinewidth": 0,
             "ticks": ""
            },
            "colorscale": [
             [
              0,
              "#0d0887"
             ],
             [
              0.1111111111111111,
              "#46039f"
             ],
             [
              0.2222222222222222,
              "#7201a8"
             ],
             [
              0.3333333333333333,
              "#9c179e"
             ],
             [
              0.4444444444444444,
              "#bd3786"
             ],
             [
              0.5555555555555556,
              "#d8576b"
             ],
             [
              0.6666666666666666,
              "#ed7953"
             ],
             [
              0.7777777777777778,
              "#fb9f3a"
             ],
             [
              0.8888888888888888,
              "#fdca26"
             ],
             [
              1,
              "#f0f921"
             ]
            ],
            "type": "contour"
           }
          ],
          "contourcarpet": [
           {
            "colorbar": {
             "outlinewidth": 0,
             "ticks": ""
            },
            "type": "contourcarpet"
           }
          ],
          "heatmap": [
           {
            "colorbar": {
             "outlinewidth": 0,
             "ticks": ""
            },
            "colorscale": [
             [
              0,
              "#0d0887"
             ],
             [
              0.1111111111111111,
              "#46039f"
             ],
             [
              0.2222222222222222,
              "#7201a8"
             ],
             [
              0.3333333333333333,
              "#9c179e"
             ],
             [
              0.4444444444444444,
              "#bd3786"
             ],
             [
              0.5555555555555556,
              "#d8576b"
             ],
             [
              0.6666666666666666,
              "#ed7953"
             ],
             [
              0.7777777777777778,
              "#fb9f3a"
             ],
             [
              0.8888888888888888,
              "#fdca26"
             ],
             [
              1,
              "#f0f921"
             ]
            ],
            "type": "heatmap"
           }
          ],
          "heatmapgl": [
           {
            "colorbar": {
             "outlinewidth": 0,
             "ticks": ""
            },
            "colorscale": [
             [
              0,
              "#0d0887"
             ],
             [
              0.1111111111111111,
              "#46039f"
             ],
             [
              0.2222222222222222,
              "#7201a8"
             ],
             [
              0.3333333333333333,
              "#9c179e"
             ],
             [
              0.4444444444444444,
              "#bd3786"
             ],
             [
              0.5555555555555556,
              "#d8576b"
             ],
             [
              0.6666666666666666,
              "#ed7953"
             ],
             [
              0.7777777777777778,
              "#fb9f3a"
             ],
             [
              0.8888888888888888,
              "#fdca26"
             ],
             [
              1,
              "#f0f921"
             ]
            ],
            "type": "heatmapgl"
           }
          ],
          "histogram": [
           {
            "marker": {
             "pattern": {
              "fillmode": "overlay",
              "size": 10,
              "solidity": 0.2
             }
            },
            "type": "histogram"
           }
          ],
          "histogram2d": [
           {
            "colorbar": {
             "outlinewidth": 0,
             "ticks": ""
            },
            "colorscale": [
             [
              0,
              "#0d0887"
             ],
             [
              0.1111111111111111,
              "#46039f"
             ],
             [
              0.2222222222222222,
              "#7201a8"
             ],
             [
              0.3333333333333333,
              "#9c179e"
             ],
             [
              0.4444444444444444,
              "#bd3786"
             ],
             [
              0.5555555555555556,
              "#d8576b"
             ],
             [
              0.6666666666666666,
              "#ed7953"
             ],
             [
              0.7777777777777778,
              "#fb9f3a"
             ],
             [
              0.8888888888888888,
              "#fdca26"
             ],
             [
              1,
              "#f0f921"
             ]
            ],
            "type": "histogram2d"
           }
          ],
          "histogram2dcontour": [
           {
            "colorbar": {
             "outlinewidth": 0,
             "ticks": ""
            },
            "colorscale": [
             [
              0,
              "#0d0887"
             ],
             [
              0.1111111111111111,
              "#46039f"
             ],
             [
              0.2222222222222222,
              "#7201a8"
             ],
             [
              0.3333333333333333,
              "#9c179e"
             ],
             [
              0.4444444444444444,
              "#bd3786"
             ],
             [
              0.5555555555555556,
              "#d8576b"
             ],
             [
              0.6666666666666666,
              "#ed7953"
             ],
             [
              0.7777777777777778,
              "#fb9f3a"
             ],
             [
              0.8888888888888888,
              "#fdca26"
             ],
             [
              1,
              "#f0f921"
             ]
            ],
            "type": "histogram2dcontour"
           }
          ],
          "mesh3d": [
           {
            "colorbar": {
             "outlinewidth": 0,
             "ticks": ""
            },
            "type": "mesh3d"
           }
          ],
          "parcoords": [
           {
            "line": {
             "colorbar": {
              "outlinewidth": 0,
              "ticks": ""
             }
            },
            "type": "parcoords"
           }
          ],
          "pie": [
           {
            "automargin": true,
            "type": "pie"
           }
          ],
          "scatter": [
           {
            "fillpattern": {
             "fillmode": "overlay",
             "size": 10,
             "solidity": 0.2
            },
            "type": "scatter"
           }
          ],
          "scatter3d": [
           {
            "line": {
             "colorbar": {
              "outlinewidth": 0,
              "ticks": ""
             }
            },
            "marker": {
             "colorbar": {
              "outlinewidth": 0,
              "ticks": ""
             }
            },
            "type": "scatter3d"
           }
          ],
          "scattercarpet": [
           {
            "marker": {
             "colorbar": {
              "outlinewidth": 0,
              "ticks": ""
             }
            },
            "type": "scattercarpet"
           }
          ],
          "scattergeo": [
           {
            "marker": {
             "colorbar": {
              "outlinewidth": 0,
              "ticks": ""
             }
            },
            "type": "scattergeo"
           }
          ],
          "scattergl": [
           {
            "marker": {
             "colorbar": {
              "outlinewidth": 0,
              "ticks": ""
             }
            },
            "type": "scattergl"
           }
          ],
          "scattermapbox": [
           {
            "marker": {
             "colorbar": {
              "outlinewidth": 0,
              "ticks": ""
             }
            },
            "type": "scattermapbox"
           }
          ],
          "scatterpolar": [
           {
            "marker": {
             "colorbar": {
              "outlinewidth": 0,
              "ticks": ""
             }
            },
            "type": "scatterpolar"
           }
          ],
          "scatterpolargl": [
           {
            "marker": {
             "colorbar": {
              "outlinewidth": 0,
              "ticks": ""
             }
            },
            "type": "scatterpolargl"
           }
          ],
          "scatterternary": [
           {
            "marker": {
             "colorbar": {
              "outlinewidth": 0,
              "ticks": ""
             }
            },
            "type": "scatterternary"
           }
          ],
          "surface": [
           {
            "colorbar": {
             "outlinewidth": 0,
             "ticks": ""
            },
            "colorscale": [
             [
              0,
              "#0d0887"
             ],
             [
              0.1111111111111111,
              "#46039f"
             ],
             [
              0.2222222222222222,
              "#7201a8"
             ],
             [
              0.3333333333333333,
              "#9c179e"
             ],
             [
              0.4444444444444444,
              "#bd3786"
             ],
             [
              0.5555555555555556,
              "#d8576b"
             ],
             [
              0.6666666666666666,
              "#ed7953"
             ],
             [
              0.7777777777777778,
              "#fb9f3a"
             ],
             [
              0.8888888888888888,
              "#fdca26"
             ],
             [
              1,
              "#f0f921"
             ]
            ],
            "type": "surface"
           }
          ],
          "table": [
           {
            "cells": {
             "fill": {
              "color": "#EBF0F8"
             },
             "line": {
              "color": "white"
             }
            },
            "header": {
             "fill": {
              "color": "#C8D4E3"
             },
             "line": {
              "color": "white"
             }
            },
            "type": "table"
           }
          ]
         },
         "layout": {
          "annotationdefaults": {
           "arrowcolor": "#2a3f5f",
           "arrowhead": 0,
           "arrowwidth": 1
          },
          "autotypenumbers": "strict",
          "coloraxis": {
           "colorbar": {
            "outlinewidth": 0,
            "ticks": ""
           }
          },
          "colorscale": {
           "diverging": [
            [
             0,
             "#8e0152"
            ],
            [
             0.1,
             "#c51b7d"
            ],
            [
             0.2,
             "#de77ae"
            ],
            [
             0.3,
             "#f1b6da"
            ],
            [
             0.4,
             "#fde0ef"
            ],
            [
             0.5,
             "#f7f7f7"
            ],
            [
             0.6,
             "#e6f5d0"
            ],
            [
             0.7,
             "#b8e186"
            ],
            [
             0.8,
             "#7fbc41"
            ],
            [
             0.9,
             "#4d9221"
            ],
            [
             1,
             "#276419"
            ]
           ],
           "sequential": [
            [
             0,
             "#0d0887"
            ],
            [
             0.1111111111111111,
             "#46039f"
            ],
            [
             0.2222222222222222,
             "#7201a8"
            ],
            [
             0.3333333333333333,
             "#9c179e"
            ],
            [
             0.4444444444444444,
             "#bd3786"
            ],
            [
             0.5555555555555556,
             "#d8576b"
            ],
            [
             0.6666666666666666,
             "#ed7953"
            ],
            [
             0.7777777777777778,
             "#fb9f3a"
            ],
            [
             0.8888888888888888,
             "#fdca26"
            ],
            [
             1,
             "#f0f921"
            ]
           ],
           "sequentialminus": [
            [
             0,
             "#0d0887"
            ],
            [
             0.1111111111111111,
             "#46039f"
            ],
            [
             0.2222222222222222,
             "#7201a8"
            ],
            [
             0.3333333333333333,
             "#9c179e"
            ],
            [
             0.4444444444444444,
             "#bd3786"
            ],
            [
             0.5555555555555556,
             "#d8576b"
            ],
            [
             0.6666666666666666,
             "#ed7953"
            ],
            [
             0.7777777777777778,
             "#fb9f3a"
            ],
            [
             0.8888888888888888,
             "#fdca26"
            ],
            [
             1,
             "#f0f921"
            ]
           ]
          },
          "colorway": [
           "#636efa",
           "#EF553B",
           "#00cc96",
           "#ab63fa",
           "#FFA15A",
           "#19d3f3",
           "#FF6692",
           "#B6E880",
           "#FF97FF",
           "#FECB52"
          ],
          "font": {
           "color": "#2a3f5f"
          },
          "geo": {
           "bgcolor": "white",
           "lakecolor": "white",
           "landcolor": "#E5ECF6",
           "showlakes": true,
           "showland": true,
           "subunitcolor": "white"
          },
          "hoverlabel": {
           "align": "left"
          },
          "hovermode": "closest",
          "mapbox": {
           "style": "light"
          },
          "paper_bgcolor": "white",
          "plot_bgcolor": "#E5ECF6",
          "polar": {
           "angularaxis": {
            "gridcolor": "white",
            "linecolor": "white",
            "ticks": ""
           },
           "bgcolor": "#E5ECF6",
           "radialaxis": {
            "gridcolor": "white",
            "linecolor": "white",
            "ticks": ""
           }
          },
          "scene": {
           "xaxis": {
            "backgroundcolor": "#E5ECF6",
            "gridcolor": "white",
            "gridwidth": 2,
            "linecolor": "white",
            "showbackground": true,
            "ticks": "",
            "zerolinecolor": "white"
           },
           "yaxis": {
            "backgroundcolor": "#E5ECF6",
            "gridcolor": "white",
            "gridwidth": 2,
            "linecolor": "white",
            "showbackground": true,
            "ticks": "",
            "zerolinecolor": "white"
           },
           "zaxis": {
            "backgroundcolor": "#E5ECF6",
            "gridcolor": "white",
            "gridwidth": 2,
            "linecolor": "white",
            "showbackground": true,
            "ticks": "",
            "zerolinecolor": "white"
           }
          },
          "shapedefaults": {
           "line": {
            "color": "#2a3f5f"
           }
          },
          "ternary": {
           "aaxis": {
            "gridcolor": "white",
            "linecolor": "white",
            "ticks": ""
           },
           "baxis": {
            "gridcolor": "white",
            "linecolor": "white",
            "ticks": ""
           },
           "bgcolor": "#E5ECF6",
           "caxis": {
            "gridcolor": "white",
            "linecolor": "white",
            "ticks": ""
           }
          },
          "title": {
           "x": 0.05
          },
          "xaxis": {
           "automargin": true,
           "gridcolor": "white",
           "linecolor": "white",
           "ticks": "",
           "title": {
            "standoff": 15
           },
           "zerolinecolor": "white",
           "zerolinewidth": 2
          },
          "yaxis": {
           "automargin": true,
           "gridcolor": "white",
           "linecolor": "white",
           "ticks": "",
           "title": {
            "standoff": 15
           },
           "zerolinecolor": "white",
           "zerolinewidth": 2
          }
         }
        },
        "title": {
         "text": "Fuel Assembly Layout (1/4 Symmetry)"
        },
        "width": 800,
        "xaxis": {
         "gridcolor": "lightgrey",
         "range": [
          0,
          11.044656703052675
         ],
         "scaleanchor": "y",
         "scaleratio": 1,
         "zeroline": true,
         "zerolinecolor": "black",
         "zerolinewidth": 2
        },
        "yaxis": {
         "gridcolor": "lightgrey",
         "range": [
          0,
          11.044656703052675
         ],
         "zeroline": true,
         "zerolinecolor": "black",
         "zerolinewidth": 2
        }
       }
      }
     },
     "metadata": {},
     "output_type": "display_data"
    },
    {
     "data": {
      "text/plain": [
       "0"
      ]
     },
     "execution_count": 7,
     "metadata": {},
     "output_type": "execute_result"
    }
   ],
   "source": [
    "# Usage example of the FA visualizer\n",
    "\n",
    "filename = \"17_FA_Input_str.txt\"\n",
    "params = info_reader(filename)  # Gets reactor parameters\n",
    "analysis = FA_reader(filename)  # Gets FA map analysis\n",
    "FA_visualizer(params, analysis)"
   ]
  }
 ],
 "metadata": {
  "kernelspec": {
   "display_name": "Python 3",
   "language": "python",
   "name": "python3"
  },
  "language_info": {
   "codemirror_mode": {
    "name": "ipython",
    "version": 3
   },
   "file_extension": ".py",
   "mimetype": "text/x-python",
   "name": "python",
   "nbconvert_exporter": "python",
   "pygments_lexer": "ipython3",
   "version": "3.12.3"
  }
 },
 "nbformat": 4,
 "nbformat_minor": 2
}
